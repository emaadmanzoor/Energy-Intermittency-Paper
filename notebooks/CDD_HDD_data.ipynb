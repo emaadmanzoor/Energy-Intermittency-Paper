{
 "cells": [
  {
   "cell_type": "code",
   "execution_count": 1,
   "metadata": {},
   "outputs": [],
   "source": [
    "import pandas as pd\n",
    "import numpy as np\n",
    "import urllib.request"
   ]
  },
  {
   "cell_type": "code",
   "execution_count": 2,
   "metadata": {},
   "outputs": [],
   "source": [
    "data_dir = '../data/'\n",
    "tmpr_dir = '../data/controls/'"
   ]
  },
  {
   "cell_type": "markdown",
   "metadata": {},
   "source": [
    "### State Codes"
   ]
  },
  {
   "cell_type": "code",
   "execution_count": 3,
   "metadata": {},
   "outputs": [],
   "source": [
    "# MSN Codes Key\n",
    "msn_codes_file_loc = data_dir + 'keys/MSN.csv'\n",
    "msn_codes_key = pd.read_csv(msn_codes_file_loc)\n",
    "\n",
    "# State FIPS Codes\n",
    "state_fips_file_loc = data_dir + 'keys/FIPS.csv'\n",
    "state_fips_key = pd.read_csv(state_fips_file_loc)\n",
    "state_fips_indicators = ['State Abbreviation', 'State Name']\n",
    "\n",
    "# State NCDC Codes\n",
    "state_ncdc_file_loc = data_dir + 'keys/NCDC.csv'\n",
    "state_ncdc_key = pd.read_csv(state_ncdc_file_loc)\n",
    "state_ncdc_key['State Name'] = state_ncdc_key['State Name'].str.upper()\n",
    "\n",
    "# Merged State Codes Key\n",
    "state_codes_key = state_ncdc_key.merge(state_fips_key)"
   ]
  },
  {
   "cell_type": "code",
   "execution_count": 4,
   "metadata": {},
   "outputs": [],
   "source": [
    "# For converting NCDC to state name\n",
    "ncdc_state_dict = dict(state_codes_key.set_index('NCDC Code')['State Name'].apply(lambda x: x.lower()))"
   ]
  },
  {
   "cell_type": "markdown",
   "metadata": {},
   "source": [
    "### CDD and HDD"
   ]
  },
  {
   "cell_type": "code",
   "execution_count": 5,
   "metadata": {},
   "outputs": [],
   "source": [
    "# CDD\n",
    "cdd_file_loc = tmpr_dir + 'CDD_State.txt'\n",
    "data_cdd = pd.read_fwf(cdd_file_loc, header = None, index = None, converters={0: lambda x: str(x)})\n",
    "\n",
    "# HDD\n",
    "hdd_file_loc = tmpr_dir + 'HDD_State.txt'\n",
    "data_hdd = pd.read_fwf(hdd_file_loc, header = None, index = None, converters={0: lambda x: str(x)})\n",
    "\n",
    "# Translate first column \n",
    "data_cdd['NCDC Code'] = data_cdd[0].apply(lambda x: int(str(x)[:3]))\n",
    "data_cdd['year'] = data_cdd[0].apply(lambda x: str(x)[-4:])\n",
    "data_hdd['NCDC Code'] = data_hdd[0].apply(lambda x: int(str(x)[:3]))\n",
    "data_hdd['year'] = data_hdd[0].apply(lambda x: str(x)[-4:])\n",
    "\n",
    "# Drop unnecessary columns\n",
    "data_cdd = data_cdd.drop([0], axis = 1)\n",
    "data_hdd = data_hdd.drop([0], axis = 1)\n",
    "\n",
    "# Melt months columns\n",
    "data_cdd = data_cdd.melt(id_vars = ['NCDC Code', 'year'], value_vars = data_cdd.columns[0:12], var_name='month', value_name='CDD')\n",
    "data_hdd = data_hdd.melt(id_vars = ['NCDC Code', 'year'], value_vars = data_hdd.columns[0:12], var_name='month', value_name='HDD')\n",
    "\n",
    "# Merge\n",
    "data_dd = data_cdd.merge(data_hdd, on = ['year', 'month', 'NCDC Code'])\n",
    "data_dd['state'] = data_dd['NCDC Code'].apply(lambda x: ncdc_state_dict.get(x))\n",
    "data_dd = data_dd.drop('NCDC Code', axis = 1)\n",
    "\n",
    "# Remove undefined\n",
    "data_dd = data_dd.query('CDD != 99 & CDD != 999 & HDD != 9999')"
   ]
  },
  {
   "cell_type": "code",
   "execution_count": 27,
   "metadata": {},
   "outputs": [
    {
     "data": {
      "text/html": [
       "<div>\n",
       "<style scoped>\n",
       "    .dataframe tbody tr th:only-of-type {\n",
       "        vertical-align: middle;\n",
       "    }\n",
       "\n",
       "    .dataframe tbody tr th {\n",
       "        vertical-align: top;\n",
       "    }\n",
       "\n",
       "    .dataframe thead th {\n",
       "        text-align: right;\n",
       "    }\n",
       "</style>\n",
       "<table border=\"1\" class=\"dataframe\">\n",
       "  <thead>\n",
       "    <tr style=\"text-align: right;\">\n",
       "      <th></th>\n",
       "      <th>0</th>\n",
       "      <th>1</th>\n",
       "      <th>2</th>\n",
       "      <th>3</th>\n",
       "      <th>4</th>\n",
       "      <th>5</th>\n",
       "      <th>6</th>\n",
       "      <th>7</th>\n",
       "      <th>8</th>\n",
       "      <th>9</th>\n",
       "      <th>10</th>\n",
       "      <th>11</th>\n",
       "      <th>12</th>\n",
       "    </tr>\n",
       "  </thead>\n",
       "  <tbody>\n",
       "    <tr>\n",
       "      <th>0</th>\n",
       "      <td>0010261895</td>\n",
       "      <td>5.0</td>\n",
       "      <td>0.0</td>\n",
       "      <td>18.0</td>\n",
       "      <td>49.0</td>\n",
       "      <td>156.0</td>\n",
       "      <td>360.0</td>\n",
       "      <td>420.0</td>\n",
       "      <td>437.0</td>\n",
       "      <td>366.0</td>\n",
       "      <td>29.0</td>\n",
       "      <td>4.0</td>\n",
       "      <td>1.0</td>\n",
       "    </tr>\n",
       "    <tr>\n",
       "      <th>1</th>\n",
       "      <td>0010261896</td>\n",
       "      <td>4.0</td>\n",
       "      <td>3.0</td>\n",
       "      <td>12.0</td>\n",
       "      <td>118.0</td>\n",
       "      <td>320.0</td>\n",
       "      <td>355.0</td>\n",
       "      <td>488.0</td>\n",
       "      <td>522.0</td>\n",
       "      <td>306.0</td>\n",
       "      <td>61.0</td>\n",
       "      <td>20.0</td>\n",
       "      <td>2.0</td>\n",
       "    </tr>\n",
       "    <tr>\n",
       "      <th>2</th>\n",
       "      <td>0010261897</td>\n",
       "      <td>4.0</td>\n",
       "      <td>11.0</td>\n",
       "      <td>56.0</td>\n",
       "      <td>39.0</td>\n",
       "      <td>144.0</td>\n",
       "      <td>465.0</td>\n",
       "      <td>497.0</td>\n",
       "      <td>415.0</td>\n",
       "      <td>309.0</td>\n",
       "      <td>121.0</td>\n",
       "      <td>8.0</td>\n",
       "      <td>3.0</td>\n",
       "    </tr>\n",
       "    <tr>\n",
       "      <th>3</th>\n",
       "      <td>0010261898</td>\n",
       "      <td>19.0</td>\n",
       "      <td>2.0</td>\n",
       "      <td>45.0</td>\n",
       "      <td>13.0</td>\n",
       "      <td>269.0</td>\n",
       "      <td>446.0</td>\n",
       "      <td>457.0</td>\n",
       "      <td>421.0</td>\n",
       "      <td>298.0</td>\n",
       "      <td>37.0</td>\n",
       "      <td>1.0</td>\n",
       "      <td>1.0</td>\n",
       "    </tr>\n",
       "    <tr>\n",
       "      <th>4</th>\n",
       "      <td>0010261899</td>\n",
       "      <td>5.0</td>\n",
       "      <td>0.0</td>\n",
       "      <td>24.0</td>\n",
       "      <td>32.0</td>\n",
       "      <td>331.0</td>\n",
       "      <td>436.0</td>\n",
       "      <td>466.0</td>\n",
       "      <td>490.0</td>\n",
       "      <td>226.0</td>\n",
       "      <td>105.0</td>\n",
       "      <td>12.0</td>\n",
       "      <td>2.0</td>\n",
       "    </tr>\n",
       "  </tbody>\n",
       "</table>\n",
       "</div>"
      ],
      "text/plain": [
       "           0     1     2     3      4      5      6      7      8      9   \\\n",
       "0  0010261895   5.0   0.0  18.0   49.0  156.0  360.0  420.0  437.0  366.0   \n",
       "1  0010261896   4.0   3.0  12.0  118.0  320.0  355.0  488.0  522.0  306.0   \n",
       "2  0010261897   4.0  11.0  56.0   39.0  144.0  465.0  497.0  415.0  309.0   \n",
       "3  0010261898  19.0   2.0  45.0   13.0  269.0  446.0  457.0  421.0  298.0   \n",
       "4  0010261899   5.0   0.0  24.0   32.0  331.0  436.0  466.0  490.0  226.0   \n",
       "\n",
       "      10    11   12  \n",
       "0   29.0   4.0  1.0  \n",
       "1   61.0  20.0  2.0  \n",
       "2  121.0   8.0  3.0  \n",
       "3   37.0   1.0  1.0  \n",
       "4  105.0  12.0  2.0  "
      ]
     },
     "execution_count": 27,
     "metadata": {},
     "output_type": "execute_result"
    }
   ],
   "source": [
    "pd.read_fwf(cdd_file_loc, header = None, index = None, converters={0: lambda x: str(x)}).head()"
   ]
  },
  {
   "cell_type": "code",
   "execution_count": 91,
   "metadata": {},
   "outputs": [],
   "source": [
    "data_dd.to_csv('../data/controls/state_monthly_hdd_cdd.csv', index=False)"
   ]
  }
 ],
 "metadata": {
  "kernelspec": {
   "display_name": "Python 3",
   "language": "python",
   "name": "python3"
  },
  "language_info": {
   "codemirror_mode": {
    "name": "ipython",
    "version": 3
   },
   "file_extension": ".py",
   "mimetype": "text/x-python",
   "name": "python",
   "nbconvert_exporter": "python",
   "pygments_lexer": "ipython3",
   "version": "3.5.2"
  },
  "toc": {
   "base_numbering": 1,
   "nav_menu": {},
   "number_sections": true,
   "sideBar": true,
   "skip_h1_title": false,
   "title_cell": "Table of Contents",
   "title_sidebar": "Contents",
   "toc_cell": false,
   "toc_position": {},
   "toc_section_display": true,
   "toc_window_display": true
  }
 },
 "nbformat": 4,
 "nbformat_minor": 2
}
