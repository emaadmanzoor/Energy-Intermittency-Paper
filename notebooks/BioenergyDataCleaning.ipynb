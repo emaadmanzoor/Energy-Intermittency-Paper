{
 "cells": [
  {
   "cell_type": "code",
   "execution_count": 1,
   "metadata": {},
   "outputs": [],
   "source": [
    "import pandas as pd\n",
    "import numpy as np"
   ]
  },
  {
   "cell_type": "markdown",
   "metadata": {},
   "source": [
    "# Import Data"
   ]
  },
  {
   "cell_type": "code",
   "execution_count": 2,
   "metadata": {},
   "outputs": [],
   "source": [
    "bioenergy_raw_df = pd.read_csv('../data/bioenergy/bioenergy_state.csv', low_memory = False)"
   ]
  },
  {
   "cell_type": "markdown",
   "metadata": {},
   "source": [
    "# Clean Data"
   ]
  },
  {
   "cell_type": "code",
   "execution_count": 3,
   "metadata": {},
   "outputs": [],
   "source": [
    "# panel groups\n",
    "pgroups = ['Year', 'State', 'Resource Type', 'Feedstock', 'Scenario']\n",
    "pgroups_noyr = pgroups[1:]"
   ]
  },
  {
   "cell_type": "code",
   "execution_count": 4,
   "metadata": {},
   "outputs": [],
   "source": [
    "# Sum up production to total values for each unique panel group\n",
    "bioenergy_df = bioenergy_raw_df.groupby(pgroups).sum()['Production'].reset_index()"
   ]
  },
  {
   "cell_type": "code",
   "execution_count": 5,
   "metadata": {},
   "outputs": [],
   "source": [
    "# Subset by year\n",
    "bioenergy_df = bioenergy_df.query('Year in [2015, 2016, 2017]')"
   ]
  },
  {
   "cell_type": "code",
   "execution_count": 6,
   "metadata": {},
   "outputs": [],
   "source": [
    "# Total production of each waste type\n",
    "bioenergy_df['Waste_Type_Total_Production'] = bioenergy_df.groupby([x for x in pgroups if x is not 'Feedstock']\n",
    "                                                                  )['Production'].transform(sum)"
   ]
  },
  {
   "cell_type": "code",
   "execution_count": 7,
   "metadata": {},
   "outputs": [],
   "source": [
    "# Add yearly averages\n",
    "\n",
    "temp_avg_df = bioenergy_df.groupby(pgroups_noyr).aggregate(\n",
    "    {'Production': 'mean', 'Waste_Type_Total_Production': 'mean'}).reset_index()\n",
    "\n",
    "temp_avg_df.rename(columns = {'Production': 'Avg_Production', 'Waste_Type_Total_Production': 'Avg_Waste_Type_Total_Production'},\n",
    "                  inplace = True)\n",
    "\n",
    "bioenergy_df = bioenergy_df.merge(temp_avg_df, on = pgroups_noyr)"
   ]
  },
  {
   "cell_type": "code",
   "execution_count": 8,
   "metadata": {},
   "outputs": [],
   "source": [
    "# Feedstock production as a percent of Waste Type\n",
    "\n",
    "bioenergy_df['Production_Pct'] = np.divide(bioenergy_df['Production'], bioenergy_df['Waste_Type_Total_Production'])\n",
    "bioenergy_df['Avg_Production_Pct'] = np.divide(bioenergy_df['Avg_Production'], bioenergy_df['Avg_Waste_Type_Total_Production'])"
   ]
  },
  {
   "cell_type": "code",
   "execution_count": 9,
   "metadata": {},
   "outputs": [
    {
     "data": {
      "text/plain": [
       "Index(['Year', 'State', 'Resource Type', 'Feedstock', 'Scenario', 'Production',\n",
       "       'Waste_Type_Total_Production', 'Avg_Production',\n",
       "       'Avg_Waste_Type_Total_Production', 'Production_Pct',\n",
       "       'Avg_Production_Pct'],\n",
       "      dtype='object')"
      ]
     },
     "execution_count": 9,
     "metadata": {},
     "output_type": "execute_result"
    }
   ],
   "source": [
    "bioenergy_df.columns"
   ]
  },
  {
   "cell_type": "code",
   "execution_count": 10,
   "metadata": {},
   "outputs": [
    {
     "data": {
      "text/html": [
       "<div>\n",
       "<style scoped>\n",
       "    .dataframe tbody tr th:only-of-type {\n",
       "        vertical-align: middle;\n",
       "    }\n",
       "\n",
       "    .dataframe tbody tr th {\n",
       "        vertical-align: top;\n",
       "    }\n",
       "\n",
       "    .dataframe thead th {\n",
       "        text-align: right;\n",
       "    }\n",
       "</style>\n",
       "<table border=\"1\" class=\"dataframe\">\n",
       "  <thead>\n",
       "    <tr style=\"text-align: right;\">\n",
       "      <th></th>\n",
       "      <th>Year</th>\n",
       "      <th>State</th>\n",
       "      <th>Resource Type</th>\n",
       "      <th>Scenario</th>\n",
       "      <th>Feedstock</th>\n",
       "      <th>Production</th>\n",
       "      <th>Waste_Type_Total_Production</th>\n",
       "      <th>Avg_Production</th>\n",
       "      <th>Avg_Waste_Type_Total_Production</th>\n",
       "      <th>Production_Pct</th>\n",
       "      <th>Avg_Production_Pct</th>\n",
       "    </tr>\n",
       "  </thead>\n",
       "  <tbody>\n",
       "    <tr>\n",
       "      <th>0</th>\n",
       "      <td>2015</td>\n",
       "      <td>Alabama</td>\n",
       "      <td>Ag Residues</td>\n",
       "      <td>Wastes and other residues</td>\n",
       "      <td>Citrus residues</td>\n",
       "      <td>948.800</td>\n",
       "      <td>1073389.900</td>\n",
       "      <td>952.000000</td>\n",
       "      <td>1.086219e+06</td>\n",
       "      <td>0.000884</td>\n",
       "      <td>0.000876</td>\n",
       "    </tr>\n",
       "    <tr>\n",
       "      <th>1</th>\n",
       "      <td>2016</td>\n",
       "      <td>Alabama</td>\n",
       "      <td>Ag Residues</td>\n",
       "      <td>Wastes and other residues</td>\n",
       "      <td>Citrus residues</td>\n",
       "      <td>952.000</td>\n",
       "      <td>1086208.100</td>\n",
       "      <td>952.000000</td>\n",
       "      <td>1.086219e+06</td>\n",
       "      <td>0.000876</td>\n",
       "      <td>0.000876</td>\n",
       "    </tr>\n",
       "    <tr>\n",
       "      <th>2</th>\n",
       "      <td>2017</td>\n",
       "      <td>Alabama</td>\n",
       "      <td>Ag Residues</td>\n",
       "      <td>Wastes and other residues</td>\n",
       "      <td>Citrus residues</td>\n",
       "      <td>955.200</td>\n",
       "      <td>1099059.100</td>\n",
       "      <td>952.000000</td>\n",
       "      <td>1.086219e+06</td>\n",
       "      <td>0.000869</td>\n",
       "      <td>0.000876</td>\n",
       "    </tr>\n",
       "    <tr>\n",
       "      <th>3</th>\n",
       "      <td>2015</td>\n",
       "      <td>Alabama</td>\n",
       "      <td>Ag Residues</td>\n",
       "      <td>2% yield inc.</td>\n",
       "      <td>Corn stover</td>\n",
       "      <td>571490.912</td>\n",
       "      <td>571490.912</td>\n",
       "      <td>573992.910333</td>\n",
       "      <td>5.739929e+05</td>\n",
       "      <td>1.000000</td>\n",
       "      <td>1.000000</td>\n",
       "    </tr>\n",
       "    <tr>\n",
       "      <th>4</th>\n",
       "      <td>2016</td>\n",
       "      <td>Alabama</td>\n",
       "      <td>Ag Residues</td>\n",
       "      <td>2% yield inc.</td>\n",
       "      <td>Corn stover</td>\n",
       "      <td>571018.141</td>\n",
       "      <td>571018.141</td>\n",
       "      <td>573992.910333</td>\n",
       "      <td>5.739929e+05</td>\n",
       "      <td>1.000000</td>\n",
       "      <td>1.000000</td>\n",
       "    </tr>\n",
       "  </tbody>\n",
       "</table>\n",
       "</div>"
      ],
      "text/plain": [
       "   Year    State Resource Type                   Scenario        Feedstock  \\\n",
       "0  2015  Alabama   Ag Residues  Wastes and other residues  Citrus residues   \n",
       "1  2016  Alabama   Ag Residues  Wastes and other residues  Citrus residues   \n",
       "2  2017  Alabama   Ag Residues  Wastes and other residues  Citrus residues   \n",
       "3  2015  Alabama   Ag Residues              2% yield inc.      Corn stover   \n",
       "4  2016  Alabama   Ag Residues              2% yield inc.      Corn stover   \n",
       "\n",
       "   Production  Waste_Type_Total_Production  Avg_Production  \\\n",
       "0     948.800                  1073389.900      952.000000   \n",
       "1     952.000                  1086208.100      952.000000   \n",
       "2     955.200                  1099059.100      952.000000   \n",
       "3  571490.912                   571490.912   573992.910333   \n",
       "4  571018.141                   571018.141   573992.910333   \n",
       "\n",
       "   Avg_Waste_Type_Total_Production  Production_Pct  Avg_Production_Pct  \n",
       "0                     1.086219e+06        0.000884            0.000876  \n",
       "1                     1.086219e+06        0.000876            0.000876  \n",
       "2                     1.086219e+06        0.000869            0.000876  \n",
       "3                     5.739929e+05        1.000000            1.000000  \n",
       "4                     5.739929e+05        1.000000            1.000000  "
      ]
     },
     "execution_count": 10,
     "metadata": {},
     "output_type": "execute_result"
    }
   ],
   "source": [
    "main_cols = ['Year', 'State', 'Resource Type', 'Scenario', 'Feedstock', 'Production', 'Waste_Type_Total_Production',\n",
    "            'Avg_Production', 'Avg_Waste_Type_Total_Production', 'Production_Pct', 'Avg_Production_Pct']\n",
    "bioenergy_df[main_cols].head()"
   ]
  },
  {
   "cell_type": "markdown",
   "metadata": {},
   "source": [
    "# Export"
   ]
  },
  {
   "cell_type": "code",
   "execution_count": 11,
   "metadata": {},
   "outputs": [],
   "source": [
    "bioenergy_df[main_cols].groupby(pgroups).first().to_excel('../data/bioenergy/bioenergy_clean.xlsx', \n",
    "                                                          merge_cells = False, freeze_panes = (1,5))"
   ]
  },
  {
   "cell_type": "code",
   "execution_count": 12,
   "metadata": {},
   "outputs": [],
   "source": [
    "feedstocks_df = bioenergy_raw_df.groupby(['Resource Type', 'Feedstock'])['Production Density'].first().reset_index()\n",
    "feedstocks_df.rename(columns = {'Production Density': 'Production Unit'}, inplace = True)\n",
    "feedstocks_df.to_excel('../data/bioenergy/bioenergy_sources.xlsx', index = False)"
   ]
  }
 ],
 "metadata": {
  "kernelspec": {
   "display_name": "Python 3",
   "language": "python",
   "name": "python3"
  },
  "language_info": {
   "codemirror_mode": {
    "name": "ipython",
    "version": 3
   },
   "file_extension": ".py",
   "mimetype": "text/x-python",
   "name": "python",
   "nbconvert_exporter": "python",
   "pygments_lexer": "ipython3",
   "version": "3.5.2"
  },
  "toc": {
   "base_numbering": 1,
   "nav_menu": {},
   "number_sections": true,
   "sideBar": true,
   "skip_h1_title": false,
   "title_cell": "Table of Contents",
   "title_sidebar": "Contents",
   "toc_cell": false,
   "toc_position": {},
   "toc_section_display": true,
   "toc_window_display": true
  }
 },
 "nbformat": 4,
 "nbformat_minor": 2
}
