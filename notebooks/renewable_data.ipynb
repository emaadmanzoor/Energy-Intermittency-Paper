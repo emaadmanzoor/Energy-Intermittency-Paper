{
 "cells": [
  {
   "cell_type": "code",
   "execution_count": 27,
   "metadata": {},
   "outputs": [],
   "source": [
    "import numpy as np\n",
    "import pandas as pd"
   ]
  },
  {
   "cell_type": "code",
   "execution_count": 28,
   "metadata": {},
   "outputs": [],
   "source": [
    "data_dir  = '../data/'"
   ]
  },
  {
   "cell_type": "markdown",
   "metadata": {},
   "source": [
    "## Import Data"
   ]
  },
  {
   "cell_type": "code",
   "execution_count": 29,
   "metadata": {},
   "outputs": [],
   "source": [
    "# Solar data\n",
    "solar_data_file_loc = data_dir + 'processed/solar_data.csv'\n",
    "solar_data = pd.read_csv(solar_data_file_loc)\n",
    "\n",
    "# Wind data\n",
    "wind_data_file_loc = data_dir + 'processed/wind_data.csv'\n",
    "wind_data = pd.read_csv(wind_data_file_loc)\n",
    "\n",
    "# Population data\n",
    "pop_data_file_loc = data_dir + 'state/state_population.csv'\n",
    "pop_data = pd.read_csv(pop_data_file_loc)\n",
    "\n",
    "# State Area data\n",
    "area_data_file_loc = data_dir + 'state/state_area.csv'\n",
    "area_data = pd.read_csv(area_data_file_loc)"
   ]
  },
  {
   "cell_type": "code",
   "execution_count": 30,
   "metadata": {},
   "outputs": [],
   "source": [
    "# State FIPS Codes\n",
    "state_fips_file_loc = data_dir + 'keys/state_FIPS.csv'\n",
    "state_fips_key = pd.read_csv(state_fips_file_loc)\n",
    "state_fips_indicators = ['State Abbreviation', 'State Name']"
   ]
  },
  {
   "cell_type": "markdown",
   "metadata": {},
   "source": [
    "## Clean Data"
   ]
  },
  {
   "cell_type": "code",
   "execution_count": 31,
   "metadata": {},
   "outputs": [],
   "source": [
    "# Pop data FIPS codes\n",
    "pop_data = pop_data.rename(columns = {'State': 'State Name'})\n",
    "pop_data['State Name'] = pop_data['State Name'].apply(lambda x: x[1:]).str.upper()\n",
    "pop_data = pop_data.merge(state_fips_key).drop(state_fips_indicators, axis = 1)"
   ]
  },
  {
   "cell_type": "code",
   "execution_count": 32,
   "metadata": {},
   "outputs": [],
   "source": [
    "# Convert areas from km2 to m2\n",
    "for col in area_data.columns:\n",
    "    if 'Area' in col:\n",
    "        area_data[col] = area_data[col].apply(lambda x: float(x)*(1000**2))\n",
    "\n",
    "# Area data FIPS codes\n",
    "area_data['State Name'] = area_data['State Name'].str.upper()\n",
    "area_data = area_data.merge(state_fips_key).drop(state_fips_indicators, axis = 1)"
   ]
  },
  {
   "cell_type": "markdown",
   "metadata": {},
   "source": [
    "## Merge Data"
   ]
  },
  {
   "cell_type": "code",
   "execution_count": 33,
   "metadata": {},
   "outputs": [
    {
     "data": {
      "text/html": [
       "<div>\n",
       "<style scoped>\n",
       "    .dataframe tbody tr th:only-of-type {\n",
       "        vertical-align: middle;\n",
       "    }\n",
       "\n",
       "    .dataframe tbody tr th {\n",
       "        vertical-align: top;\n",
       "    }\n",
       "\n",
       "    .dataframe thead th {\n",
       "        text-align: right;\n",
       "    }\n",
       "</style>\n",
       "<table border=\"1\" class=\"dataframe\">\n",
       "  <thead>\n",
       "    <tr style=\"text-align: right;\">\n",
       "      <th></th>\n",
       "      <th>Population</th>\n",
       "      <th>State FIPS</th>\n",
       "      <th>month</th>\n",
       "      <th>solar_avg_rad</th>\n",
       "      <th>NCDC Code</th>\n",
       "      <th>solar_net_gen_all</th>\n",
       "      <th>solar_net_gen_elc</th>\n",
       "      <th>elc_price_all</th>\n",
       "      <th>elc_price_com</th>\n",
       "      <th>elc_price_ind</th>\n",
       "      <th>...</th>\n",
       "      <th>wind_net_gen_all</th>\n",
       "      <th>wind_net_gen_elc</th>\n",
       "      <th>Avg_Wind_Speed</th>\n",
       "      <th>Total_Area</th>\n",
       "      <th>Land_Area</th>\n",
       "      <th>Water_Area</th>\n",
       "      <th>Water_Inland_Area</th>\n",
       "      <th>Water_Coastal_Area</th>\n",
       "      <th>Water_Great_Lakes_Area</th>\n",
       "      <th>Water_Territorial_Area</th>\n",
       "    </tr>\n",
       "  </thead>\n",
       "  <tbody>\n",
       "    <tr>\n",
       "      <th>0</th>\n",
       "      <td>4860545</td>\n",
       "      <td>1</td>\n",
       "      <td>1</td>\n",
       "      <td>0.00387</td>\n",
       "      <td>1</td>\n",
       "      <td>0.0</td>\n",
       "      <td>0.0</td>\n",
       "      <td>89.4</td>\n",
       "      <td>107.9</td>\n",
       "      <td>53.6</td>\n",
       "      <td>...</td>\n",
       "      <td>0.0</td>\n",
       "      <td>0.0</td>\n",
       "      <td>4.232283</td>\n",
       "      <td>1.357670e+11</td>\n",
       "      <td>1.311710e+11</td>\n",
       "      <td>4.597000e+09</td>\n",
       "      <td>2.740000e+09</td>\n",
       "      <td>1.340000e+09</td>\n",
       "      <td>0.0</td>\n",
       "      <td>516000000.0</td>\n",
       "    </tr>\n",
       "    <tr>\n",
       "      <th>1</th>\n",
       "      <td>4860545</td>\n",
       "      <td>1</td>\n",
       "      <td>2</td>\n",
       "      <td>0.00431</td>\n",
       "      <td>1</td>\n",
       "      <td>0.0</td>\n",
       "      <td>0.0</td>\n",
       "      <td>90.1</td>\n",
       "      <td>108.8</td>\n",
       "      <td>52.8</td>\n",
       "      <td>...</td>\n",
       "      <td>0.0</td>\n",
       "      <td>0.0</td>\n",
       "      <td>4.527190</td>\n",
       "      <td>1.357670e+11</td>\n",
       "      <td>1.311710e+11</td>\n",
       "      <td>4.597000e+09</td>\n",
       "      <td>2.740000e+09</td>\n",
       "      <td>1.340000e+09</td>\n",
       "      <td>0.0</td>\n",
       "      <td>516000000.0</td>\n",
       "    </tr>\n",
       "    <tr>\n",
       "      <th>2</th>\n",
       "      <td>4860545</td>\n",
       "      <td>1</td>\n",
       "      <td>3</td>\n",
       "      <td>0.00477</td>\n",
       "      <td>1</td>\n",
       "      <td>0.0</td>\n",
       "      <td>0.0</td>\n",
       "      <td>91.0</td>\n",
       "      <td>108.4</td>\n",
       "      <td>55.5</td>\n",
       "      <td>...</td>\n",
       "      <td>0.0</td>\n",
       "      <td>0.0</td>\n",
       "      <td>4.669978</td>\n",
       "      <td>1.357670e+11</td>\n",
       "      <td>1.311710e+11</td>\n",
       "      <td>4.597000e+09</td>\n",
       "      <td>2.740000e+09</td>\n",
       "      <td>1.340000e+09</td>\n",
       "      <td>0.0</td>\n",
       "      <td>516000000.0</td>\n",
       "    </tr>\n",
       "    <tr>\n",
       "      <th>3</th>\n",
       "      <td>4860545</td>\n",
       "      <td>1</td>\n",
       "      <td>4</td>\n",
       "      <td>0.00506</td>\n",
       "      <td>1</td>\n",
       "      <td>0.0</td>\n",
       "      <td>0.0</td>\n",
       "      <td>92.6</td>\n",
       "      <td>110.5</td>\n",
       "      <td>58.7</td>\n",
       "      <td>...</td>\n",
       "      <td>0.0</td>\n",
       "      <td>0.0</td>\n",
       "      <td>3.731362</td>\n",
       "      <td>1.357670e+11</td>\n",
       "      <td>1.311710e+11</td>\n",
       "      <td>4.597000e+09</td>\n",
       "      <td>2.740000e+09</td>\n",
       "      <td>1.340000e+09</td>\n",
       "      <td>0.0</td>\n",
       "      <td>516000000.0</td>\n",
       "    </tr>\n",
       "    <tr>\n",
       "      <th>4</th>\n",
       "      <td>4860545</td>\n",
       "      <td>1</td>\n",
       "      <td>5</td>\n",
       "      <td>0.00499</td>\n",
       "      <td>1</td>\n",
       "      <td>0.0</td>\n",
       "      <td>0.0</td>\n",
       "      <td>93.2</td>\n",
       "      <td>110.2</td>\n",
       "      <td>60.0</td>\n",
       "      <td>...</td>\n",
       "      <td>0.0</td>\n",
       "      <td>0.0</td>\n",
       "      <td>3.745946</td>\n",
       "      <td>1.357670e+11</td>\n",
       "      <td>1.311710e+11</td>\n",
       "      <td>4.597000e+09</td>\n",
       "      <td>2.740000e+09</td>\n",
       "      <td>1.340000e+09</td>\n",
       "      <td>0.0</td>\n",
       "      <td>516000000.0</td>\n",
       "    </tr>\n",
       "  </tbody>\n",
       "</table>\n",
       "<p>5 rows × 25 columns</p>\n",
       "</div>"
      ],
      "text/plain": [
       "   Population  State FIPS  month  solar_avg_rad  NCDC Code  solar_net_gen_all  \\\n",
       "0     4860545           1      1        0.00387          1                0.0   \n",
       "1     4860545           1      2        0.00431          1                0.0   \n",
       "2     4860545           1      3        0.00477          1                0.0   \n",
       "3     4860545           1      4        0.00506          1                0.0   \n",
       "4     4860545           1      5        0.00499          1                0.0   \n",
       "\n",
       "   solar_net_gen_elc  elc_price_all  elc_price_com  elc_price_ind  \\\n",
       "0                0.0           89.4          107.9           53.6   \n",
       "1                0.0           90.1          108.8           52.8   \n",
       "2                0.0           91.0          108.4           55.5   \n",
       "3                0.0           92.6          110.5           58.7   \n",
       "4                0.0           93.2          110.2           60.0   \n",
       "\n",
       "            ...            wind_net_gen_all  wind_net_gen_elc  Avg_Wind_Speed  \\\n",
       "0           ...                         0.0               0.0        4.232283   \n",
       "1           ...                         0.0               0.0        4.527190   \n",
       "2           ...                         0.0               0.0        4.669978   \n",
       "3           ...                         0.0               0.0        3.731362   \n",
       "4           ...                         0.0               0.0        3.745946   \n",
       "\n",
       "     Total_Area     Land_Area    Water_Area  Water_Inland_Area  \\\n",
       "0  1.357670e+11  1.311710e+11  4.597000e+09       2.740000e+09   \n",
       "1  1.357670e+11  1.311710e+11  4.597000e+09       2.740000e+09   \n",
       "2  1.357670e+11  1.311710e+11  4.597000e+09       2.740000e+09   \n",
       "3  1.357670e+11  1.311710e+11  4.597000e+09       2.740000e+09   \n",
       "4  1.357670e+11  1.311710e+11  4.597000e+09       2.740000e+09   \n",
       "\n",
       "   Water_Coastal_Area  Water_Great_Lakes_Area  Water_Territorial_Area  \n",
       "0        1.340000e+09                     0.0             516000000.0  \n",
       "1        1.340000e+09                     0.0             516000000.0  \n",
       "2        1.340000e+09                     0.0             516000000.0  \n",
       "3        1.340000e+09                     0.0             516000000.0  \n",
       "4        1.340000e+09                     0.0             516000000.0  \n",
       "\n",
       "[5 rows x 25 columns]"
      ]
     },
     "execution_count": 33,
     "metadata": {},
     "output_type": "execute_result"
    }
   ],
   "source": [
    "renewable_data = pop_data.merge(solar_data).merge(wind_data).merge(area_data)\n",
    "renewable_data.head()"
   ]
  },
  {
   "cell_type": "markdown",
   "metadata": {},
   "source": [
    "## Export Data"
   ]
  },
  {
   "cell_type": "code",
   "execution_count": 34,
   "metadata": {},
   "outputs": [],
   "source": [
    "renewable_data.to_csv(data_dir + 'processed/renewable_data.csv', index = False)"
   ]
  },
  {
   "cell_type": "markdown",
   "metadata": {},
   "source": [
    "## References"
   ]
  },
  {
   "cell_type": "markdown",
   "metadata": {},
   "source": [
    " * BEA, SQ1 Personal Income Summary: Personal Income, Population, Per Capita Personal Income. 2016. https://bea.gov/iTable/iTableHtml.cfm?reqid=70&step=30&isuri=1&7022=36&7023=0&7033=-1&7024=non-industry&7025=0&7026=xx&7027=2016&7001=336&7028=-1&7031=0&7040=-1&7083=levels&7029=36&7090=70\n",
    " * State Area Measurements and Internal Point Coordinates. https://www.census.gov/geo/reference/state-area.html"
   ]
  },
  {
   "cell_type": "code",
   "execution_count": null,
   "metadata": {},
   "outputs": [],
   "source": []
  }
 ],
 "metadata": {
  "kernelspec": {
   "display_name": "Python 3",
   "language": "python",
   "name": "python3"
  },
  "language_info": {
   "codemirror_mode": {
    "name": "ipython",
    "version": 3
   },
   "file_extension": ".py",
   "mimetype": "text/x-python",
   "name": "python",
   "nbconvert_exporter": "python",
   "pygments_lexer": "ipython3",
   "version": "3.5.2"
  }
 },
 "nbformat": 4,
 "nbformat_minor": 2
}
