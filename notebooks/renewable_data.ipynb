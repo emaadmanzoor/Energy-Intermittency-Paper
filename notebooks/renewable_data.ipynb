{
 "cells": [
  {
   "cell_type": "code",
   "execution_count": 233,
   "metadata": {},
   "outputs": [],
   "source": [
    "import numpy as np\n",
    "import pandas as pd"
   ]
  },
  {
   "cell_type": "code",
   "execution_count": 234,
   "metadata": {},
   "outputs": [],
   "source": [
    "data_dir  = '../data/'"
   ]
  },
  {
   "cell_type": "markdown",
   "metadata": {},
   "source": [
    "## Import Data"
   ]
  },
  {
   "cell_type": "code",
   "execution_count": 235,
   "metadata": {},
   "outputs": [],
   "source": [
    "# Solar data\n",
    "solar_data_file_loc = data_dir + 'processed/solar_data.csv'\n",
    "solar_data = pd.read_csv(solar_data_file_loc)\n",
    "\n",
    "# Wind data\n",
    "wind_data_file_loc = data_dir + 'processed/wind_data.csv'\n",
    "wind_data = pd.read_csv(wind_data_file_loc)\n",
    "\n",
    "# Population data\n",
    "pop_data_file_loc = data_dir + 'state_factors/state_population.csv'\n",
    "pop_data = pd.read_csv(pop_data_file_loc)\n",
    "\n",
    "# State Area data\n",
    "area_data_file_loc = data_dir + 'state_factors/state_area.csv'\n",
    "area_data = pd.read_csv(area_data_file_loc)"
   ]
  },
  {
   "cell_type": "code",
   "execution_count": 236,
   "metadata": {},
   "outputs": [],
   "source": [
    "# State FIPS Codes\n",
    "state_fips_file_loc = data_dir + 'keys/state_FIPS.csv'\n",
    "state_fips_key = pd.read_csv(state_fips_file_loc)\n",
    "state_fips_indicators = ['State Abbreviation', 'State Name']"
   ]
  },
  {
   "cell_type": "markdown",
   "metadata": {},
   "source": [
    "## Clean Data"
   ]
  },
  {
   "cell_type": "code",
   "execution_count": 237,
   "metadata": {},
   "outputs": [],
   "source": [
    "# Pop data FIPS codes\n",
    "pop_data = pop_data.rename(columns = {'State': 'State Name'})\n",
    "pop_data['State Name'] = pop_data['State Name'].apply(lambda x: x[1:]).str.upper()\n",
    "pop_data = pop_data.merge(state_fips_key).drop(state_fips_indicators, axis = 1)"
   ]
  },
  {
   "cell_type": "code",
   "execution_count": 238,
   "metadata": {},
   "outputs": [],
   "source": [
    "# Preprend solar consumption and generation columns with solar prefix\n",
    "solar_data = solar_data.rename(columns = {x: 'Solar_' + x for x in solar_data.columns if 'Cons' in x or 'Net_G' in x})\n",
    "\n",
    "# Preprend solar consumption and generation columns with solar prefix\n",
    "wind_data = wind_data.rename(columns = {x: 'Wind_' + x for x in wind_data.columns if 'Cons' in x or 'Net_G' in x})\n",
    "\n",
    "# Drop unnecessary columns\n",
    "solar_data = solar_data.drop(['Year'], axis = 1)"
   ]
  },
  {
   "cell_type": "code",
   "execution_count": 239,
   "metadata": {},
   "outputs": [],
   "source": [
    "# Convert areas from km2 to m2\n",
    "for col in area_data.columns:\n",
    "    if 'Area' in col:\n",
    "        area_data[col] = area_data[col].apply(lambda x: float(x)*(1000**2))\n",
    "\n",
    "# Area data FIPS codes\n",
    "area_data['State Name'] = area_data['State Name'].str.upper()\n",
    "area_data = area_data.merge(state_fips_key).drop(state_fips_indicators, axis = 1)"
   ]
  },
  {
   "cell_type": "markdown",
   "metadata": {},
   "source": [
    "## Merge Data"
   ]
  },
  {
   "cell_type": "code",
   "execution_count": 240,
   "metadata": {},
   "outputs": [
    {
     "data": {
      "text/html": [
       "<div>\n",
       "<style scoped>\n",
       "    .dataframe tbody tr th:only-of-type {\n",
       "        vertical-align: middle;\n",
       "    }\n",
       "\n",
       "    .dataframe tbody tr th {\n",
       "        vertical-align: top;\n",
       "    }\n",
       "\n",
       "    .dataframe thead th {\n",
       "        text-align: right;\n",
       "    }\n",
       "</style>\n",
       "<table border=\"1\" class=\"dataframe\">\n",
       "  <thead>\n",
       "    <tr style=\"text-align: right;\">\n",
       "      <th></th>\n",
       "      <th>Population</th>\n",
       "      <th>State FIPS</th>\n",
       "      <th>Annual_Avg_Rad</th>\n",
       "      <th>January_Avg_Rad</th>\n",
       "      <th>February_Avg_Rad</th>\n",
       "      <th>March_Avg_Rad</th>\n",
       "      <th>April_Avg_Rad</th>\n",
       "      <th>May_Avg_Rad</th>\n",
       "      <th>June_Avg_Rad</th>\n",
       "      <th>July_Avg_Rad</th>\n",
       "      <th>...</th>\n",
       "      <th>Wind_Net_Generation_elc</th>\n",
       "      <th>Wind_Net_Generation_tot</th>\n",
       "      <th>Annual_Avg_Wind_Speed</th>\n",
       "      <th>Total_Area</th>\n",
       "      <th>Land_Area</th>\n",
       "      <th>Water_Area</th>\n",
       "      <th>Water_Inland_Area</th>\n",
       "      <th>Water_Coastal_Area</th>\n",
       "      <th>Water_Great_Lakes_Area</th>\n",
       "      <th>Water_Territorial_Area</th>\n",
       "    </tr>\n",
       "  </thead>\n",
       "  <tbody>\n",
       "    <tr>\n",
       "      <th>0</th>\n",
       "      <td>4860545</td>\n",
       "      <td>1</td>\n",
       "      <td>0.001621</td>\n",
       "      <td>0.001413</td>\n",
       "      <td>0.001573</td>\n",
       "      <td>0.001741</td>\n",
       "      <td>0.001847</td>\n",
       "      <td>0.001821</td>\n",
       "      <td>0.001756</td>\n",
       "      <td>0.001650</td>\n",
       "      <td>...</td>\n",
       "      <td>0.0</td>\n",
       "      <td>0.0</td>\n",
       "      <td>3.585898</td>\n",
       "      <td>1.357670e+11</td>\n",
       "      <td>1.311710e+11</td>\n",
       "      <td>4.597000e+09</td>\n",
       "      <td>2.740000e+09</td>\n",
       "      <td>1.340000e+09</td>\n",
       "      <td>0.0</td>\n",
       "      <td>5.160000e+08</td>\n",
       "    </tr>\n",
       "    <tr>\n",
       "      <th>1</th>\n",
       "      <td>6908642</td>\n",
       "      <td>4</td>\n",
       "      <td>0.002792</td>\n",
       "      <td>0.002383</td>\n",
       "      <td>0.002431</td>\n",
       "      <td>0.002832</td>\n",
       "      <td>0.003092</td>\n",
       "      <td>0.003380</td>\n",
       "      <td>0.003555</td>\n",
       "      <td>0.002774</td>\n",
       "      <td>...</td>\n",
       "      <td>542.0</td>\n",
       "      <td>542.0</td>\n",
       "      <td>3.323894</td>\n",
       "      <td>2.952340e+11</td>\n",
       "      <td>2.942070e+11</td>\n",
       "      <td>1.026000e+09</td>\n",
       "      <td>1.026000e+09</td>\n",
       "      <td>0.000000e+00</td>\n",
       "      <td>0.0</td>\n",
       "      <td>0.000000e+00</td>\n",
       "    </tr>\n",
       "    <tr>\n",
       "      <th>2</th>\n",
       "      <td>2988231</td>\n",
       "      <td>5</td>\n",
       "      <td>0.001632</td>\n",
       "      <td>0.001277</td>\n",
       "      <td>0.001358</td>\n",
       "      <td>0.001522</td>\n",
       "      <td>0.001789</td>\n",
       "      <td>0.001686</td>\n",
       "      <td>0.001916</td>\n",
       "      <td>0.002022</td>\n",
       "      <td>...</td>\n",
       "      <td>0.0</td>\n",
       "      <td>0.0</td>\n",
       "      <td>3.905829</td>\n",
       "      <td>1.377320e+11</td>\n",
       "      <td>1.347710e+11</td>\n",
       "      <td>2.961000e+09</td>\n",
       "      <td>2.961000e+09</td>\n",
       "      <td>0.000000e+00</td>\n",
       "      <td>0.0</td>\n",
       "      <td>0.000000e+00</td>\n",
       "    </tr>\n",
       "    <tr>\n",
       "      <th>3</th>\n",
       "      <td>39296476</td>\n",
       "      <td>6</td>\n",
       "      <td>0.002427</td>\n",
       "      <td>0.001584</td>\n",
       "      <td>0.001672</td>\n",
       "      <td>0.002230</td>\n",
       "      <td>0.002467</td>\n",
       "      <td>0.002909</td>\n",
       "      <td>0.003263</td>\n",
       "      <td>0.003259</td>\n",
       "      <td>...</td>\n",
       "      <td>13498.0</td>\n",
       "      <td>13509.0</td>\n",
       "      <td>3.123960</td>\n",
       "      <td>4.239670e+11</td>\n",
       "      <td>4.034660e+11</td>\n",
       "      <td>2.050100e+10</td>\n",
       "      <td>7.339000e+09</td>\n",
       "      <td>6.340000e+08</td>\n",
       "      <td>0.0</td>\n",
       "      <td>1.252800e+10</td>\n",
       "    </tr>\n",
       "    <tr>\n",
       "      <th>4</th>\n",
       "      <td>5530105</td>\n",
       "      <td>8</td>\n",
       "      <td>0.002281</td>\n",
       "      <td>0.001730</td>\n",
       "      <td>0.001803</td>\n",
       "      <td>0.002128</td>\n",
       "      <td>0.002365</td>\n",
       "      <td>0.002606</td>\n",
       "      <td>0.002997</td>\n",
       "      <td>0.002796</td>\n",
       "      <td>...</td>\n",
       "      <td>9417.0</td>\n",
       "      <td>9421.0</td>\n",
       "      <td>3.301880</td>\n",
       "      <td>2.696010e+11</td>\n",
       "      <td>2.684310e+11</td>\n",
       "      <td>1.170000e+09</td>\n",
       "      <td>1.170000e+09</td>\n",
       "      <td>0.000000e+00</td>\n",
       "      <td>0.0</td>\n",
       "      <td>0.000000e+00</td>\n",
       "    </tr>\n",
       "  </tbody>\n",
       "</table>\n",
       "<p>5 rows × 73 columns</p>\n",
       "</div>"
      ],
      "text/plain": [
       "   Population  State FIPS  Annual_Avg_Rad  January_Avg_Rad  February_Avg_Rad  \\\n",
       "0     4860545           1        0.001621         0.001413          0.001573   \n",
       "1     6908642           4        0.002792         0.002383          0.002431   \n",
       "2     2988231           5        0.001632         0.001277          0.001358   \n",
       "3    39296476           6        0.002427         0.001584          0.001672   \n",
       "4     5530105           8        0.002281         0.001730          0.001803   \n",
       "\n",
       "   March_Avg_Rad  April_Avg_Rad  May_Avg_Rad  June_Avg_Rad  July_Avg_Rad  \\\n",
       "0       0.001741       0.001847     0.001821      0.001756      0.001650   \n",
       "1       0.002832       0.003092     0.003380      0.003555      0.002774   \n",
       "2       0.001522       0.001789     0.001686      0.001916      0.002022   \n",
       "3       0.002230       0.002467     0.002909      0.003263      0.003259   \n",
       "4       0.002128       0.002365     0.002606      0.002997      0.002796   \n",
       "\n",
       "            ...            Wind_Net_Generation_elc  Wind_Net_Generation_tot  \\\n",
       "0           ...                                0.0                      0.0   \n",
       "1           ...                              542.0                    542.0   \n",
       "2           ...                                0.0                      0.0   \n",
       "3           ...                            13498.0                  13509.0   \n",
       "4           ...                             9417.0                   9421.0   \n",
       "\n",
       "   Annual_Avg_Wind_Speed    Total_Area     Land_Area    Water_Area  \\\n",
       "0               3.585898  1.357670e+11  1.311710e+11  4.597000e+09   \n",
       "1               3.323894  2.952340e+11  2.942070e+11  1.026000e+09   \n",
       "2               3.905829  1.377320e+11  1.347710e+11  2.961000e+09   \n",
       "3               3.123960  4.239670e+11  4.034660e+11  2.050100e+10   \n",
       "4               3.301880  2.696010e+11  2.684310e+11  1.170000e+09   \n",
       "\n",
       "   Water_Inland_Area  Water_Coastal_Area  Water_Great_Lakes_Area  \\\n",
       "0       2.740000e+09        1.340000e+09                     0.0   \n",
       "1       1.026000e+09        0.000000e+00                     0.0   \n",
       "2       2.961000e+09        0.000000e+00                     0.0   \n",
       "3       7.339000e+09        6.340000e+08                     0.0   \n",
       "4       1.170000e+09        0.000000e+00                     0.0   \n",
       "\n",
       "   Water_Territorial_Area  \n",
       "0            5.160000e+08  \n",
       "1            0.000000e+00  \n",
       "2            0.000000e+00  \n",
       "3            1.252800e+10  \n",
       "4            0.000000e+00  \n",
       "\n",
       "[5 rows x 73 columns]"
      ]
     },
     "execution_count": 240,
     "metadata": {},
     "output_type": "execute_result"
    }
   ],
   "source": [
    "renewable_data = pop_data.merge(solar_data).merge(wind_data).merge(area_data)\n",
    "renewable_data.head()"
   ]
  },
  {
   "cell_type": "markdown",
   "metadata": {},
   "source": [
    "## Export Data"
   ]
  },
  {
   "cell_type": "code",
   "execution_count": 241,
   "metadata": {},
   "outputs": [],
   "source": [
    "renewable_data.to_csv(data_dir + 'processed/renewable_data.csv', index = False)"
   ]
  },
  {
   "cell_type": "markdown",
   "metadata": {},
   "source": [
    "## References"
   ]
  },
  {
   "cell_type": "markdown",
   "metadata": {},
   "source": [
    " * Annual Estimates of the Resident Population for the United States, Regions, States, and Puerto Rico: April 1, 2010 to July 1, 2017 (NST-EST2017-01)  https://www.census.gov/data/tables/2017/demo/popest/state-total.html\n",
    " * State Area Measurements and Internal Point Coordinates. https://www.census.gov/geo/reference/state-area.html"
   ]
  },
  {
   "cell_type": "code",
   "execution_count": null,
   "metadata": {},
   "outputs": [],
   "source": []
  }
 ],
 "metadata": {
  "kernelspec": {
   "display_name": "Python 3",
   "language": "python",
   "name": "python3"
  },
  "language_info": {
   "codemirror_mode": {
    "name": "ipython",
    "version": 3
   },
   "file_extension": ".py",
   "mimetype": "text/x-python",
   "name": "python",
   "nbconvert_exporter": "python",
   "pygments_lexer": "ipython3",
   "version": "3.5.2"
  }
 },
 "nbformat": 4,
 "nbformat_minor": 2
}
