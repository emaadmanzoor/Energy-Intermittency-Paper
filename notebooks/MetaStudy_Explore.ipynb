{
 "cells": [
  {
   "cell_type": "code",
   "execution_count": 94,
   "metadata": {},
   "outputs": [],
   "source": [
    "import pandas as pd\n",
    "import numpy as np\n",
    "\n",
    "%matplotlib inline"
   ]
  },
  {
   "cell_type": "markdown",
   "metadata": {},
   "source": [
    "# Functions"
   ]
  },
  {
   "cell_type": "code",
   "execution_count": 83,
   "metadata": {},
   "outputs": [],
   "source": [
    "def get_pub_year(date_value):\n",
    "    \n",
    "    if type(date_value) is int or type(date_value) is str:\n",
    "        date_str = str(date_value)\n",
    "    else:\n",
    "        return int(date_value.year)\n",
    "        \n",
    "    if len(date_str) == 4:\n",
    "        \n",
    "        return int(date_str)\n",
    "    \n",
    "    else:\n",
    "        \n",
    "        date_split = date_str.replace('-', ' ').split(' ')\n",
    "        \n",
    "        for x in date_split:\n",
    "            if len(x) == 4:\n",
    "                if x[0] in ['1', '2'] and x[1] in ['9', '0']:\n",
    "                    return int(x)\n",
    "                \n",
    "    raise ValueError('Error processing: ', date_str)"
   ]
  },
  {
   "cell_type": "code",
   "execution_count": 84,
   "metadata": {},
   "outputs": [],
   "source": [
    "def get_method(method_info):\n",
    "    \n",
    "    method_info = method_info.lower()\n",
    "    \n",
    "    if 'summary' in method_info:\n",
    "        return 'Summary'\n",
    "    elif 'BECCS' in method_info:\n",
    "        return 'BECCS'\n",
    "    elif 'Oceanic' in method_info:\n",
    "        return 'Oceanic Iron Cycle'\n",
    "    else: \n",
    "        return 'Other'"
   ]
  },
  {
   "cell_type": "markdown",
   "metadata": {},
   "source": [
    "# Import Data"
   ]
  },
  {
   "cell_type": "code",
   "execution_count": 85,
   "metadata": {},
   "outputs": [],
   "source": [
    "data_file = '../data/metastudy/BIOCCS Chart EDITED.xlsx'"
   ]
  },
  {
   "cell_type": "code",
   "execution_count": 86,
   "metadata": {},
   "outputs": [],
   "source": [
    "rawdata = pd.read_excel(data_file, header = 1)"
   ]
  },
  {
   "cell_type": "markdown",
   "metadata": {},
   "source": [
    "# Clean Data"
   ]
  },
  {
   "cell_type": "code",
   "execution_count": 87,
   "metadata": {},
   "outputs": [],
   "source": [
    "data_df = rawdata.copy()"
   ]
  },
  {
   "cell_type": "code",
   "execution_count": 88,
   "metadata": {},
   "outputs": [],
   "source": [
    "# clean up dates\n",
    "data_df['PubYear'] = data_df['Date of publish'].apply(get_pub_year)\n",
    "data_df['ResYear'] = data_df['Date of research'].apply(get_pub_year)"
   ]
  },
  {
   "cell_type": "code",
   "execution_count": 89,
   "metadata": {},
   "outputs": [
    {
     "data": {
      "text/html": [
       "<div>\n",
       "<style scoped>\n",
       "    .dataframe tbody tr th:only-of-type {\n",
       "        vertical-align: middle;\n",
       "    }\n",
       "\n",
       "    .dataframe tbody tr th {\n",
       "        vertical-align: top;\n",
       "    }\n",
       "\n",
       "    .dataframe thead th {\n",
       "        text-align: right;\n",
       "    }\n",
       "</style>\n",
       "<table border=\"1\" class=\"dataframe\">\n",
       "  <thead>\n",
       "    <tr style=\"text-align: right;\">\n",
       "      <th></th>\n",
       "      <th>Name of paper</th>\n",
       "      <th>Name of author</th>\n",
       "      <th>Date of publish</th>\n",
       "      <th>Date of research</th>\n",
       "      <th>Technology used</th>\n",
       "      <th>Cost/tC02 in Dollars</th>\n",
       "      <th>CO2 Yield/year</th>\n",
       "      <th>Total Cost</th>\n",
       "      <th>Constraints</th>\n",
       "      <th>Benefits</th>\n",
       "      <th>Projection Date</th>\n",
       "      <th>Assumptions</th>\n",
       "      <th>Summary</th>\n",
       "      <th>Cost_clean</th>\n",
       "      <th>Yield_clean</th>\n",
       "      <th>PubYear</th>\n",
       "      <th>ResYear</th>\n",
       "    </tr>\n",
       "  </thead>\n",
       "  <tbody>\n",
       "    <tr>\n",
       "      <th>0</th>\n",
       "      <td>Direct Air Capture of CO2 With Chemicals</td>\n",
       "      <td>Robert Socolow</td>\n",
       "      <td>2011-06-01 00:00:00</td>\n",
       "      <td>2009-03-01 00:00:00</td>\n",
       "      <td>DAC with chemicals</td>\n",
       "      <td>600&lt;</td>\n",
       "      <td>1 Mt</td>\n",
       "      <td>$2.2 billion</td>\n",
       "      <td>Geography, water vapor, O2 concentration, Cost</td>\n",
       "      <td>Used in decentralized areas</td>\n",
       "      <td>NaN</td>\n",
       "      <td>Small scale adoption of the technology is poss...</td>\n",
       "      <td>The technology is in the concept stage and has...</td>\n",
       "      <td>600.0</td>\n",
       "      <td>1.0</td>\n",
       "      <td>2011</td>\n",
       "      <td>2009</td>\n",
       "    </tr>\n",
       "    <tr>\n",
       "      <th>1</th>\n",
       "      <td>*Agronomic values of greenwaste biochar as a s...</td>\n",
       "      <td>K.Y. Chan</td>\n",
       "      <td>2007</td>\n",
       "      <td>2007</td>\n",
       "      <td>Bio Char</td>\n",
       "      <td>NaN</td>\n",
       "      <td>NaN</td>\n",
       "      <td>NaN</td>\n",
       "      <td>NaN</td>\n",
       "      <td>Can be combined with nitrogen fertiliser to pr...</td>\n",
       "      <td>NaN</td>\n",
       "      <td>If it can become cheap enough, wide spread ado...</td>\n",
       "      <td>When combined with ntrogen fertiliser, biochar...</td>\n",
       "      <td>NaN</td>\n",
       "      <td>NaN</td>\n",
       "      <td>2007</td>\n",
       "      <td>2007</td>\n",
       "    </tr>\n",
       "    <tr>\n",
       "      <th>2</th>\n",
       "      <td>*Biochar Application to Soil:\\nAgronomic and E...</td>\n",
       "      <td>R. S. Kookana</td>\n",
       "      <td>2011</td>\n",
       "      <td>2011</td>\n",
       "      <td>Bio Char</td>\n",
       "      <td>NaN</td>\n",
       "      <td>NaN</td>\n",
       "      <td>NaN</td>\n",
       "      <td>reduced efficacy, persistence of agrochemicals...</td>\n",
       "      <td>Increased fertility</td>\n",
       "      <td>NaN</td>\n",
       "      <td>Bio char must be studied more to fully underst...</td>\n",
       "      <td>At the moment, despite some inital benefits, m...</td>\n",
       "      <td>NaN</td>\n",
       "      <td>NaN</td>\n",
       "      <td>2011</td>\n",
       "      <td>2011</td>\n",
       "    </tr>\n",
       "    <tr>\n",
       "      <th>3</th>\n",
       "      <td>*Biochar effects on soil biota-A review</td>\n",
       "      <td>Johannes Lehmann</td>\n",
       "      <td>2011</td>\n",
       "      <td>2010</td>\n",
       "      <td>Bio Char</td>\n",
       "      <td>NaN</td>\n",
       "      <td>NaN</td>\n",
       "      <td>NaN</td>\n",
       "      <td>environmental risks, lack of research</td>\n",
       "      <td>Increased microorganisms,</td>\n",
       "      <td>NaN</td>\n",
       "      <td>Bio char must be studied more to fully underst...</td>\n",
       "      <td>Despite some initial gains in soil fertility, ...</td>\n",
       "      <td>NaN</td>\n",
       "      <td>NaN</td>\n",
       "      <td>2011</td>\n",
       "      <td>2010</td>\n",
       "    </tr>\n",
       "    <tr>\n",
       "      <th>4</th>\n",
       "      <td>*A Review of Biochar and\\nIts Use and Function...</td>\n",
       "      <td>S. P. Sohi</td>\n",
       "      <td>2010</td>\n",
       "      <td>2010</td>\n",
       "      <td>Bio Char</td>\n",
       "      <td>NaN</td>\n",
       "      <td>1 Gt</td>\n",
       "      <td>NaN</td>\n",
       "      <td>environmental risks, lack of research, insttut...</td>\n",
       "      <td>Increased crop yield</td>\n",
       "      <td>NaN</td>\n",
       "      <td>Bio char can could be used efficiently to incr...</td>\n",
       "      <td>Bio char has many obstacles blocking and requi...</td>\n",
       "      <td>NaN</td>\n",
       "      <td>1000.0</td>\n",
       "      <td>2010</td>\n",
       "      <td>2010</td>\n",
       "    </tr>\n",
       "  </tbody>\n",
       "</table>\n",
       "</div>"
      ],
      "text/plain": [
       "                                       Name of paper    Name of author  \\\n",
       "0           Direct Air Capture of CO2 With Chemicals    Robert Socolow   \n",
       "1  *Agronomic values of greenwaste biochar as a s...         K.Y. Chan   \n",
       "2  *Biochar Application to Soil:\\nAgronomic and E...     R. S. Kookana   \n",
       "3            *Biochar effects on soil biota-A review  Johannes Lehmann   \n",
       "4  *A Review of Biochar and\\nIts Use and Function...        S. P. Sohi   \n",
       "\n",
       "       Date of publish     Date of research     Technology used  \\\n",
       "0  2011-06-01 00:00:00  2009-03-01 00:00:00  DAC with chemicals   \n",
       "1                 2007                 2007            Bio Char   \n",
       "2                 2011                 2011            Bio Char   \n",
       "3                 2011                 2010            Bio Char   \n",
       "4                 2010                 2010            Bio Char   \n",
       "\n",
       "   Cost/tC02 in Dollars CO2 Yield/year    Total Cost  \\\n",
       "0                  600<           1 Mt  $2.2 billion   \n",
       "1                   NaN            NaN           NaN   \n",
       "2                   NaN            NaN           NaN   \n",
       "3                   NaN            NaN           NaN   \n",
       "4                   NaN           1 Gt           NaN   \n",
       "\n",
       "                                         Constraints  \\\n",
       "0     Geography, water vapor, O2 concentration, Cost   \n",
       "1                                                NaN   \n",
       "2  reduced efficacy, persistence of agrochemicals...   \n",
       "3              environmental risks, lack of research   \n",
       "4  environmental risks, lack of research, insttut...   \n",
       "\n",
       "                                            Benefits Projection Date  \\\n",
       "0                        Used in decentralized areas             NaN   \n",
       "1  Can be combined with nitrogen fertiliser to pr...             NaN   \n",
       "2                                Increased fertility             NaN   \n",
       "3                         Increased microorganisms,              NaN   \n",
       "4                               Increased crop yield             NaN   \n",
       "\n",
       "                                         Assumptions  \\\n",
       "0  Small scale adoption of the technology is poss...   \n",
       "1  If it can become cheap enough, wide spread ado...   \n",
       "2  Bio char must be studied more to fully underst...   \n",
       "3  Bio char must be studied more to fully underst...   \n",
       "4  Bio char can could be used efficiently to incr...   \n",
       "\n",
       "                                             Summary  Cost_clean  Yield_clean  \\\n",
       "0  The technology is in the concept stage and has...       600.0          1.0   \n",
       "1  When combined with ntrogen fertiliser, biochar...         NaN          NaN   \n",
       "2  At the moment, despite some inital benefits, m...         NaN          NaN   \n",
       "3  Despite some initial gains in soil fertility, ...         NaN          NaN   \n",
       "4  Bio char has many obstacles blocking and requi...         NaN       1000.0   \n",
       "\n",
       "   PubYear  ResYear  \n",
       "0     2011     2009  \n",
       "1     2007     2007  \n",
       "2     2011     2011  \n",
       "3     2011     2010  \n",
       "4     2010     2010  "
      ]
     },
     "execution_count": 89,
     "metadata": {},
     "output_type": "execute_result"
    }
   ],
   "source": [
    "data_df.head()"
   ]
  },
  {
   "cell_type": "markdown",
   "metadata": {},
   "source": [
    "# Descriptive Statistics"
   ]
  },
  {
   "cell_type": "code",
   "execution_count": 92,
   "metadata": {},
   "outputs": [
    {
     "data": {
      "text/plain": [
       "count      16.000000\n",
       "mean      276.723750\n",
       "std       372.535568\n",
       "min         8.200000\n",
       "25%        51.750000\n",
       "50%        73.460000\n",
       "75%       565.000000\n",
       "max      1255.000000\n",
       "Name: Cost_clean, dtype: float64"
      ]
     },
     "execution_count": 92,
     "metadata": {},
     "output_type": "execute_result"
    }
   ],
   "source": [
    "data_df['Cost_clean'].describe()"
   ]
  },
  {
   "cell_type": "code",
   "execution_count": 97,
   "metadata": {},
   "outputs": [
    {
     "data": {
      "text/plain": [
       "<matplotlib.axes._subplots.AxesSubplot at 0x7f590dff3668>"
      ]
     },
     "execution_count": 97,
     "metadata": {},
     "output_type": "execute_result"
    },
    {
     "data": {
      "image/png": "[encoded data removed]",
      "text/plain": [
       "<Figure size 432x288 with 1 Axes>"
      ]
     },
     "metadata": {},
     "output_type": "display_data"
    }
   ],
   "source": [
    "data_df['Cost_clean'].hist(bins = 10)"
   ]
  },
  {
   "cell_type": "code",
   "execution_count": 100,
   "metadata": {},
   "outputs": [
    {
     "data": {
      "text/plain": [
       "<matplotlib.axes._subplots.AxesSubplot at 0x7f590df1f8d0>"
      ]
     },
     "execution_count": 100,
     "metadata": {},
     "output_type": "execute_result"
    },
    {
     "data": {
      "image/png": "[encoded data removed]",
      "text/plain": [
       "<Figure size 432x288 with 1 Axes>"
      ]
     },
     "metadata": {},
     "output_type": "display_data"
    }
   ],
   "source": [
    "data_df['Yield_clean'].hist(bins = 10)"
   ]
  }
 ],
 "metadata": {
  "kernelspec": {
   "display_name": "Python 3",
   "language": "python",
   "name": "python3"
  },
  "language_info": {
   "codemirror_mode": {
    "name": "ipython",
    "version": 3
   },
   "file_extension": ".py",
   "mimetype": "text/x-python",
   "name": "python",
   "nbconvert_exporter": "python",
   "pygments_lexer": "ipython3",
   "version": "3.5.2"
  },
  "toc": {
   "base_numbering": 1,
   "nav_menu": {},
   "number_sections": true,
   "sideBar": true,
   "skip_h1_title": false,
   "title_cell": "Table of Contents",
   "title_sidebar": "Contents",
   "toc_cell": false,
   "toc_position": {},
   "toc_section_display": true,
   "toc_window_display": true
  }
 },
 "nbformat": 4,
 "nbformat_minor": 2
}
