{
 "cells": [
  {
   "cell_type": "code",
   "execution_count": 2,
   "metadata": {},
   "outputs": [],
   "source": [
    "import numpy as np\n",
    "import xarray as xr\n",
    "import pandas as pd\n",
    "import urllib.request\n",
    "from numba import vectorize, float64\n",
    "import shapefile\n",
    "from shapely.geometry import shape, Point\n",
    "import zipfile\n",
    "from tqdm import tqdm\n",
    "tqdm.pandas()"
   ]
  },
  {
   "cell_type": "code",
   "execution_count": 3,
   "metadata": {},
   "outputs": [],
   "source": [
    "data_dir = '../data/'\n",
    "wind_dir = data_dir + 'wind/'\n",
    "gis_dir  = data_dir + 'state/gis/'"
   ]
  },
  {
   "cell_type": "markdown",
   "metadata": {},
   "source": [
    "# Wind Speeds"
   ]
  },
  {
   "cell_type": "markdown",
   "metadata": {},
   "source": [
    "## Download Data"
   ]
  },
  {
   "cell_type": "markdown",
   "metadata": {},
   "source": [
    "### Wind Data"
   ]
  },
  {
   "cell_type": "code",
   "execution_count": 6,
   "metadata": {},
   "outputs": [],
   "source": [
    "# Get wind speed data from NOAA through FTP server\n",
    "ftp_loc = 'ftp://ftp.cdc.noaa.gov/Datasets/ncep.reanalysis.dailyavgs/surface/'\n",
    "uwind_filename = 'uwnd.sig995.2018.nc'\n",
    "vwind_filename = 'vwnd.sig995.2018.nc'"
   ]
  },
  {
   "cell_type": "code",
   "execution_count": 12,
   "metadata": {},
   "outputs": [
    {
     "name": "stdout",
     "output_type": "stream",
     "text": [
      "Downloading wind data...\n",
      "Complete\n"
     ]
    }
   ],
   "source": [
    "# Code to download\n",
    "print('Downloading wind data...')\n",
    "urllib.request.urlretrieve(ftp_loc + uwind_filename, wind_dir + uwind_filename)\n",
    "urllib.request.urlretrieve(ftp_loc + vwind_filename, wind_dir + vwind_filename)\n",
    "print('Complete')"
   ]
  },
  {
   "cell_type": "markdown",
   "metadata": {},
   "source": [
    "### Shapefile Data"
   ]
  },
  {
   "cell_type": "code",
   "execution_count": 5,
   "metadata": {},
   "outputs": [],
   "source": [
    "# Get US shapefile from US Census\n",
    "url_loc = 'http://www2.census.gov/geo/tiger/GENZ2017/shp/'\n",
    "shapefile_filename = 'cb_2017_us_county_5m.zip'\n",
    "shapefile_foldername = 'us_county_5m/'"
   ]
  },
  {
   "cell_type": "code",
   "execution_count": 7,
   "metadata": {},
   "outputs": [
    {
     "name": "stdout",
     "output_type": "stream",
     "text": [
      "Downloading shapefile data...\n",
      "Complete\n"
     ]
    }
   ],
   "source": [
    "print('Downloading shapefile data...')\n",
    "urllib.request.urlretrieve(url_loc + shapefile_filename, gis_dir + shapefile_foldername + shapefile_filename)\n",
    "print('Complete')"
   ]
  },
  {
   "cell_type": "code",
   "execution_count": 8,
   "metadata": {},
   "outputs": [],
   "source": [
    "# unzip file\n",
    "zip_ref = zipfile.ZipFile(gis_dir + shapefile_foldername + shapefile_filename, 'r')\n",
    "zip_ref.extractall(gis_dir + shapefile_foldername)\n",
    "zip_ref.close()"
   ]
  },
  {
   "cell_type": "markdown",
   "metadata": {},
   "source": [
    "## Convert .NC to Pandas DF"
   ]
  },
  {
   "cell_type": "code",
   "execution_count": 7,
   "metadata": {},
   "outputs": [],
   "source": [
    "# Convert nc files to dataframes\n",
    "uwind_df = xr.open_dataset(wind_dir + uwind_filename).to_dataframe().reset_index()\n",
    "vwind_df = xr.open_dataset(wind_dir + vwind_filename).to_dataframe().reset_index()"
   ]
  },
  {
   "cell_type": "code",
   "execution_count": 8,
   "metadata": {},
   "outputs": [],
   "source": [
    "# Function to do sqrt(a^2 + b^2)\n",
    "@vectorize\n",
    "def f_diag(a,b): \n",
    "    return np.sqrt(np.power(a, 2) + np.power(b, 2))"
   ]
  },
  {
   "cell_type": "code",
   "execution_count": 9,
   "metadata": {},
   "outputs": [],
   "source": [
    "# Find wind speed using u_speed and v_speed\n",
    "data_wind_speed = uwind_df.merge(vwind_df)\n",
    "data_wind_speed['wind_speed'] = f_diag(data_wind_speed['uwnd'].values, data_wind_speed['vwnd'].values)"
   ]
  },
  {
   "cell_type": "code",
   "execution_count": 10,
   "metadata": {},
   "outputs": [],
   "source": [
    "# Convert longitudinal coordinates from [0:360] into [0:180 -180:0]\n",
    "def convert_lon(x):\n",
    "    if x > 180:\n",
    "        return x - 360\n",
    "    else: \n",
    "        return x\n",
    "    \n",
    "data_wind_speed['lon'] = data_wind_speed['lon'].apply(lambda x: convert_lon(x))"
   ]
  },
  {
   "cell_type": "code",
   "execution_count": 11,
   "metadata": {},
   "outputs": [
    {
     "data": {
      "text/html": [
       "<div>\n",
       "<style scoped>\n",
       "    .dataframe tbody tr th:only-of-type {\n",
       "        vertical-align: middle;\n",
       "    }\n",
       "\n",
       "    .dataframe tbody tr th {\n",
       "        vertical-align: top;\n",
       "    }\n",
       "\n",
       "    .dataframe thead th {\n",
       "        text-align: right;\n",
       "    }\n",
       "</style>\n",
       "<table border=\"1\" class=\"dataframe\">\n",
       "  <thead>\n",
       "    <tr style=\"text-align: right;\">\n",
       "      <th></th>\n",
       "      <th>lat</th>\n",
       "      <th>lon</th>\n",
       "      <th>nbnds</th>\n",
       "      <th>time</th>\n",
       "      <th>uwnd</th>\n",
       "      <th>time_bnds</th>\n",
       "      <th>vwnd</th>\n",
       "      <th>wind_speed</th>\n",
       "    </tr>\n",
       "  </thead>\n",
       "  <tbody>\n",
       "    <tr>\n",
       "      <th>0</th>\n",
       "      <td>90.0</td>\n",
       "      <td>0.0</td>\n",
       "      <td>0</td>\n",
       "      <td>2018-01-01</td>\n",
       "      <td>-3.799999</td>\n",
       "      <td>1910952.0</td>\n",
       "      <td>-2.649998</td>\n",
       "      <td>4.632762</td>\n",
       "    </tr>\n",
       "    <tr>\n",
       "      <th>1</th>\n",
       "      <td>90.0</td>\n",
       "      <td>0.0</td>\n",
       "      <td>0</td>\n",
       "      <td>2018-01-02</td>\n",
       "      <td>-5.899999</td>\n",
       "      <td>1910976.0</td>\n",
       "      <td>-2.799999</td>\n",
       "      <td>6.530695</td>\n",
       "    </tr>\n",
       "    <tr>\n",
       "      <th>2</th>\n",
       "      <td>90.0</td>\n",
       "      <td>0.0</td>\n",
       "      <td>0</td>\n",
       "      <td>2018-01-03</td>\n",
       "      <td>-3.799998</td>\n",
       "      <td>1911000.0</td>\n",
       "      <td>-2.874999</td>\n",
       "      <td>4.765040</td>\n",
       "    </tr>\n",
       "    <tr>\n",
       "      <th>3</th>\n",
       "      <td>90.0</td>\n",
       "      <td>0.0</td>\n",
       "      <td>0</td>\n",
       "      <td>2018-01-04</td>\n",
       "      <td>-0.524999</td>\n",
       "      <td>1911024.0</td>\n",
       "      <td>-2.999999</td>\n",
       "      <td>3.045589</td>\n",
       "    </tr>\n",
       "    <tr>\n",
       "      <th>4</th>\n",
       "      <td>90.0</td>\n",
       "      <td>0.0</td>\n",
       "      <td>0</td>\n",
       "      <td>2018-01-05</td>\n",
       "      <td>1.050000</td>\n",
       "      <td>1911048.0</td>\n",
       "      <td>-3.724999</td>\n",
       "      <td>3.870157</td>\n",
       "    </tr>\n",
       "  </tbody>\n",
       "</table>\n",
       "</div>"
      ],
      "text/plain": [
       "    lat  lon  nbnds       time      uwnd  time_bnds      vwnd  wind_speed\n",
       "0  90.0  0.0      0 2018-01-01 -3.799999  1910952.0 -2.649998    4.632762\n",
       "1  90.0  0.0      0 2018-01-02 -5.899999  1910976.0 -2.799999    6.530695\n",
       "2  90.0  0.0      0 2018-01-03 -3.799998  1911000.0 -2.874999    4.765040\n",
       "3  90.0  0.0      0 2018-01-04 -0.524999  1911024.0 -2.999999    3.045589\n",
       "4  90.0  0.0      0 2018-01-05  1.050000  1911048.0 -3.724999    3.870157"
      ]
     },
     "execution_count": 11,
     "metadata": {},
     "output_type": "execute_result"
    }
   ],
   "source": [
    "data_wind_speed.head()"
   ]
  },
  {
   "cell_type": "markdown",
   "metadata": {},
   "source": [
    "## Reverse Geocode"
   ]
  },
  {
   "cell_type": "code",
   "execution_count": 12,
   "metadata": {},
   "outputs": [],
   "source": [
    "# Read shapefile of counties from US Census\n",
    "r = shapefile.Reader(gis_dir + \"us_county_5m/cb_2017_us_county_5m.shp\")\n",
    "shapes = r.shapes()\n",
    "records = r.records()"
   ]
  },
  {
   "cell_type": "code",
   "execution_count": 13,
   "metadata": {},
   "outputs": [],
   "source": [
    "def reverse_geocode_county(lat, lon, shapes, records, bbox = [-180, -60, 15, 73]):\n",
    "    ''' Returns a list of records associated with a given lat and lon, \n",
    "    including FIPS codes for the state and county\n",
    "    '''\n",
    "    # check if point is inside the US\n",
    "    if lat < bbox[2] or lat > bbox[3] or lon < bbox[0] or lon > bbox[1]:\n",
    "        return [None]*len(records[0])\n",
    "    \n",
    "    point_missing = True\n",
    "\n",
    "    for i in range(0, len(shapes)):\n",
    "\n",
    "        county_sh = shapes[i]\n",
    "\n",
    "        # County of point located\n",
    "        if shape(county_sh).contains(Point(lon, lat)):\n",
    "\n",
    "            point_missing = False\n",
    "            break\n",
    "        \n",
    "    # Point not in the US\n",
    "    if point_missing:\n",
    "        # raise Exception('Point not found')\n",
    "        return [None]*len(records[0])\n",
    "    else:\n",
    "        return records[i]\n",
    "        "
   ]
  },
  {
   "cell_type": "code",
   "execution_count": 23,
   "metadata": {},
   "outputs": [
    {
     "data": {
      "text/html": [
       "<div>\n",
       "<style scoped>\n",
       "    .dataframe tbody tr th:only-of-type {\n",
       "        vertical-align: middle;\n",
       "    }\n",
       "\n",
       "    .dataframe tbody tr th {\n",
       "        vertical-align: top;\n",
       "    }\n",
       "\n",
       "    .dataframe thead th {\n",
       "        text-align: right;\n",
       "    }\n",
       "</style>\n",
       "<table border=\"1\" class=\"dataframe\">\n",
       "  <thead>\n",
       "    <tr style=\"text-align: right;\">\n",
       "      <th></th>\n",
       "      <th>lat</th>\n",
       "      <th>lon</th>\n",
       "      <th>nbnds</th>\n",
       "      <th>time</th>\n",
       "      <th>uwnd</th>\n",
       "      <th>time_bnds</th>\n",
       "      <th>vwnd</th>\n",
       "      <th>wind_speed</th>\n",
       "    </tr>\n",
       "  </thead>\n",
       "  <tbody>\n",
       "    <tr>\n",
       "      <th>0</th>\n",
       "      <td>90.0</td>\n",
       "      <td>0.0</td>\n",
       "      <td>0</td>\n",
       "      <td>2018-01-01</td>\n",
       "      <td>-3.799999</td>\n",
       "      <td>1910952.0</td>\n",
       "      <td>-2.649998</td>\n",
       "      <td>4.632762</td>\n",
       "    </tr>\n",
       "    <tr>\n",
       "      <th>1</th>\n",
       "      <td>90.0</td>\n",
       "      <td>0.0</td>\n",
       "      <td>0</td>\n",
       "      <td>2018-01-02</td>\n",
       "      <td>-5.899999</td>\n",
       "      <td>1910976.0</td>\n",
       "      <td>-2.799999</td>\n",
       "      <td>6.530695</td>\n",
       "    </tr>\n",
       "    <tr>\n",
       "      <th>2</th>\n",
       "      <td>90.0</td>\n",
       "      <td>0.0</td>\n",
       "      <td>0</td>\n",
       "      <td>2018-01-03</td>\n",
       "      <td>-3.799998</td>\n",
       "      <td>1911000.0</td>\n",
       "      <td>-2.874999</td>\n",
       "      <td>4.765040</td>\n",
       "    </tr>\n",
       "    <tr>\n",
       "      <th>3</th>\n",
       "      <td>90.0</td>\n",
       "      <td>0.0</td>\n",
       "      <td>0</td>\n",
       "      <td>2018-01-04</td>\n",
       "      <td>-0.524999</td>\n",
       "      <td>1911024.0</td>\n",
       "      <td>-2.999999</td>\n",
       "      <td>3.045589</td>\n",
       "    </tr>\n",
       "    <tr>\n",
       "      <th>4</th>\n",
       "      <td>90.0</td>\n",
       "      <td>0.0</td>\n",
       "      <td>0</td>\n",
       "      <td>2018-01-05</td>\n",
       "      <td>1.050000</td>\n",
       "      <td>1911048.0</td>\n",
       "      <td>-3.724999</td>\n",
       "      <td>3.870157</td>\n",
       "    </tr>\n",
       "  </tbody>\n",
       "</table>\n",
       "</div>"
      ],
      "text/plain": [
       "    lat  lon  nbnds       time      uwnd  time_bnds      vwnd  wind_speed\n",
       "0  90.0  0.0      0 2018-01-01 -3.799999  1910952.0 -2.649998    4.632762\n",
       "1  90.0  0.0      0 2018-01-02 -5.899999  1910976.0 -2.799999    6.530695\n",
       "2  90.0  0.0      0 2018-01-03 -3.799998  1911000.0 -2.874999    4.765040\n",
       "3  90.0  0.0      0 2018-01-04 -0.524999  1911024.0 -2.999999    3.045589\n",
       "4  90.0  0.0      0 2018-01-05  1.050000  1911048.0 -3.724999    3.870157"
      ]
     },
     "execution_count": 23,
     "metadata": {},
     "output_type": "execute_result"
    }
   ],
   "source": [
    "# Filter to get unique observations of each lat and lon in the data (only those in the US)\n",
    "data_wind_speed_temp = data_wind_speed[data_wind_speed['time'] == '2018-06-01'].copy()\n",
    "data_wind_speed_temp = data_wind_speed_temp.query('nbnds == 0').query('lat > 15').query('lon > -180').copy()\n",
    "\n",
    "data_wind_speed_temp.head()"
   ]
  },
  {
   "cell_type": "code",
   "execution_count": null,
   "metadata": {},
   "outputs": [],
   "source": [
    "# Get state of each observation\n",
    "data_wind_speed_temp['state_fips_code'] = data_wind_speed_temp.apply(lambda x: reverse_geocode_county(x.lat, x.lon, shapes, records)[0], axis = 1)"
   ]
  },
  {
   "cell_type": "code",
   "execution_count": 34,
   "metadata": {},
   "outputs": [],
   "source": [
    "# Get county of each observation\n",
    "data_wind_speed_temp = data_wind_speed_temp.dropna().copy()\n",
    "data_wind_speed_temp['county_fips_code'] = data_wind_speed_temp.apply(lambda x: reverse_geocode_county(x.lat, x.lon, shapes, records)[1], axis = 1)"
   ]
  },
  {
   "cell_type": "code",
   "execution_count": 74,
   "metadata": {},
   "outputs": [],
   "source": [
    "# Merge temp dataframe to get fips codes for all dates\n",
    "data_wind_speed = data_wind_speed_temp[['lat', 'lon', 'state_fips_code', 'county_fips_code']].merge(data_wind_speed, on = ['lat', 'lon'])"
   ]
  },
  {
   "cell_type": "markdown",
   "metadata": {},
   "source": [
    "## Clean Data"
   ]
  },
  {
   "cell_type": "code",
   "execution_count": 75,
   "metadata": {},
   "outputs": [],
   "source": [
    "# Drop unnecessary columns\n",
    "data_wind_speed = data_wind_speed.drop(['lat', 'lon', 'county_fips_code', 'nbnds', 'time_bnds'], axis = 1)\n",
    "\n",
    "# Fix State FIPS code\n",
    "data_wind_speed['state_fips_code'] = pd.to_numeric(data_wind_speed['state_fips_code'])\n",
    "\n",
    "# Get monthly average wind speed\n",
    "data_wind_speed['month'] = data_wind_speed['time'].apply(lambda x: x.month)\n",
    "data_wind_speed = data_wind_speed.groupby(['state_fips_code', 'month']).mean().reset_index()\n",
    "\n",
    "# Rename columns\n",
    "data_wind_speed = data_wind_speed.rename(columns = {'state_fips_code': 'State FIPS', 'wind_speed': 'Avg_Wind_Speed'}).drop(['uwnd', 'vwnd'], axis = 1)"
   ]
  },
  {
   "cell_type": "code",
   "execution_count": 76,
   "metadata": {},
   "outputs": [
    {
     "data": {
      "text/html": [
       "<div>\n",
       "<style scoped>\n",
       "    .dataframe tbody tr th:only-of-type {\n",
       "        vertical-align: middle;\n",
       "    }\n",
       "\n",
       "    .dataframe tbody tr th {\n",
       "        vertical-align: top;\n",
       "    }\n",
       "\n",
       "    .dataframe thead th {\n",
       "        text-align: right;\n",
       "    }\n",
       "</style>\n",
       "<table border=\"1\" class=\"dataframe\">\n",
       "  <thead>\n",
       "    <tr style=\"text-align: right;\">\n",
       "      <th></th>\n",
       "      <th>State FIPS</th>\n",
       "      <th>month</th>\n",
       "      <th>Avg_Wind_Speed</th>\n",
       "    </tr>\n",
       "  </thead>\n",
       "  <tbody>\n",
       "    <tr>\n",
       "      <th>0</th>\n",
       "      <td>1</td>\n",
       "      <td>1</td>\n",
       "      <td>4.232283</td>\n",
       "    </tr>\n",
       "    <tr>\n",
       "      <th>1</th>\n",
       "      <td>1</td>\n",
       "      <td>2</td>\n",
       "      <td>4.527190</td>\n",
       "    </tr>\n",
       "    <tr>\n",
       "      <th>2</th>\n",
       "      <td>1</td>\n",
       "      <td>3</td>\n",
       "      <td>4.669978</td>\n",
       "    </tr>\n",
       "    <tr>\n",
       "      <th>3</th>\n",
       "      <td>1</td>\n",
       "      <td>4</td>\n",
       "      <td>3.731362</td>\n",
       "    </tr>\n",
       "    <tr>\n",
       "      <th>4</th>\n",
       "      <td>1</td>\n",
       "      <td>5</td>\n",
       "      <td>3.745946</td>\n",
       "    </tr>\n",
       "  </tbody>\n",
       "</table>\n",
       "</div>"
      ],
      "text/plain": [
       "   State FIPS  month  Avg_Wind_Speed\n",
       "0           1      1        4.232283\n",
       "1           1      2        4.527190\n",
       "2           1      3        4.669978\n",
       "3           1      4        3.731362\n",
       "4           1      5        3.745946"
      ]
     },
     "execution_count": 76,
     "metadata": {},
     "output_type": "execute_result"
    }
   ],
   "source": [
    "data_wind_speed.head()"
   ]
  },
  {
   "cell_type": "markdown",
   "metadata": {},
   "source": [
    "## Texas Wind Speed Data"
   ]
  },
  {
   "cell_type": "code",
   "execution_count": 30,
   "metadata": {},
   "outputs": [
    {
     "data": {
      "text/html": [
       "<div>\n",
       "<style scoped>\n",
       "    .dataframe tbody tr th:only-of-type {\n",
       "        vertical-align: middle;\n",
       "    }\n",
       "\n",
       "    .dataframe tbody tr th {\n",
       "        vertical-align: top;\n",
       "    }\n",
       "\n",
       "    .dataframe thead th {\n",
       "        text-align: right;\n",
       "    }\n",
       "</style>\n",
       "<table border=\"1\" class=\"dataframe\">\n",
       "  <thead>\n",
       "    <tr style=\"text-align: right;\">\n",
       "      <th></th>\n",
       "      <th>date</th>\n",
       "      <th>wind_speed</th>\n",
       "      <th>uwnd</th>\n",
       "      <th>vwnd</th>\n",
       "    </tr>\n",
       "  </thead>\n",
       "  <tbody>\n",
       "    <tr>\n",
       "      <th>2494410</th>\n",
       "      <td>1/1/2018</td>\n",
       "      <td>5.520471</td>\n",
       "      <td>-0.474999</td>\n",
       "      <td>-5.499998</td>\n",
       "    </tr>\n",
       "    <tr>\n",
       "      <th>2494411</th>\n",
       "      <td>1/2/2018</td>\n",
       "      <td>2.334522</td>\n",
       "      <td>-1.599999</td>\n",
       "      <td>-1.699999</td>\n",
       "    </tr>\n",
       "    <tr>\n",
       "      <th>2494412</th>\n",
       "      <td>1/3/2018</td>\n",
       "      <td>-4.726059</td>\n",
       "      <td>4.400002</td>\n",
       "      <td>-1.724999</td>\n",
       "    </tr>\n",
       "    <tr>\n",
       "      <th>2494413</th>\n",
       "      <td>1/4/2018</td>\n",
       "      <td>0.951313</td>\n",
       "      <td>-0.049999</td>\n",
       "      <td>-0.949999</td>\n",
       "    </tr>\n",
       "    <tr>\n",
       "      <th>2494414</th>\n",
       "      <td>1/5/2018</td>\n",
       "      <td>5.012610</td>\n",
       "      <td>1.525000</td>\n",
       "      <td>4.775001</td>\n",
       "    </tr>\n",
       "  </tbody>\n",
       "</table>\n",
       "</div>"
      ],
      "text/plain": [
       "             date  wind_speed      uwnd      vwnd\n",
       "2494410  1/1/2018    5.520471 -0.474999 -5.499998\n",
       "2494411  1/2/2018    2.334522 -1.599999 -1.699999\n",
       "2494412  1/3/2018   -4.726059  4.400002 -1.724999\n",
       "2494413  1/4/2018    0.951313 -0.049999 -0.949999\n",
       "2494414  1/5/2018    5.012610  1.525000  4.775001"
      ]
     },
     "execution_count": 30,
     "metadata": {},
     "output_type": "execute_result"
    }
   ],
   "source": [
    "# Wind speed in given location (largest wind farm)\n",
    "data_wind_speed_loc         = data_wind_speed.query('abs(lat - 32.4) < 0.5 & abs(lon + 97.44) < 0.6 & nbnds == 0').copy()\n",
    "data_wind_speed_loc['date'] = data_wind_speed_loc['time'].apply(lambda x: '{1}/{2}/{0}'.format(x.year, x.month, x.day))\n",
    "\n",
    "data_wind_speed_loc['wind_speed'] = np.multiply(data_wind_speed_loc['wind_speed'], np.sign(\n",
    "    data_wind_speed_loc['uwnd']*data_wind_speed_loc['vwnd']))\n",
    "data_wind_speed_loc               = data_wind_speed_loc[['date', 'wind_speed', 'uwnd', 'vwnd']]\n",
    "data_wind_speed_loc.head()                                                             "
   ]
  },
  {
   "cell_type": "code",
   "execution_count": 31,
   "metadata": {},
   "outputs": [
    {
     "data": {
      "text/html": [
       "<div>\n",
       "<style scoped>\n",
       "    .dataframe tbody tr th:only-of-type {\n",
       "        vertical-align: middle;\n",
       "    }\n",
       "\n",
       "    .dataframe tbody tr th {\n",
       "        vertical-align: top;\n",
       "    }\n",
       "\n",
       "    .dataframe thead th {\n",
       "        text-align: right;\n",
       "    }\n",
       "</style>\n",
       "<table border=\"1\" class=\"dataframe\">\n",
       "  <thead>\n",
       "    <tr style=\"text-align: right;\">\n",
       "      <th></th>\n",
       "      <th>lat</th>\n",
       "      <th>lon</th>\n",
       "      <th>nbnds</th>\n",
       "      <th>time</th>\n",
       "      <th>uwnd</th>\n",
       "      <th>time_bnds</th>\n",
       "      <th>vwnd</th>\n",
       "      <th>wind_speed</th>\n",
       "    </tr>\n",
       "  </thead>\n",
       "  <tbody>\n",
       "    <tr>\n",
       "      <th>2493680</th>\n",
       "      <td>32.5</td>\n",
       "      <td>-100.0</td>\n",
       "      <td>0</td>\n",
       "      <td>2018-01-01</td>\n",
       "      <td>-1.574999</td>\n",
       "      <td>1910952.0</td>\n",
       "      <td>-5.399998</td>\n",
       "      <td>5.624998</td>\n",
       "    </tr>\n",
       "    <tr>\n",
       "      <th>2493681</th>\n",
       "      <td>32.5</td>\n",
       "      <td>-100.0</td>\n",
       "      <td>0</td>\n",
       "      <td>2018-01-02</td>\n",
       "      <td>-2.474999</td>\n",
       "      <td>1910976.0</td>\n",
       "      <td>0.650001</td>\n",
       "      <td>2.558930</td>\n",
       "    </tr>\n",
       "    <tr>\n",
       "      <th>2493682</th>\n",
       "      <td>32.5</td>\n",
       "      <td>-100.0</td>\n",
       "      <td>0</td>\n",
       "      <td>2018-01-03</td>\n",
       "      <td>4.550002</td>\n",
       "      <td>1911000.0</td>\n",
       "      <td>-1.424999</td>\n",
       "      <td>4.767928</td>\n",
       "    </tr>\n",
       "    <tr>\n",
       "      <th>2493683</th>\n",
       "      <td>32.5</td>\n",
       "      <td>-100.0</td>\n",
       "      <td>0</td>\n",
       "      <td>2018-01-04</td>\n",
       "      <td>0.850001</td>\n",
       "      <td>1911024.0</td>\n",
       "      <td>2.250001</td>\n",
       "      <td>2.405205</td>\n",
       "    </tr>\n",
       "    <tr>\n",
       "      <th>2493684</th>\n",
       "      <td>32.5</td>\n",
       "      <td>-100.0</td>\n",
       "      <td>0</td>\n",
       "      <td>2018-01-05</td>\n",
       "      <td>1.575000</td>\n",
       "      <td>1911048.0</td>\n",
       "      <td>5.925001</td>\n",
       "      <td>6.130764</td>\n",
       "    </tr>\n",
       "  </tbody>\n",
       "</table>\n",
       "</div>"
      ],
      "text/plain": [
       "          lat    lon  nbnds       time      uwnd  time_bnds      vwnd  \\\n",
       "2493680  32.5 -100.0      0 2018-01-01 -1.574999  1910952.0 -5.399998   \n",
       "2493681  32.5 -100.0      0 2018-01-02 -2.474999  1910976.0  0.650001   \n",
       "2493682  32.5 -100.0      0 2018-01-03  4.550002  1911000.0 -1.424999   \n",
       "2493683  32.5 -100.0      0 2018-01-04  0.850001  1911024.0  2.250001   \n",
       "2493684  32.5 -100.0      0 2018-01-05  1.575000  1911048.0  5.925001   \n",
       "\n",
       "         wind_speed  \n",
       "2493680    5.624998  \n",
       "2493681    2.558930  \n",
       "2493682    4.767928  \n",
       "2493683    2.405205  \n",
       "2493684    6.130764  "
      ]
     },
     "execution_count": 31,
     "metadata": {},
     "output_type": "execute_result"
    }
   ],
   "source": [
    "data_wind_speed.query('abs(lat - 32.4) < 0.5 & abs(lon + 100.53) < 0.6 & nbnds == 0').copy().head()"
   ]
  },
  {
   "cell_type": "code",
   "execution_count": 32,
   "metadata": {},
   "outputs": [],
   "source": [
    "# Export\n",
    "data_wind_speed_loc.to_csv(wind_dir + 'wind_austin_tx_2018.csv', index = False)"
   ]
  },
  {
   "cell_type": "markdown",
   "metadata": {},
   "source": [
    "# Wind Energy Generation"
   ]
  },
  {
   "cell_type": "markdown",
   "metadata": {},
   "source": [
    "## Import Data"
   ]
  },
  {
   "cell_type": "code",
   "execution_count": 218,
   "metadata": {},
   "outputs": [],
   "source": [
    "# Wind Generation Data\n",
    "wind_gen_file_loc = wind_dir + 'wind_generation_2016.csv'\n",
    "data_wind_gen = pd.read_csv(wind_gen_file_loc)"
   ]
  },
  {
   "cell_type": "code",
   "execution_count": 219,
   "metadata": {},
   "outputs": [],
   "source": [
    "# State FIPS Codes\n",
    "state_fips_file_loc = data_dir + 'keys/state_FIPS.csv'\n",
    "state_fips_key = pd.read_csv(state_fips_file_loc)\n",
    "state_fips_indicators = ['State Abbreviation', 'State Name']\n",
    "                         \n",
    "# MSN Codes Key\n",
    "msn_codes_file_loc = data_dir + 'keys/MSN_codes.csv'\n",
    "msn_codes_key = pd.read_csv(msn_codes_file_loc)\n",
    "\n",
    "# Month Key\n",
    "month_key = dict(zip(['January', 'February', 'March', 'April', 'May', 'June', 'July', 'August', 'September', 'October', 'November', 'December'], range(1,13)))"
   ]
  },
  {
   "cell_type": "markdown",
   "metadata": {},
   "source": [
    "## Clean Data"
   ]
  },
  {
   "cell_type": "code",
   "execution_count": 220,
   "metadata": {},
   "outputs": [],
   "source": [
    "# Melt month columns\n",
    "data_wind_gen = data_wind_gen.melt(id_vars = ['State Name', 'Sector', 'units'], value_vars = data_wind_gen.columns[4:16], var_name='month', value_name='wind_net_gen')\n",
    "data_wind_gen['month'] = data_wind_gen['month'].apply(lambda x: month_key[x])\n",
    "\n",
    "# Convert to thousand kwh\n",
    "data_wind_gen['wind_net_gen'] = data_wind_gen['wind_net_gen']*1000\n",
    "\n",
    "# Pivot sector column\n",
    "data_wind_gen['Sector'] = data_wind_gen['Sector'].str.strip()\n",
    "data_wind_gen = data_wind_gen.groupby(['State Name', 'Sector', 'month']).sum().unstack('Sector').reset_index()\n",
    "\n",
    "# Fix column names\n",
    "data_wind_gen.columns = ['State Name', 'month', 'wind_net_gen_all', 'wind_net_gen_elc']"
   ]
  },
  {
   "cell_type": "code",
   "execution_count": 220,
   "metadata": {},
   "outputs": [
    {
     "data": {
      "text/html": [
       "<div>\n",
       "<style scoped>\n",
       "    .dataframe tbody tr th:only-of-type {\n",
       "        vertical-align: middle;\n",
       "    }\n",
       "\n",
       "    .dataframe tbody tr th {\n",
       "        vertical-align: top;\n",
       "    }\n",
       "\n",
       "    .dataframe thead th {\n",
       "        text-align: right;\n",
       "    }\n",
       "</style>\n",
       "<table border=\"1\" class=\"dataframe\">\n",
       "  <thead>\n",
       "    <tr style=\"text-align: right;\">\n",
       "      <th></th>\n",
       "      <th>State Name</th>\n",
       "      <th>month</th>\n",
       "      <th>wind_net_gen_all</th>\n",
       "      <th>wind_net_gen_elc</th>\n",
       "    </tr>\n",
       "  </thead>\n",
       "  <tbody>\n",
       "    <tr>\n",
       "      <th>0</th>\n",
       "      <td>Alabama</td>\n",
       "      <td>1</td>\n",
       "      <td>0.0</td>\n",
       "      <td>0.0</td>\n",
       "    </tr>\n",
       "    <tr>\n",
       "      <th>1</th>\n",
       "      <td>Alabama</td>\n",
       "      <td>2</td>\n",
       "      <td>0.0</td>\n",
       "      <td>0.0</td>\n",
       "    </tr>\n",
       "    <tr>\n",
       "      <th>2</th>\n",
       "      <td>Alabama</td>\n",
       "      <td>3</td>\n",
       "      <td>0.0</td>\n",
       "      <td>0.0</td>\n",
       "    </tr>\n",
       "    <tr>\n",
       "      <th>3</th>\n",
       "      <td>Alabama</td>\n",
       "      <td>4</td>\n",
       "      <td>0.0</td>\n",
       "      <td>0.0</td>\n",
       "    </tr>\n",
       "    <tr>\n",
       "      <th>4</th>\n",
       "      <td>Alabama</td>\n",
       "      <td>5</td>\n",
       "      <td>0.0</td>\n",
       "      <td>0.0</td>\n",
       "    </tr>\n",
       "  </tbody>\n",
       "</table>\n",
       "</div>"
      ],
      "text/plain": [
       "  State Name  month  wind_net_gen_all  wind_net_gen_elc\n",
       "0    Alabama      1               0.0               0.0\n",
       "1    Alabama      2               0.0               0.0\n",
       "2    Alabama      3               0.0               0.0\n",
       "3    Alabama      4               0.0               0.0\n",
       "4    Alabama      5               0.0               0.0"
      ]
     },
     "execution_count": 220,
     "metadata": {},
     "output_type": "execute_result"
    }
   ],
   "source": [
    "data_wind_gen.head()"
   ]
  },
  {
   "cell_type": "markdown",
   "metadata": {},
   "source": [
    "## Merge Data"
   ]
  },
  {
   "cell_type": "code",
   "execution_count": 221,
   "metadata": {},
   "outputs": [],
   "source": [
    "# Add FIPS code to wind energy generation data\n",
    "data_wind_gen['State Name'] = data_wind_gen['State Name'].str.upper().str.strip()\n",
    "data_wind_gen = data_wind_gen.merge(state_fips_key).drop(state_fips_indicators, axis = 1)\n",
    "\n",
    "data_wind = data_wind_gen.merge(data_wind_speed)"
   ]
  },
  {
   "cell_type": "markdown",
   "metadata": {},
   "source": [
    "# Export Data"
   ]
  },
  {
   "cell_type": "code",
   "execution_count": 222,
   "metadata": {},
   "outputs": [],
   "source": [
    "data_wind.to_csv(data_dir + 'processed/' + 'wind_data.csv', index = False, header = True)"
   ]
  },
  {
   "cell_type": "markdown",
   "metadata": {},
   "source": [
    "## References"
   ]
  },
  {
   "cell_type": "markdown",
   "metadata": {},
   "source": [
    "* Kalnay et al., The NCEP/NCAR 40-year reanalysis project, Bull. Amer. Meteor. Soc., 77, 437-470, 1996. [ftp://ftp.cdc.noaa.gov/Datasets/ncep.reanalysis.dailyavgs/surface/README](ftp://ftp.cdc.noaa.gov/Datasets/ncep.reanalysis.dailyavgs/surface/README)\n",
    "* US Census, Cartographic Boundary Shapefiles - Counties, 2017. https://www.census.gov/geo/maps-data/data/cbf/cbf_counties.html \n",
    "* EIA, Electricity Data Browser. https://www.eia.gov/electricity/data/browser/"
   ]
  }
 ],
 "metadata": {
  "kernelspec": {
   "display_name": "Python 3",
   "language": "python",
   "name": "python3"
  },
  "language_info": {
   "codemirror_mode": {
    "name": "ipython",
    "version": 3
   },
   "file_extension": ".py",
   "mimetype": "text/x-python",
   "name": "python",
   "nbconvert_exporter": "python",
   "pygments_lexer": "ipython3",
   "version": "3.5.2"
  },
  "toc": {
   "base_numbering": 1,
   "nav_menu": {},
   "number_sections": true,
   "sideBar": true,
   "skip_h1_title": false,
   "title_cell": "Table of Contents",
   "title_sidebar": "Contents",
   "toc_cell": false,
   "toc_position": {},
   "toc_section_display": true,
   "toc_window_display": true
  }
 },
 "nbformat": 4,
 "nbformat_minor": 2
}
