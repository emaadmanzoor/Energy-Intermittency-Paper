{
 "cells": [
  {
   "cell_type": "code",
   "execution_count": 26,
   "metadata": {},
   "outputs": [],
   "source": [
    "import numpy as np\n",
    "import xarray as xr\n",
    "import pandas as pd\n",
    "import urllib.request\n",
    "from numba import vectorize, float64\n",
    "import shapefile\n",
    "from shapely.geometry import shape, Point\n",
    "import zipfile"
   ]
  },
  {
   "cell_type": "code",
   "execution_count": 27,
   "metadata": {},
   "outputs": [],
   "source": [
    "data_dir = '../data/'\n",
    "wind_dir = data_dir + 'wind/'\n",
    "gis_dir  = data_dir + 'gis/'"
   ]
  },
  {
   "cell_type": "markdown",
   "metadata": {},
   "source": [
    "# Wind Speeds"
   ]
  },
  {
   "cell_type": "markdown",
   "metadata": {},
   "source": [
    "## Download Data"
   ]
  },
  {
   "cell_type": "markdown",
   "metadata": {},
   "source": [
    "### Wind Data"
   ]
  },
  {
   "cell_type": "code",
   "execution_count": 3,
   "metadata": {},
   "outputs": [],
   "source": [
    "# Get wind speed data from NOAA through FTP server\n",
    "ftp_loc = 'ftp://ftp.cdc.noaa.gov/Datasets/ncep.reanalysis.dailyavgs/surface/'\n",
    "uwind_filename = 'uwnd.sig995.2016.nc'\n",
    "vwind_filename = 'vwnd.sig995.2016.nc'"
   ]
  },
  {
   "cell_type": "code",
   "execution_count": 4,
   "metadata": {},
   "outputs": [
    {
     "name": "stdout",
     "output_type": "stream",
     "text": [
      "Downloading wind data...\n",
      "Complete\n"
     ]
    }
   ],
   "source": [
    "# Code to download\n",
    "print('Downloading wind data...')\n",
    "urllib.request.urlretrieve(ftp_loc + uwind_filename, wind_dir + uwind_filename)\n",
    "urllib.request.urlretrieve(ftp_loc + vwind_filename, wind_dir + vwind_filename)\n",
    "print('Complete')"
   ]
  },
  {
   "cell_type": "markdown",
   "metadata": {},
   "source": [
    "### Shapefile Data"
   ]
  },
  {
   "cell_type": "code",
   "execution_count": 5,
   "metadata": {},
   "outputs": [],
   "source": [
    "# Get US shapefile from US Census\n",
    "url_loc = 'http://www2.census.gov/geo/tiger/GENZ2017/shp/'\n",
    "shapefile_filename = 'cb_2017_us_county_5m.zip'\n",
    "shapefile_foldername = 'us_county_5m/'"
   ]
  },
  {
   "cell_type": "code",
   "execution_count": 6,
   "metadata": {},
   "outputs": [
    {
     "name": "stdout",
     "output_type": "stream",
     "text": [
      "Downloading shapefile data...\n",
      "Complete\n"
     ]
    }
   ],
   "source": [
    "print('Downloading shapefile data...')\n",
    "urllib.request.urlretrieve(url_loc + shapefile_filename, gis_dir + shapefile_foldername + shapefile_filename)\n",
    "print('Complete')"
   ]
  },
  {
   "cell_type": "code",
   "execution_count": 7,
   "metadata": {},
   "outputs": [],
   "source": [
    "# unzip file\n",
    "zip_ref = zipfile.ZipFile(gis_dir + shapefile_foldername + shapefile_filename, 'r')\n",
    "zip_ref.extractall(gis_dir + shapefile_foldername)\n",
    "zip_ref.close()"
   ]
  },
  {
   "cell_type": "markdown",
   "metadata": {},
   "source": [
    "## Convert .NC to Pandas DF"
   ]
  },
  {
   "cell_type": "code",
   "execution_count": 28,
   "metadata": {},
   "outputs": [],
   "source": [
    "# Convert nc files to dataframes\n",
    "uwind_df = xr.open_dataset(wind_dir + uwind_filename).to_dataframe().reset_index()\n",
    "vwind_df = xr.open_dataset(wind_dir + vwind_filename).to_dataframe().reset_index()"
   ]
  },
  {
   "cell_type": "code",
   "execution_count": 29,
   "metadata": {},
   "outputs": [],
   "source": [
    "# Function to do sqrt(a^2 + b^2)\n",
    "@vectorize\n",
    "def f_diag(a,b): \n",
    "    return np.sqrt(np.power(a, 2) + np.power(b, 2))"
   ]
  },
  {
   "cell_type": "code",
   "execution_count": 30,
   "metadata": {},
   "outputs": [],
   "source": [
    "# Find wind speed using u_speed and v_speed\n",
    "data_wind_speed = uwind_df.merge(vwind_df)\n",
    "data_wind_speed['wind_speed'] = f_diag(data_wind_speed['uwnd'].values, data_wind_speed['vwnd'].values)"
   ]
  },
  {
   "cell_type": "code",
   "execution_count": 31,
   "metadata": {},
   "outputs": [],
   "source": [
    "# Convert longitudinal coordinates from [0:365] into [0:180 -180:0]\n",
    "def convert_lon(x):\n",
    "    if x > 180:\n",
    "        return x - 360\n",
    "    else: \n",
    "        return x\n",
    "    \n",
    "data_wind_speed['lon'] = data_wind_speed['lon'].apply(lambda x: convert_lon(x))"
   ]
  },
  {
   "cell_type": "code",
   "execution_count": 32,
   "metadata": {},
   "outputs": [
    {
     "data": {
      "text/html": [
       "<div>\n",
       "<style scoped>\n",
       "    .dataframe tbody tr th:only-of-type {\n",
       "        vertical-align: middle;\n",
       "    }\n",
       "\n",
       "    .dataframe tbody tr th {\n",
       "        vertical-align: top;\n",
       "    }\n",
       "\n",
       "    .dataframe thead th {\n",
       "        text-align: right;\n",
       "    }\n",
       "</style>\n",
       "<table border=\"1\" class=\"dataframe\">\n",
       "  <thead>\n",
       "    <tr style=\"text-align: right;\">\n",
       "      <th></th>\n",
       "      <th>lat</th>\n",
       "      <th>lon</th>\n",
       "      <th>nbnds</th>\n",
       "      <th>time</th>\n",
       "      <th>uwnd</th>\n",
       "      <th>time_bnds</th>\n",
       "      <th>vwnd</th>\n",
       "      <th>wind_speed</th>\n",
       "    </tr>\n",
       "  </thead>\n",
       "  <tbody>\n",
       "    <tr>\n",
       "      <th>0</th>\n",
       "      <td>90.0</td>\n",
       "      <td>0.0</td>\n",
       "      <td>0</td>\n",
       "      <td>2016-01-01</td>\n",
       "      <td>-0.449999</td>\n",
       "      <td>1893408.0</td>\n",
       "      <td>-8.449999</td>\n",
       "      <td>8.461973</td>\n",
       "    </tr>\n",
       "    <tr>\n",
       "      <th>1</th>\n",
       "      <td>90.0</td>\n",
       "      <td>0.0</td>\n",
       "      <td>0</td>\n",
       "      <td>2016-01-02</td>\n",
       "      <td>-0.699999</td>\n",
       "      <td>1893432.0</td>\n",
       "      <td>-2.049999</td>\n",
       "      <td>2.166216</td>\n",
       "    </tr>\n",
       "    <tr>\n",
       "      <th>2</th>\n",
       "      <td>90.0</td>\n",
       "      <td>0.0</td>\n",
       "      <td>0</td>\n",
       "      <td>2016-01-03</td>\n",
       "      <td>2.425002</td>\n",
       "      <td>1893456.0</td>\n",
       "      <td>3.725001</td>\n",
       "      <td>4.444802</td>\n",
       "    </tr>\n",
       "    <tr>\n",
       "      <th>3</th>\n",
       "      <td>90.0</td>\n",
       "      <td>0.0</td>\n",
       "      <td>0</td>\n",
       "      <td>2016-01-04</td>\n",
       "      <td>7.625001</td>\n",
       "      <td>1893480.0</td>\n",
       "      <td>1.350002</td>\n",
       "      <td>7.743587</td>\n",
       "    </tr>\n",
       "    <tr>\n",
       "      <th>4</th>\n",
       "      <td>90.0</td>\n",
       "      <td>0.0</td>\n",
       "      <td>0</td>\n",
       "      <td>2016-01-05</td>\n",
       "      <td>5.200001</td>\n",
       "      <td>1893504.0</td>\n",
       "      <td>-0.199999</td>\n",
       "      <td>5.203845</td>\n",
       "    </tr>\n",
       "  </tbody>\n",
       "</table>\n",
       "</div>"
      ],
      "text/plain": [
       "    lat  lon  nbnds       time      uwnd  time_bnds      vwnd  wind_speed\n",
       "0  90.0  0.0      0 2016-01-01 -0.449999  1893408.0 -8.449999    8.461973\n",
       "1  90.0  0.0      0 2016-01-02 -0.699999  1893432.0 -2.049999    2.166216\n",
       "2  90.0  0.0      0 2016-01-03  2.425002  1893456.0  3.725001    4.444802\n",
       "3  90.0  0.0      0 2016-01-04  7.625001  1893480.0  1.350002    7.743587\n",
       "4  90.0  0.0      0 2016-01-05  5.200001  1893504.0 -0.199999    5.203845"
      ]
     },
     "execution_count": 32,
     "metadata": {},
     "output_type": "execute_result"
    }
   ],
   "source": [
    "data_wind_speed.head()"
   ]
  },
  {
   "cell_type": "markdown",
   "metadata": {},
   "source": [
    "## Reverse Geocode"
   ]
  },
  {
   "cell_type": "code",
   "execution_count": 33,
   "metadata": {},
   "outputs": [],
   "source": [
    "# Read shapefile of counties from US Census\n",
    "r = shapefile.Reader(\"../data/gis/us_county_5m/cb_2017_us_county_5m.shp\")\n",
    "shapes = r.shapes()\n",
    "records = r.records()"
   ]
  },
  {
   "cell_type": "code",
   "execution_count": 34,
   "metadata": {},
   "outputs": [],
   "source": [
    "def reverse_geocode_county(lat, lon, shapes, records, bbox = [-180, -60, 15, 73]):\n",
    "    ''' Returns a list of records associated with a given lat and lon, \n",
    "    including FIPS codes for the state and county\n",
    "    '''\n",
    "    # check if point is inside the US\n",
    "    if lat < bbox[2] or lat > bbox[3] or lon < bbox[0] or lon > bbox[1]:\n",
    "        return [None]*len(records[0])\n",
    "    \n",
    "    point_missing = True\n",
    "\n",
    "    for i in range(0, len(shapes)):\n",
    "\n",
    "        county_sh = shapes[i]\n",
    "\n",
    "        # County of point located\n",
    "        if shape(county_sh).contains(Point(lon, lat)):\n",
    "\n",
    "            point_missing = False\n",
    "            break\n",
    "        \n",
    "    # Point not in the US\n",
    "    if point_missing:\n",
    "        # raise Exception('Point not found')\n",
    "        return [None]*len(records[0])\n",
    "    else:\n",
    "        return records[i]\n",
    "        "
   ]
  },
  {
   "cell_type": "code",
   "execution_count": 35,
   "metadata": {},
   "outputs": [
    {
     "data": {
      "text/html": [
       "<div>\n",
       "<style scoped>\n",
       "    .dataframe tbody tr th:only-of-type {\n",
       "        vertical-align: middle;\n",
       "    }\n",
       "\n",
       "    .dataframe tbody tr th {\n",
       "        vertical-align: top;\n",
       "    }\n",
       "\n",
       "    .dataframe thead th {\n",
       "        text-align: right;\n",
       "    }\n",
       "</style>\n",
       "<table border=\"1\" class=\"dataframe\">\n",
       "  <thead>\n",
       "    <tr style=\"text-align: right;\">\n",
       "      <th></th>\n",
       "      <th>lat</th>\n",
       "      <th>lon</th>\n",
       "      <th>nbnds</th>\n",
       "      <th>time</th>\n",
       "      <th>uwnd</th>\n",
       "      <th>time_bnds</th>\n",
       "      <th>vwnd</th>\n",
       "      <th>wind_speed</th>\n",
       "      <th>state_fips_code</th>\n",
       "      <th>county_fips_code</th>\n",
       "    </tr>\n",
       "  </thead>\n",
       "  <tbody>\n",
       "    <tr>\n",
       "      <th>901244</th>\n",
       "      <td>70.0</td>\n",
       "      <td>-162.5</td>\n",
       "      <td>0</td>\n",
       "      <td>2016-06-01</td>\n",
       "      <td>-6.724999</td>\n",
       "      <td>1897056.0</td>\n",
       "      <td>-8.274999</td>\n",
       "      <td>10.663077</td>\n",
       "      <td>02</td>\n",
       "      <td>185</td>\n",
       "    </tr>\n",
       "    <tr>\n",
       "      <th>901976</th>\n",
       "      <td>70.0</td>\n",
       "      <td>-160.0</td>\n",
       "      <td>0</td>\n",
       "      <td>2016-06-01</td>\n",
       "      <td>-7.100000</td>\n",
       "      <td>1897056.0</td>\n",
       "      <td>-7.349998</td>\n",
       "      <td>10.219221</td>\n",
       "      <td>02</td>\n",
       "      <td>185</td>\n",
       "    </tr>\n",
       "    <tr>\n",
       "      <th>902708</th>\n",
       "      <td>70.0</td>\n",
       "      <td>-157.5</td>\n",
       "      <td>0</td>\n",
       "      <td>2016-06-01</td>\n",
       "      <td>-7.075000</td>\n",
       "      <td>1897056.0</td>\n",
       "      <td>-6.424999</td>\n",
       "      <td>9.556999</td>\n",
       "      <td>02</td>\n",
       "      <td>185</td>\n",
       "    </tr>\n",
       "    <tr>\n",
       "      <th>903440</th>\n",
       "      <td>70.0</td>\n",
       "      <td>-155.0</td>\n",
       "      <td>0</td>\n",
       "      <td>2016-06-01</td>\n",
       "      <td>-6.799999</td>\n",
       "      <td>1897056.0</td>\n",
       "      <td>-5.674999</td>\n",
       "      <td>8.856952</td>\n",
       "      <td>02</td>\n",
       "      <td>185</td>\n",
       "    </tr>\n",
       "    <tr>\n",
       "      <th>904172</th>\n",
       "      <td>70.0</td>\n",
       "      <td>-152.5</td>\n",
       "      <td>0</td>\n",
       "      <td>2016-06-01</td>\n",
       "      <td>-6.424999</td>\n",
       "      <td>1897056.0</td>\n",
       "      <td>-5.149999</td>\n",
       "      <td>8.234264</td>\n",
       "      <td>02</td>\n",
       "      <td>185</td>\n",
       "    </tr>\n",
       "  </tbody>\n",
       "</table>\n",
       "</div>"
      ],
      "text/plain": [
       "         lat    lon  nbnds       time      uwnd  time_bnds      vwnd  \\\n",
       "901244  70.0 -162.5      0 2016-06-01 -6.724999  1897056.0 -8.274999   \n",
       "901976  70.0 -160.0      0 2016-06-01 -7.100000  1897056.0 -7.349998   \n",
       "902708  70.0 -157.5      0 2016-06-01 -7.075000  1897056.0 -6.424999   \n",
       "903440  70.0 -155.0      0 2016-06-01 -6.799999  1897056.0 -5.674999   \n",
       "904172  70.0 -152.5      0 2016-06-01 -6.424999  1897056.0 -5.149999   \n",
       "\n",
       "        wind_speed state_fips_code county_fips_code  \n",
       "901244   10.663077              02              185  \n",
       "901976   10.219221              02              185  \n",
       "902708    9.556999              02              185  \n",
       "903440    8.856952              02              185  \n",
       "904172    8.234264              02              185  "
      ]
     },
     "execution_count": 35,
     "metadata": {},
     "output_type": "execute_result"
    }
   ],
   "source": [
    "# Filter to get unique observations of each lat and lon in the data (only those in the US)\n",
    "data_wind_speed_temp = data_wind_speed[data_wind_speed['time'] == '2016-06-01'].copy()\n",
    "data_wind_speed_temp = data_wind_speed_temp.query('nbnds == 0').query('lat > 15').query('lon > -180').copy()\n",
    "\n",
    "wind_df_temp.head()"
   ]
  },
  {
   "cell_type": "code",
   "execution_count": 36,
   "metadata": {},
   "outputs": [],
   "source": [
    "# Get state of each observation\n",
    "data_wind_speed_temp['state_fips_code'] = data_wind_speed_temp.apply(lambda x: reverse_geocode_county(x.lat, x.lon, shapes, records)[0], axis = 1)"
   ]
  },
  {
   "cell_type": "code",
   "execution_count": 37,
   "metadata": {},
   "outputs": [],
   "source": [
    "# Get county of each observation\n",
    "data_wind_speed_temp = data_wind_speed_temp.dropna().copy()\n",
    "data_wind_speed_temp['county_fips_code'] = data_wind_speed_temp.apply(lambda x: reverse_geocode_county(x.lat, x.lon, shapes, records)[1], axis = 1)"
   ]
  },
  {
   "cell_type": "code",
   "execution_count": 93,
   "metadata": {},
   "outputs": [],
   "source": [
    "# Merge temp dataframe to get fips codes for all dates\n",
    "data_wind_speed = data_wind_speed_temp[['lat', 'lon', 'state_fips_code', 'county_fips_code']].merge(wind_df, on = ['lat', 'lon'])"
   ]
  },
  {
   "cell_type": "markdown",
   "metadata": {},
   "source": [
    "## Clean Data"
   ]
  },
  {
   "cell_type": "code",
   "execution_count": 94,
   "metadata": {},
   "outputs": [],
   "source": [
    "# Drop unnecessary columns\n",
    "data_wind_speed = data_wind_speed.drop(['lat', 'lon', 'county_fips_code', 'nbnds', 'time_bnds'], axis = 1)\n",
    "\n",
    "# Fix State FIPS code\n",
    "data_wind_speed['state_fips_code'] = pd.to_numeric(data_wind_speed['state_fips_code'])\n",
    "\n",
    "# Get average wind speed\n",
    "data_wind_speed = data_wind_speed.groupby('state_fips_code').mean()['wind_speed'].reset_index()\n",
    "\n",
    "# Rename columns\n",
    "data_wind_speed = data_wind_speed.rename(columns = {'state_fips_code': 'State FIPS', 'wind_speed': 'Annual_Avg_Wind_Speed'})"
   ]
  },
  {
   "cell_type": "code",
   "execution_count": 95,
   "metadata": {},
   "outputs": [
    {
     "data": {
      "text/html": [
       "<div>\n",
       "<style scoped>\n",
       "    .dataframe tbody tr th:only-of-type {\n",
       "        vertical-align: middle;\n",
       "    }\n",
       "\n",
       "    .dataframe tbody tr th {\n",
       "        vertical-align: top;\n",
       "    }\n",
       "\n",
       "    .dataframe thead th {\n",
       "        text-align: right;\n",
       "    }\n",
       "</style>\n",
       "<table border=\"1\" class=\"dataframe\">\n",
       "  <thead>\n",
       "    <tr style=\"text-align: right;\">\n",
       "      <th></th>\n",
       "      <th>State FIPS</th>\n",
       "      <th>Annual_Avg_Wind_Speed</th>\n",
       "    </tr>\n",
       "  </thead>\n",
       "  <tbody>\n",
       "    <tr>\n",
       "      <th>0</th>\n",
       "      <td>1</td>\n",
       "      <td>3.585898</td>\n",
       "    </tr>\n",
       "    <tr>\n",
       "      <th>1</th>\n",
       "      <td>2</td>\n",
       "      <td>4.619468</td>\n",
       "    </tr>\n",
       "    <tr>\n",
       "      <th>2</th>\n",
       "      <td>4</td>\n",
       "      <td>3.323894</td>\n",
       "    </tr>\n",
       "    <tr>\n",
       "      <th>3</th>\n",
       "      <td>5</td>\n",
       "      <td>3.905829</td>\n",
       "    </tr>\n",
       "    <tr>\n",
       "      <th>4</th>\n",
       "      <td>6</td>\n",
       "      <td>3.123960</td>\n",
       "    </tr>\n",
       "  </tbody>\n",
       "</table>\n",
       "</div>"
      ],
      "text/plain": [
       "   State FIPS  Annual_Avg_Wind_Speed\n",
       "0           1               3.585898\n",
       "1           2               4.619468\n",
       "2           4               3.323894\n",
       "3           5               3.905829\n",
       "4           6               3.123960"
      ]
     },
     "execution_count": 95,
     "metadata": {},
     "output_type": "execute_result"
    }
   ],
   "source": [
    "data_wind_speed.head()"
   ]
  },
  {
   "cell_type": "markdown",
   "metadata": {},
   "source": [
    "# Wind Energy Generation"
   ]
  },
  {
   "cell_type": "markdown",
   "metadata": {},
   "source": [
    "## Import Data"
   ]
  },
  {
   "cell_type": "code",
   "execution_count": 96,
   "metadata": {},
   "outputs": [],
   "source": [
    "# Wind Generation Data\n",
    "wind_gen_file_loc = wind_dir + 'wind_generation_2016.csv'\n",
    "data_wind_gen = pd.read_csv(wind_gen_file_loc)"
   ]
  },
  {
   "cell_type": "code",
   "execution_count": 97,
   "metadata": {},
   "outputs": [],
   "source": [
    "# State FIPS Codes\n",
    "state_fips_file_loc = data_dir + 'keys/state_FIPS.csv'\n",
    "state_fips_key = pd.read_csv(state_fips_file_loc)\n",
    "state_fips_indicators = ['State Abbreviation', 'State Name']\n",
    "                         \n",
    "# MSN Codes Key\n",
    "msn_codes_file_loc = data_dir + 'keys/MSN_codes.csv'\n",
    "msn_codes_key = pd.read_csv(msn_codes_file_loc)"
   ]
  },
  {
   "cell_type": "markdown",
   "metadata": {},
   "source": [
    "## Clean Data"
   ]
  },
  {
   "cell_type": "code",
   "execution_count": 98,
   "metadata": {},
   "outputs": [],
   "source": [
    "# Add code descriptions to wind consumption data\n",
    "data_wind_gen = data_wind_gen.merge(msn_codes_key).sort_values('State')\n",
    "\n",
    "# Select wind energy net generation and consumption columns \n",
    "data_wind_gen = data_wind_gen.rename(columns = {'2016': 'Energy'})\n",
    "data_wind_gen = data_wind_gen.pivot(index = 'State', columns= 'MSN', values = 'Energy').reset_index()\n",
    "\n",
    "# Compute wind energy consumption in kWh\n",
    "data_wind_gen['Consumption_com'] = data_wind_gen['WYCCB']*293.29722\n",
    "data_wind_gen['Consumption_ind'] = data_wind_gen['WYICB']*293.29722\n",
    "data_wind_gen['Consumption_elc'] = data_wind_gen['WYEGB']*293.29722\n",
    "data_wind_gen['Consumption_tot'] = data_wind_gen['WYTCB']*293.29722\n",
    "\n",
    "data_wind_gen['Net_Generation_com'] = data_wind_gen['WYCCP']\n",
    "data_wind_gen['Net_Generation_ind'] = data_wind_gen['WYICP']\n",
    "data_wind_gen['Net_Generation_elc'] = data_wind_gen['WYEGP']\n",
    "data_wind_gen['Net_Generation_tot'] = data_wind_gen['WYTCP']\n",
    "\n",
    "# Hold relevant columns\n",
    "data_wind_gen = data_wind_gen.drop([x for x in data_wind_gen.columns if x[0:2] == \"WY\"], axis = 1)"
   ]
  },
  {
   "cell_type": "markdown",
   "metadata": {},
   "source": [
    "## Merge Data"
   ]
  },
  {
   "cell_type": "code",
   "execution_count": 108,
   "metadata": {},
   "outputs": [],
   "source": [
    "# Add FIPS code to wind energy generation data\n",
    "data_wind_gen = data_wind_gen.rename(columns = {'State': 'State Abbreviation'}).merge(state_fips_key).drop(state_fips_indicators, axis = 1)\n",
    "\n",
    "data_wind = data_wind_gen.merge(data_wind_speed)"
   ]
  },
  {
   "cell_type": "markdown",
   "metadata": {},
   "source": [
    "# Export Data"
   ]
  },
  {
   "cell_type": "code",
   "execution_count": 110,
   "metadata": {},
   "outputs": [],
   "source": [
    "data_wind.to_csv(data_dir + 'processed/' + 'wind_data.csv', index = False, header = True)"
   ]
  },
  {
   "cell_type": "markdown",
   "metadata": {},
   "source": [
    "## References"
   ]
  },
  {
   "cell_type": "markdown",
   "metadata": {},
   "source": [
    "* Kalnay et al., The NCEP/NCAR 40-year reanalysis project, Bull. Amer. Meteor. Soc., 77, 437-470, 1996. [ftp://ftp.cdc.noaa.gov/Datasets/ncep.reanalysis.dailyavgs/surface/README](ftp://ftp.cdc.noaa.gov/Datasets/ncep.reanalysis.dailyavgs/surface/README)\n",
    "* US Census, Cartographic Boundary Shapefiles - Counties, 2017. https://www.census.gov/geo/maps-data/data/cbf/cbf_counties.html "
   ]
  }
 ],
 "metadata": {
  "kernelspec": {
   "display_name": "Python 3",
   "language": "python",
   "name": "python3"
  },
  "language_info": {
   "codemirror_mode": {
    "name": "ipython",
    "version": 3
   },
   "file_extension": ".py",
   "mimetype": "text/x-python",
   "name": "python",
   "nbconvert_exporter": "python",
   "pygments_lexer": "ipython3",
   "version": "3.5.2"
  }
 },
 "nbformat": 4,
 "nbformat_minor": 2
}
