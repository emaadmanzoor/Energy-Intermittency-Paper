{
 "cells": [
  {
   "cell_type": "code",
   "execution_count": 1,
   "metadata": {},
   "outputs": [],
   "source": [
    "import pandas as pd\n",
    "import numpy as np\n",
    "import os"
   ]
  },
  {
   "cell_type": "code",
   "execution_count": 2,
   "metadata": {},
   "outputs": [],
   "source": [
    "data_dir  = '../data/'\n",
    "implan_dir = data_dir + 'implan/'"
   ]
  },
  {
   "cell_type": "markdown",
   "metadata": {},
   "source": [
    "## Import Data"
   ]
  },
  {
   "cell_type": "code",
   "execution_count": 3,
   "metadata": {},
   "outputs": [],
   "source": [
    "state_ind_sum_files = [x for x in os.walk(implan_dir)][0][2]\n",
    "state_ind_sum_files = [x for x in state_ind_sum_files if 'Summary' in x]"
   ]
  },
  {
   "cell_type": "code",
   "execution_count": 4,
   "metadata": {},
   "outputs": [],
   "source": [
    "state_df_list = []\n",
    "\n",
    "for file in state_ind_sum_files:\n",
    "    \n",
    "    state_df = pd.read_csv(implan_dir + file, skiprows = 1)\n",
    "\n",
    "    state_df['State Name'] = (' ').join(file.split(' ')[0:-2])\n",
    "    state_df['State Name'] = state_df['State Name'].str.upper() \n",
    "\n",
    "    state_df_list.append(state_df)"
   ]
  },
  {
   "cell_type": "code",
   "execution_count": 5,
   "metadata": {},
   "outputs": [],
   "source": [
    "state_ind_sum = pd.concat(state_df_list, ignore_index=True)"
   ]
  },
  {
   "cell_type": "markdown",
   "metadata": {},
   "source": [
    "### Keys"
   ]
  },
  {
   "cell_type": "code",
   "execution_count": 6,
   "metadata": {},
   "outputs": [
    {
     "name": "stdout",
     "output_type": "stream",
     "text": [
      "The history saving thread hit an unexpected error (OperationalError('disk I/O error',)).History will not be written to the database.\n"
     ]
    }
   ],
   "source": [
    "# MSN Codes Key\n",
    "msn_codes_file_loc = data_dir + 'keys/MSN_codes.csv'\n",
    "msn_codes_key = pd.read_csv(msn_codes_file_loc)\n",
    "\n",
    "# State FIPS Codes\n",
    "state_fips_file_loc = data_dir + 'keys/state_FIPS.csv'\n",
    "state_fips_key = pd.read_csv(state_fips_file_loc)\n",
    "state_fips_indicators = ['State Abbreviation', 'State Name']\n",
    "\n",
    "# State NCDC Codes\n",
    "state_ncdc_file_loc = data_dir + 'keys/state_NCDC_codes.csv'\n",
    "state_ncdc_key = pd.read_csv(state_ncdc_file_loc)\n",
    "state_ncdc_key['State Name'] = state_ncdc_key['State Name'].str.upper()\n",
    "\n",
    "# Merged State Codes Key\n",
    "state_codes_key = state_ncdc_key.merge(state_fips_key)\n",
    "\n",
    "# Month Key\n",
    "month_key = dict(zip(['January', 'February', 'March', 'April', 'May', 'June', 'July', 'August', 'September', 'October', 'November', 'December'], range(1,13)))"
   ]
  },
  {
   "cell_type": "markdown",
   "metadata": {},
   "source": [
    "## Clean Data"
   ]
  },
  {
   "cell_type": "code",
   "execution_count": 7,
   "metadata": {},
   "outputs": [],
   "source": [
    "# Add input costs\n",
    "state_ind_sum['TotalInputCosts'] = state_ind_sum['Output'] - state_ind_sum['TotalValueAdded'] \n",
    "\n",
    "# Pivot Industry Codes\n",
    "state_ind_sum = state_ind_sum[['IndustryCode', 'State Name', 'TotalInputCosts']]\n",
    "state_ind_sum = state_ind_sum.pivot(index = 'State Name', columns = 'IndustryCode', values = 'TotalInputCosts').reset_index()\n",
    "\n",
    "# Grab relevant industry columns\n",
    "state_ind_sum = state_ind_sum[['State Name'] + list(range(41,48))].rename(columns = {41: 'hydro_tot_input_costs', 42: 'ff_tot_input_costs', 43: 'nuclear_tot_input_costs',\n",
    "                                                                    44: 'solar_tot_input_costs', 45: 'wind_tot_input_costs', 46: 'geothermal_tot_input_costs',\n",
    "                                                                    47: 'biomass_tot_input_costs'})\n",
    "\n",
    "state_ind_sum.columns = pd.Series(state_ind_sum.columns).values\n",
    "\n",
    "# Add months\n",
    "state_ind_sum_list = []\n",
    "\n",
    "for month in range(1,13):\n",
    "    \n",
    "    temp_df = state_ind_sum.copy()\n",
    "    temp_df['month'] = month\n",
    "    \n",
    "    state_ind_sum_list.append(temp_df)\n",
    "    \n",
    "state_ind_sum = pd.concat(state_ind_sum_list)"
   ]
  },
  {
   "cell_type": "code",
   "execution_count": 8,
   "metadata": {},
   "outputs": [
    {
     "data": {
      "text/html": [
       "<div>\n",
       "<style scoped>\n",
       "    .dataframe tbody tr th:only-of-type {\n",
       "        vertical-align: middle;\n",
       "    }\n",
       "\n",
       "    .dataframe tbody tr th {\n",
       "        vertical-align: top;\n",
       "    }\n",
       "\n",
       "    .dataframe thead th {\n",
       "        text-align: right;\n",
       "    }\n",
       "</style>\n",
       "<table border=\"1\" class=\"dataframe\">\n",
       "  <thead>\n",
       "    <tr style=\"text-align: right;\">\n",
       "      <th></th>\n",
       "      <th>State Name</th>\n",
       "      <th>hydro_tot_input_costs</th>\n",
       "      <th>ff_tot_input_costs</th>\n",
       "      <th>nuclear_tot_input_costs</th>\n",
       "      <th>solar_tot_input_costs</th>\n",
       "      <th>wind_tot_input_costs</th>\n",
       "      <th>geothermal_tot_input_costs</th>\n",
       "      <th>biomass_tot_input_costs</th>\n",
       "      <th>month</th>\n",
       "    </tr>\n",
       "  </thead>\n",
       "  <tbody>\n",
       "    <tr>\n",
       "      <th>0</th>\n",
       "      <td>ALABAMA</td>\n",
       "      <td>6.560774e+07</td>\n",
       "      <td>2.463815e+09</td>\n",
       "      <td>6.720215e+08</td>\n",
       "      <td>0.000000e+00</td>\n",
       "      <td>7.708770e+06</td>\n",
       "      <td>0.000000e+00</td>\n",
       "      <td>9.066061e+07</td>\n",
       "      <td>1</td>\n",
       "    </tr>\n",
       "    <tr>\n",
       "      <th>1</th>\n",
       "      <td>ALASKA</td>\n",
       "      <td>8.507501e+07</td>\n",
       "      <td>3.938253e+08</td>\n",
       "      <td>0.000000e+00</td>\n",
       "      <td>0.000000e+00</td>\n",
       "      <td>5.515352e+06</td>\n",
       "      <td>0.000000e+00</td>\n",
       "      <td>1.028872e+07</td>\n",
       "      <td>1</td>\n",
       "    </tr>\n",
       "    <tr>\n",
       "      <th>2</th>\n",
       "      <td>ARIZONA</td>\n",
       "      <td>0.000000e+00</td>\n",
       "      <td>1.470722e+09</td>\n",
       "      <td>3.000149e+05</td>\n",
       "      <td>5.558335e+07</td>\n",
       "      <td>1.911451e+05</td>\n",
       "      <td>0.000000e+00</td>\n",
       "      <td>3.489155e+05</td>\n",
       "      <td>1</td>\n",
       "    </tr>\n",
       "    <tr>\n",
       "      <th>3</th>\n",
       "      <td>ARKANSAS</td>\n",
       "      <td>2.236884e+06</td>\n",
       "      <td>3.072770e+08</td>\n",
       "      <td>4.102857e+08</td>\n",
       "      <td>0.000000e+00</td>\n",
       "      <td>0.000000e+00</td>\n",
       "      <td>6.248546e+06</td>\n",
       "      <td>0.000000e+00</td>\n",
       "      <td>1</td>\n",
       "    </tr>\n",
       "    <tr>\n",
       "      <th>4</th>\n",
       "      <td>CALIFORNIA</td>\n",
       "      <td>5.134468e+08</td>\n",
       "      <td>8.126158e+09</td>\n",
       "      <td>1.495902e+09</td>\n",
       "      <td>1.551753e+08</td>\n",
       "      <td>2.043318e+08</td>\n",
       "      <td>2.384203e+08</td>\n",
       "      <td>4.840587e+08</td>\n",
       "      <td>1</td>\n",
       "    </tr>\n",
       "  </tbody>\n",
       "</table>\n",
       "</div>"
      ],
      "text/plain": [
       "   State Name  hydro_tot_input_costs  ff_tot_input_costs  \\\n",
       "0     ALABAMA           6.560774e+07        2.463815e+09   \n",
       "1      ALASKA           8.507501e+07        3.938253e+08   \n",
       "2     ARIZONA           0.000000e+00        1.470722e+09   \n",
       "3    ARKANSAS           2.236884e+06        3.072770e+08   \n",
       "4  CALIFORNIA           5.134468e+08        8.126158e+09   \n",
       "\n",
       "   nuclear_tot_input_costs  solar_tot_input_costs  wind_tot_input_costs  \\\n",
       "0             6.720215e+08           0.000000e+00          7.708770e+06   \n",
       "1             0.000000e+00           0.000000e+00          5.515352e+06   \n",
       "2             3.000149e+05           5.558335e+07          1.911451e+05   \n",
       "3             4.102857e+08           0.000000e+00          0.000000e+00   \n",
       "4             1.495902e+09           1.551753e+08          2.043318e+08   \n",
       "\n",
       "   geothermal_tot_input_costs  biomass_tot_input_costs  month  \n",
       "0                0.000000e+00             9.066061e+07      1  \n",
       "1                0.000000e+00             1.028872e+07      1  \n",
       "2                0.000000e+00             3.489155e+05      1  \n",
       "3                6.248546e+06             0.000000e+00      1  \n",
       "4                2.384203e+08             4.840587e+08      1  "
      ]
     },
     "execution_count": 8,
     "metadata": {},
     "output_type": "execute_result"
    }
   ],
   "source": [
    "state_ind_sum.head()"
   ]
  },
  {
   "cell_type": "markdown",
   "metadata": {},
   "source": [
    "## Merge Data"
   ]
  },
  {
   "cell_type": "markdown",
   "metadata": {},
   "source": [
    "### Add FIPS codes"
   ]
  },
  {
   "cell_type": "code",
   "execution_count": 9,
   "metadata": {},
   "outputs": [],
   "source": [
    "state_ind_sum = state_ind_sum.merge(state_fips_key).drop(state_fips_indicators, axis = 1)"
   ]
  },
  {
   "cell_type": "markdown",
   "metadata": {},
   "source": [
    "# Export Data"
   ]
  },
  {
   "cell_type": "code",
   "execution_count": 10,
   "metadata": {},
   "outputs": [],
   "source": [
    "state_ind_sum.to_csv(data_dir + 'processed/implan_data.csv', index = False)"
   ]
  },
  {
   "cell_type": "code",
   "execution_count": null,
   "metadata": {},
   "outputs": [],
   "source": []
  }
 ],
 "metadata": {
  "kernelspec": {
   "display_name": "Python 3",
   "language": "python",
   "name": "python3"
  },
  "language_info": {
   "codemirror_mode": {
    "name": "ipython",
    "version": 3
   },
   "file_extension": ".py",
   "mimetype": "text/x-python",
   "name": "python",
   "nbconvert_exporter": "python",
   "pygments_lexer": "ipython3",
   "version": "3.5.2"
  }
 },
 "nbformat": 4,
 "nbformat_minor": 2
}
