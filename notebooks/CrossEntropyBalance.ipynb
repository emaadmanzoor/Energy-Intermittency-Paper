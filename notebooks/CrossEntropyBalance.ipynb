{
 "cells": [
  {
   "cell_type": "code",
   "execution_count": 90,
   "metadata": {},
   "outputs": [],
   "source": [
    "import pandas as pd\n",
    "import os\n",
    "import numpy as np\n",
    "from scipy import optimize"
   ]
  },
  {
   "cell_type": "code",
   "execution_count": 91,
   "metadata": {},
   "outputs": [
    {
     "data": {
      "text/plain": [
       "'1.2.1'"
      ]
     },
     "execution_count": 91,
     "metadata": {},
     "output_type": "execute_result"
    }
   ],
   "source": [
    "import scipy\n",
    "scipy.__version__"
   ]
  },
  {
   "cell_type": "markdown",
   "metadata": {},
   "source": [
    "## Import Data"
   ]
  },
  {
   "cell_type": "code",
   "execution_count": 63,
   "metadata": {},
   "outputs": [],
   "source": [
    "sam_files = [x[2] for x in os.walk('../data/sam/state_sams/')][0]"
   ]
  },
  {
   "cell_type": "code",
   "execution_count": 93,
   "metadata": {},
   "outputs": [],
   "source": [
    "sam_file  = 'District_of_Columbia_2017.csv'#sam_files[100]\n",
    "sam_state = '_'.join(sam_file.split('_')[:-1])\n",
    "sam_year  = sam_file.split('.')[0].split('_')[-1]\n",
    "\n",
    "sam_df_original = pd.read_csv('../data/sam/state_sams/' + sam_file, index_col = 0)"
   ]
  },
  {
   "cell_type": "code",
   "execution_count": 94,
   "metadata": {},
   "outputs": [
    {
     "name": "stdout",
     "output_type": "stream",
     "text": [
      "State: District_of_Columbia\n",
      "Year:  2017\n"
     ]
    }
   ],
   "source": [
    "print('State:', sam_state)\n",
    "print('Year: ', sam_year)"
   ]
  },
  {
   "cell_type": "markdown",
   "metadata": {},
   "source": [
    "## Function Input"
   ]
  },
  {
   "cell_type": "code",
   "execution_count": 95,
   "metadata": {},
   "outputs": [
    {
     "ename": "AssertionError",
     "evalue": "",
     "output_type": "error",
     "traceback": [
      "\u001b[0;31m---------------------------------------------------------------------------\u001b[0m",
      "\u001b[0;31mAssertionError\u001b[0m                            Traceback (most recent call last)",
      "\u001b[0;32m<ipython-input-95-37db4cb38eb3>\u001b[0m in \u001b[0;36m<module>\u001b[0;34m()\u001b[0m\n\u001b[1;32m     15\u001b[0m \u001b[0;31m# Ensure no remaining col/row sums are zero\u001b[0m\u001b[0;34m\u001b[0m\u001b[0;34m\u001b[0m\u001b[0m\n\u001b[1;32m     16\u001b[0m \u001b[0;32massert\u001b[0m \u001b[0;34m~\u001b[0m\u001b[0mnp\u001b[0m\u001b[0;34m.\u001b[0m\u001b[0many\u001b[0m\u001b[0;34m(\u001b[0m\u001b[0msam_df\u001b[0m\u001b[0;34m.\u001b[0m\u001b[0msum\u001b[0m\u001b[0;34m(\u001b[0m\u001b[0maxis\u001b[0m\u001b[0;34m=\u001b[0m\u001b[0;36m0\u001b[0m\u001b[0;34m)\u001b[0m\u001b[0;34m==\u001b[0m\u001b[0;36m0\u001b[0m\u001b[0;34m)\u001b[0m\u001b[0;34m\u001b[0m\u001b[0m\n\u001b[0;32m---> 17\u001b[0;31m \u001b[0;32massert\u001b[0m \u001b[0;34m~\u001b[0m\u001b[0mnp\u001b[0m\u001b[0;34m.\u001b[0m\u001b[0many\u001b[0m\u001b[0;34m(\u001b[0m\u001b[0msam_df\u001b[0m\u001b[0;34m.\u001b[0m\u001b[0msum\u001b[0m\u001b[0;34m(\u001b[0m\u001b[0maxis\u001b[0m\u001b[0;34m=\u001b[0m\u001b[0;36m1\u001b[0m\u001b[0;34m)\u001b[0m\u001b[0;34m==\u001b[0m\u001b[0;36m0\u001b[0m\u001b[0;34m)\u001b[0m\u001b[0;34m\u001b[0m\u001b[0m\n\u001b[0m",
      "\u001b[0;31mAssertionError\u001b[0m: "
     ]
    }
   ],
   "source": [
    "# Create a variant of sam df for balancing\n",
    "sam_df = sam_df_original.copy()\n",
    "\n",
    "# Adjust biomass sector size (speeds up balancing)\n",
    "if sam_df.loc[:,'BIOMASS'].sum() > 0:\n",
    "    sam_df.loc[:,'BIOMASS'] = sam_df.loc[:,'BIOMASS']*(sam_df.loc['BIOMASS',:].sum()/sam_df.loc[:,'BIOMASS'].sum())\n",
    "\n",
    "# Drop zero rows and columns\n",
    "zero_sectors = list(sam_df.sum(axis=0)[sam_df.sum(axis=0) == 0].keys())\n",
    "sam_df = sam_df.drop(zero_sectors, axis = 0).drop(zero_sectors, axis = 1)\n",
    "\n",
    "# Sort columns and index\n",
    "sam_df = sam_df.reindex(sorted(sam_df.columns), axis=1).reindex(sorted(sam_df.index), axis=0)\n",
    "\n",
    "# Ensure no remaining col/row sums are zero\n",
    "assert ~np.any(sam_df.sum(axis=0)==0) \n",
    "assert ~np.any(sam_df.sum(axis=1)==0) "
   ]
  },
  {
   "cell_type": "code",
   "execution_count": 96,
   "metadata": {},
   "outputs": [],
   "source": [
    "# Generate matrix from sam\n",
    "sam_mat = np.matrix(sam_df)"
   ]
  },
  {
   "cell_type": "code",
   "execution_count": 68,
   "metadata": {},
   "outputs": [],
   "source": [
    "# Column sums\n",
    "y = np.sum(sam_mat, axis = 0).T\n",
    "\n",
    "# Coefficient matrix\n",
    "A = np.divide(sam_mat, y.T, where = (y.T != 0))\n",
    "A[:, np.where(y.T == 0)[1]] = 0\n",
    "A_original = A.copy()\n",
    "\n",
    "n = np.shape(A)[0]"
   ]
  },
  {
   "cell_type": "markdown",
   "metadata": {},
   "source": [
    "## Initial Guess: RAS"
   ]
  },
  {
   "cell_type": "code",
   "execution_count": 69,
   "metadata": {},
   "outputs": [],
   "source": [
    "def RAS_step(row_totals, col_totals, seed_values, zero_cutoff = 1e-3):\n",
    "\n",
    "    # Initial conditions\n",
    "    assert type(row_totals)  == np.ndarray\n",
    "    assert type(col_totals)  == np.ndarray\n",
    "    assert sum(row_totals)   == sum(col_totals)\n",
    "\n",
    "    # Initialize the matrix\n",
    "    matrix = seed_values.copy()\n",
    "    assert type(matrix)    == np.ndarray\n",
    "    assert matrix.shape[0] == len(row_totals)\n",
    "    assert matrix.shape[1] == len(col_totals)\n",
    "    \n",
    "    # Row update\n",
    "    row_scalars = matrix.sum(axis=1) / row_totals\n",
    "    matrix = (matrix.T / row_scalars).T\n",
    "\n",
    "    # Column update\n",
    "    col_scalars = matrix.sum(axis=0) / col_totals\n",
    "    matrix = (matrix / col_scalars)\n",
    "\n",
    "    # Return\n",
    "    return matrix"
   ]
  },
  {
   "cell_type": "code",
   "execution_count": 70,
   "metadata": {},
   "outputs": [],
   "source": [
    "sam_mat_temp = np.array(sam_df).copy()\n",
    "target_sum   = np.array((np.array(sam_mat_temp.sum(axis = 0).T).flatten() + np.array(sam_mat_temp.sum(axis = 1)).flatten())/2)\n",
    "\n",
    "# RAS iterations\n",
    "for i in range(10):\n",
    "    sam_mat_temp = np.array(RAS_step(target_sum.copy(), target_sum.copy(), seed_values = sam_mat_temp.copy()))"
   ]
  },
  {
   "cell_type": "code",
   "execution_count": 71,
   "metadata": {},
   "outputs": [
    {
     "data": {
      "text/plain": [
       "array([1.   , 1.   , 1.   , 1.   , 1.   , 1.   , 1.001, 1.   , 1.   ,\n",
       "       1.001, 1.001, 1.001, 1.   , 1.001, 1.   , 1.   , 1.   , 1.   ,\n",
       "       1.   , 1.   , 1.   , 1.   , 1.   , 1.   , 1.   , 1.   , 1.   ,\n",
       "       1.   , 1.   , 1.   ])"
      ]
     },
     "execution_count": 71,
     "metadata": {},
     "output_type": "execute_result"
    }
   ],
   "source": [
    "# Row/Col Divided differences\n",
    "np.round(np.divide(np.sum(sam_mat_temp, axis = 1).T, \n",
    "                   np.sum(sam_mat_temp, axis = 0), \n",
    "                   where = np.sum(sam_mat_temp, axis = 0) != 0),\n",
    "         3)"
   ]
  },
  {
   "cell_type": "code",
   "execution_count": 72,
   "metadata": {},
   "outputs": [
    {
     "data": {
      "text/plain": [
       "array([ 0,  0,  0,  0,  0,  1,  0,  0,  0,  0, -3,  0,  0,  0,  0,  0,  0,\n",
       "        0,  0,  0,  0,  7, -2,  0,  0,  0, -1, -2,  0, -1])"
      ]
     },
     "execution_count": 72,
     "metadata": {},
     "output_type": "execute_result"
    }
   ],
   "source": [
    "# Row/Col Differences\n",
    "np.round(np.sum(sam_mat_temp, axis = 0) - np.sum(sam_mat_temp, axis = 1), 3).astype(int)"
   ]
  },
  {
   "cell_type": "code",
   "execution_count": 73,
   "metadata": {},
   "outputs": [],
   "source": [
    "# Ensure original zero entries are still zero\n",
    "true_zero_idx = np.where(np.matrix(sam_df) < 0.01)\n",
    "assert len(np.where(sam_mat_temp[true_zero_idx] != 0)[0]) == 0\n",
    "\n",
    "# Ensure no entries became zero after balancing\n",
    "not_zero_idx = np.where(np.matrix(sam_df) > 0.01)\n",
    "assert len(np.where(sam_mat_temp[not_zero_idx] == 0)[0]) == 0"
   ]
  },
  {
   "cell_type": "markdown",
   "metadata": {},
   "source": [
    "## Optimize: Cross Entropy"
   ]
  },
  {
   "cell_type": "markdown",
   "metadata": {},
   "source": [
    "### Cross Entropy with Dropping Zeros"
   ]
  },
  {
   "cell_type": "code",
   "execution_count": 74,
   "metadata": {},
   "outputs": [],
   "source": [
    "def vec_to_sam(B):\n",
    "    \n",
    "    n = len(sam_mat)\n",
    "    sam_B = np.zeros((n,n))\n",
    "    sam_B[sam_mat != 0] = B\n",
    "    \n",
    "    return np.matrix(sam_B)\n",
    "\n",
    "def kl_divergence(B):\n",
    "    \n",
    "    mat_a = sam_mat.copy()\n",
    "    mat_b = vec_to_sam(B)\n",
    "    \n",
    "    # Divide matrices where we don't have zeros\n",
    "    mat_div = np.divide(mat_b, mat_a, where = ((mat_a*100).astype(int) != 0))\n",
    "    \n",
    "    # Replace 0's with 1's which will become 0's when logged\n",
    "    mat_div[np.where((mat_a*100).astype(int) == 0)] = 1\n",
    "    mat_div[mat_div == 0] = 1\n",
    "    \n",
    "    return np.power(np.sum(np.multiply(mat_b, np.log(mat_div))), 2)\n",
    "\n",
    "def row_col_constraint(B):    \n",
    "    \n",
    "    sam = vec_to_sam(B)\n",
    "    \n",
    "    # Row and column totals\n",
    "    totals_0 = np.sum(sam, axis = 0).T\n",
    "    totals_1 = np.sum(sam, axis = 1)\n",
    "    \n",
    "    # Divide sums where we don't have zeros\n",
    "    sum_div = np.divide(totals_0, totals_1, where = totals_0 != 0)\n",
    "    \n",
    "    # Replace 0's with 1's\n",
    "    sum_div[np.where((sum_div*100).astype(int) == 0)] = 1\n",
    "    sum_div[sum_div == 0] = 1\n",
    "    \n",
    "    # Find total squared deviation from equality    \n",
    "    return np.sum(np.square(np.multiply(sum_div-1, 100)))\n",
    "\n",
    "def row_col_constraint_sums(B): \n",
    "    \n",
    "    sam = vec_to_sam(B)\n",
    "    \n",
    "    # Row and column totals\n",
    "    totals_0 = np.sum(sam, axis = 0).T\n",
    "    totals_1 = np.sum(sam, axis = 1)\n",
    "    \n",
    "    # Find total squared deviation from equality    \n",
    "    return np.sum(np.square(totals_0-totals_1))"
   ]
  },
  {
   "cell_type": "code",
   "execution_count": 75,
   "metadata": {},
   "outputs": [],
   "source": [
    "# With an initial guess being sam_mat_temp\n",
    "B = sam_mat_temp[sam_mat_temp != 0]\n",
    "\n",
    "# Reconvert B to a matrix\n",
    "sam_B = vec_to_sam(B)\n",
    "\n",
    "# Check that its the same as the matrix it came from\n",
    "assert np.mean(sam_B - sam_mat_temp) == 0"
   ]
  },
  {
   "cell_type": "code",
   "execution_count": 76,
   "metadata": {},
   "outputs": [],
   "source": [
    "# Bound all values to positives\n",
    "bound_array = np.array([(0.0001,np.max(np.max(sam_df))*2)]*(len(B)))\n",
    "\n",
    "# Constraints\n",
    "con_1 = optimize.NonlinearConstraint(row_col_constraint,      0, row_col_constraint(B)*1)\n",
    "con_2 = optimize.NonlinearConstraint(row_col_constraint_sums, 0, row_col_constraint_sums(B)*1)"
   ]
  },
  {
   "cell_type": "code",
   "execution_count": 77,
   "metadata": {},
   "outputs": [
    {
     "name": "stdout",
     "output_type": "stream",
     "text": [
      "1745494.9552311285\n",
      "0.08534841758174234\n",
      "86.35280623874891\n"
     ]
    }
   ],
   "source": [
    "print(kl_divergence(B))\n",
    "print(row_col_constraint(B))\n",
    "print(row_col_constraint_sums(B))"
   ]
  },
  {
   "cell_type": "code",
   "execution_count": 78,
   "metadata": {
    "scrolled": true
   },
   "outputs": [
    {
     "name": "stdout",
     "output_type": "stream",
     "text": [
      "Optimization terminated successfully.    (Exit mode 0)\n",
      "            Current function value: 1.4162439579261566e-09\n",
      "            Iterations: 36\n",
      "            Function evaluations: 9911\n",
      "            Gradient evaluations: 36\n"
     ]
    }
   ],
   "source": [
    "result = optimize.minimize(kl_divergence, B, \n",
    "                           constraints = (con_1, con_2), bounds = bound_array,\n",
    "                           options = {'disp': True})"
   ]
  },
  {
   "cell_type": "code",
   "execution_count": 79,
   "metadata": {},
   "outputs": [],
   "source": [
    "# Check for balancing success \n",
    "if not (result.success and (kl_divergence(result.x) <= kl_divergence(B)) \n",
    "    and (row_col_constraint(result.x) <= row_col_constraint(B)) \n",
    "    and (row_col_constraint_sums(result.x) <= row_col_constraint_sums(B))):\n",
    "    \n",
    "    print('Objective and Constraint Values Before Optimization')\n",
    "    print('KL Divergence:      {0:20.5f}'.format(kl_divergence(B)))\n",
    "    print('Row Col Cons:       {0:20.5f}'.format(row_col_constraint(B)))\n",
    "    print('Row Col Sums Cons:  {0:20.5f}'.format(row_col_constraint_sums(B)))\n",
    "    \n",
    "    print('Objective and Constraint Values After Optimization')\n",
    "    print('KL Divergence:      {0:20.5f}'.format(kl_divergence(result.x)))\n",
    "    print('Row Col Cons:       {0:20.5f}'.format(row_col_constraint(result.x)))\n",
    "    print('Row Col Sums Cons:  {0:20.5f}'.format(row_col_constraint_sums(result.x)))\n",
    "    \n",
    "    print('Change in Objective and Constraint Values')\n",
    "    print('Change in KL Divergence:      {0:+10.4%}'.format((kl_divergence(result.x)/\n",
    "                                                             kl_divergence(B)) - 1 + 1e-6))\n",
    "    print('Change in Row Col Cons:       {0:+10.4%}'.format((row_col_constraint(result.x)/\n",
    "                                                             row_col_constraint(B)) - 1 + 1e-6))\n",
    "    print('Change in Row Col Sums Cons:  {0:+10.4%}'.format((row_col_constraint_sums(result.x)/\n",
    "                                                             row_col_constraint_sums(B)) - 1 + 1e-6))\n",
    "    \n",
    "    raise Exception('Error balancing SAM for {0} - {1}'.format(sam_state.replace('_', ' '), sam_year))"
   ]
  },
  {
   "cell_type": "code",
   "execution_count": 80,
   "metadata": {},
   "outputs": [
    {
     "name": "stdout",
     "output_type": "stream",
     "text": [
      "Objective and Constraint Values After Optimization\n",
      "1.4162439579261566e-09\n",
      "0.08499017362343823\n",
      "77.35189436589667\n"
     ]
    }
   ],
   "source": [
    "print('Objective and Constraint Values After Optimization')\n",
    "print(kl_divergence(result.x))\n",
    "print(row_col_constraint(result.x))\n",
    "print(row_col_constraint_sums(result.x))"
   ]
  },
  {
   "cell_type": "code",
   "execution_count": 81,
   "metadata": {},
   "outputs": [
    {
     "name": "stdout",
     "output_type": "stream",
     "text": [
      "Change in Objective and Constraint Values\n",
      "Change in KL Divergence:      -99.9999%\n",
      "Change in Row Col Cons:       -0.4196%\n",
      "Change in Row Col Sums Cons:  -0.4196%\n"
     ]
    }
   ],
   "source": [
    "print('Change in Objective and Constraint Values')\n",
    "print('Change in KL Divergence:      {0:+5.4%}'.format(kl_divergence(result.x)/kl_divergence(B) - 1 + 1e-6))\n",
    "print('Change in Row Col Cons:       {0:+5.4%}'.format(row_col_constraint(result.x)/row_col_constraint(B) - 1 + 1e-6))\n",
    "print('Change in Row Col Sums Cons:  {0:+5.4%}'.format(row_col_constraint(result.x)/row_col_constraint(B) - 1 + 1e-6))"
   ]
  },
  {
   "cell_type": "markdown",
   "metadata": {},
   "source": [
    "## Export Data"
   ]
  },
  {
   "cell_type": "code",
   "execution_count": 82,
   "metadata": {},
   "outputs": [],
   "source": [
    "# Convert to dataframe\n",
    "sam_balanced_df = pd.DataFrame(vec_to_sam(result.x), columns = sam_df.columns, index = sam_df.index)\n",
    "\n",
    "# Add zero sectors back in\n",
    "for sec in zero_sectors:\n",
    "    sam_balanced_df.loc[sec,:] = 0\n",
    "    sam_balanced_df.loc[:,sec] = 0"
   ]
  },
  {
   "cell_type": "code",
   "execution_count": 83,
   "metadata": {},
   "outputs": [
    {
     "data": {
      "text/html": [
       "<div>\n",
       "<style scoped>\n",
       "    .dataframe tbody tr th:only-of-type {\n",
       "        vertical-align: middle;\n",
       "    }\n",
       "\n",
       "    .dataframe tbody tr th {\n",
       "        vertical-align: top;\n",
       "    }\n",
       "\n",
       "    .dataframe thead th {\n",
       "        text-align: right;\n",
       "    }\n",
       "</style>\n",
       "<table border=\"1\" class=\"dataframe\">\n",
       "  <thead>\n",
       "    <tr style=\"text-align: right;\">\n",
       "      <th></th>\n",
       "      <th>AGR_CRP</th>\n",
       "      <th>AGR_LIV</th>\n",
       "      <th>BIOMASS</th>\n",
       "      <th>CAP</th>\n",
       "      <th>CORP</th>\n",
       "      <th>ELC_BECCS</th>\n",
       "      <th>ELC_BIOMASS</th>\n",
       "      <th>ELC_DIST</th>\n",
       "      <th>ELC_FF</th>\n",
       "      <th>ELC_HYDRO</th>\n",
       "      <th>...</th>\n",
       "      <th>MAN</th>\n",
       "      <th>PAP</th>\n",
       "      <th>PROF</th>\n",
       "      <th>PROP</th>\n",
       "      <th>SER</th>\n",
       "      <th>TAX</th>\n",
       "      <th>TRD</th>\n",
       "      <th>ELC_GEO</th>\n",
       "      <th>ELC_WIND</th>\n",
       "      <th>NonIndustry</th>\n",
       "    </tr>\n",
       "  </thead>\n",
       "  <tbody>\n",
       "    <tr>\n",
       "      <th>AGR_CRP</th>\n",
       "      <td>95.729014</td>\n",
       "      <td>79.797118</td>\n",
       "      <td>135.121511</td>\n",
       "      <td>18.421085</td>\n",
       "      <td>0.000000</td>\n",
       "      <td>0.000000</td>\n",
       "      <td>0.0</td>\n",
       "      <td>0.0</td>\n",
       "      <td>0.0</td>\n",
       "      <td>0.0</td>\n",
       "      <td>...</td>\n",
       "      <td>950.212529</td>\n",
       "      <td>0.000000</td>\n",
       "      <td>0.0</td>\n",
       "      <td>0.000000</td>\n",
       "      <td>31.456159</td>\n",
       "      <td>0.0</td>\n",
       "      <td>2056.667623</td>\n",
       "      <td>0.0</td>\n",
       "      <td>0.0</td>\n",
       "      <td>0</td>\n",
       "    </tr>\n",
       "    <tr>\n",
       "      <th>AGR_LIV</th>\n",
       "      <td>32.576501</td>\n",
       "      <td>477.214229</td>\n",
       "      <td>4449.201283</td>\n",
       "      <td>26.754483</td>\n",
       "      <td>0.000000</td>\n",
       "      <td>0.000000</td>\n",
       "      <td>0.0</td>\n",
       "      <td>0.0</td>\n",
       "      <td>0.0</td>\n",
       "      <td>0.0</td>\n",
       "      <td>...</td>\n",
       "      <td>2402.848855</td>\n",
       "      <td>0.000000</td>\n",
       "      <td>0.0</td>\n",
       "      <td>0.000000</td>\n",
       "      <td>14.015266</td>\n",
       "      <td>0.0</td>\n",
       "      <td>1963.809985</td>\n",
       "      <td>0.0</td>\n",
       "      <td>0.0</td>\n",
       "      <td>0</td>\n",
       "    </tr>\n",
       "    <tr>\n",
       "      <th>BIOMASS</th>\n",
       "      <td>0.000000</td>\n",
       "      <td>0.000000</td>\n",
       "      <td>0.000000</td>\n",
       "      <td>0.000000</td>\n",
       "      <td>0.000000</td>\n",
       "      <td>5039.135384</td>\n",
       "      <td>0.0</td>\n",
       "      <td>0.0</td>\n",
       "      <td>0.0</td>\n",
       "      <td>0.0</td>\n",
       "      <td>...</td>\n",
       "      <td>0.000000</td>\n",
       "      <td>0.000000</td>\n",
       "      <td>0.0</td>\n",
       "      <td>0.000000</td>\n",
       "      <td>0.000000</td>\n",
       "      <td>0.0</td>\n",
       "      <td>0.000000</td>\n",
       "      <td>0.0</td>\n",
       "      <td>0.0</td>\n",
       "      <td>0</td>\n",
       "    </tr>\n",
       "    <tr>\n",
       "      <th>CAP</th>\n",
       "      <td>1.666269</td>\n",
       "      <td>0.000000</td>\n",
       "      <td>0.000000</td>\n",
       "      <td>1903.738545</td>\n",
       "      <td>20434.004158</td>\n",
       "      <td>0.021840</td>\n",
       "      <td>0.0</td>\n",
       "      <td>0.0</td>\n",
       "      <td>0.0</td>\n",
       "      <td>0.0</td>\n",
       "      <td>...</td>\n",
       "      <td>165.177722</td>\n",
       "      <td>18.817862</td>\n",
       "      <td>0.0</td>\n",
       "      <td>86047.650727</td>\n",
       "      <td>119.661737</td>\n",
       "      <td>0.0</td>\n",
       "      <td>62733.213721</td>\n",
       "      <td>0.0</td>\n",
       "      <td>0.0</td>\n",
       "      <td>0</td>\n",
       "    </tr>\n",
       "    <tr>\n",
       "      <th>CORP</th>\n",
       "      <td>0.000000</td>\n",
       "      <td>0.000000</td>\n",
       "      <td>0.000000</td>\n",
       "      <td>0.000000</td>\n",
       "      <td>0.000000</td>\n",
       "      <td>0.000000</td>\n",
       "      <td>0.0</td>\n",
       "      <td>0.0</td>\n",
       "      <td>0.0</td>\n",
       "      <td>0.0</td>\n",
       "      <td>...</td>\n",
       "      <td>0.000000</td>\n",
       "      <td>0.000000</td>\n",
       "      <td>0.0</td>\n",
       "      <td>57841.898046</td>\n",
       "      <td>0.000000</td>\n",
       "      <td>0.0</td>\n",
       "      <td>0.000000</td>\n",
       "      <td>0.0</td>\n",
       "      <td>0.0</td>\n",
       "      <td>0</td>\n",
       "    </tr>\n",
       "  </tbody>\n",
       "</table>\n",
       "<p>5 rows × 33 columns</p>\n",
       "</div>"
      ],
      "text/plain": [
       "           AGR_CRP     AGR_LIV      BIOMASS          CAP          CORP  \\\n",
       "AGR_CRP  95.729014   79.797118   135.121511    18.421085      0.000000   \n",
       "AGR_LIV  32.576501  477.214229  4449.201283    26.754483      0.000000   \n",
       "BIOMASS   0.000000    0.000000     0.000000     0.000000      0.000000   \n",
       "CAP       1.666269    0.000000     0.000000  1903.738545  20434.004158   \n",
       "CORP      0.000000    0.000000     0.000000     0.000000      0.000000   \n",
       "\n",
       "           ELC_BECCS  ELC_BIOMASS  ELC_DIST  ELC_FF  ELC_HYDRO     ...       \\\n",
       "AGR_CRP     0.000000          0.0       0.0     0.0        0.0     ...        \n",
       "AGR_LIV     0.000000          0.0       0.0     0.0        0.0     ...        \n",
       "BIOMASS  5039.135384          0.0       0.0     0.0        0.0     ...        \n",
       "CAP         0.021840          0.0       0.0     0.0        0.0     ...        \n",
       "CORP        0.000000          0.0       0.0     0.0        0.0     ...        \n",
       "\n",
       "                 MAN        PAP  PROF          PROP         SER  TAX  \\\n",
       "AGR_CRP   950.212529   0.000000   0.0      0.000000   31.456159  0.0   \n",
       "AGR_LIV  2402.848855   0.000000   0.0      0.000000   14.015266  0.0   \n",
       "BIOMASS     0.000000   0.000000   0.0      0.000000    0.000000  0.0   \n",
       "CAP       165.177722  18.817862   0.0  86047.650727  119.661737  0.0   \n",
       "CORP        0.000000   0.000000   0.0  57841.898046    0.000000  0.0   \n",
       "\n",
       "                  TRD  ELC_GEO  ELC_WIND  NonIndustry  \n",
       "AGR_CRP   2056.667623      0.0       0.0            0  \n",
       "AGR_LIV   1963.809985      0.0       0.0            0  \n",
       "BIOMASS      0.000000      0.0       0.0            0  \n",
       "CAP      62733.213721      0.0       0.0            0  \n",
       "CORP         0.000000      0.0       0.0            0  \n",
       "\n",
       "[5 rows x 33 columns]"
      ]
     },
     "execution_count": 83,
     "metadata": {},
     "output_type": "execute_result"
    }
   ],
   "source": [
    "sam_balanced_df.head()"
   ]
  },
  {
   "cell_type": "code",
   "execution_count": 84,
   "metadata": {
    "scrolled": true
   },
   "outputs": [
    {
     "data": {
      "text/html": [
       "<div>\n",
       "<style scoped>\n",
       "    .dataframe tbody tr th:only-of-type {\n",
       "        vertical-align: middle;\n",
       "    }\n",
       "\n",
       "    .dataframe tbody tr th {\n",
       "        vertical-align: top;\n",
       "    }\n",
       "\n",
       "    .dataframe thead th {\n",
       "        text-align: right;\n",
       "    }\n",
       "</style>\n",
       "<table border=\"1\" class=\"dataframe\">\n",
       "  <thead>\n",
       "    <tr style=\"text-align: right;\">\n",
       "      <th></th>\n",
       "      <th>ExportingSector</th>\n",
       "      <th>ImportingSector</th>\n",
       "      <th>TransferAmount</th>\n",
       "      <th>Region</th>\n",
       "      <th>SubRegion</th>\n",
       "    </tr>\n",
       "  </thead>\n",
       "  <tbody>\n",
       "    <tr>\n",
       "      <th>0</th>\n",
       "      <td>AGR_CRP</td>\n",
       "      <td>AGR_CRP</td>\n",
       "      <td>95.729014</td>\n",
       "      <td>USA</td>\n",
       "      <td>2016</td>\n",
       "    </tr>\n",
       "    <tr>\n",
       "      <th>1</th>\n",
       "      <td>AGR_LIV</td>\n",
       "      <td>AGR_CRP</td>\n",
       "      <td>32.576501</td>\n",
       "      <td>USA</td>\n",
       "      <td>2016</td>\n",
       "    </tr>\n",
       "    <tr>\n",
       "      <th>2</th>\n",
       "      <td>BIOMASS</td>\n",
       "      <td>AGR_CRP</td>\n",
       "      <td>0.000000</td>\n",
       "      <td>USA</td>\n",
       "      <td>2016</td>\n",
       "    </tr>\n",
       "    <tr>\n",
       "      <th>3</th>\n",
       "      <td>CAP</td>\n",
       "      <td>AGR_CRP</td>\n",
       "      <td>1.666269</td>\n",
       "      <td>USA</td>\n",
       "      <td>2016</td>\n",
       "    </tr>\n",
       "    <tr>\n",
       "      <th>4</th>\n",
       "      <td>CORP</td>\n",
       "      <td>AGR_CRP</td>\n",
       "      <td>0.000000</td>\n",
       "      <td>USA</td>\n",
       "      <td>2016</td>\n",
       "    </tr>\n",
       "  </tbody>\n",
       "</table>\n",
       "</div>"
      ],
      "text/plain": [
       "  ExportingSector ImportingSector  TransferAmount Region SubRegion\n",
       "0         AGR_CRP         AGR_CRP       95.729014    USA      2016\n",
       "1         AGR_LIV         AGR_CRP       32.576501    USA      2016\n",
       "2         BIOMASS         AGR_CRP        0.000000    USA      2016\n",
       "3             CAP         AGR_CRP        1.666269    USA      2016\n",
       "4            CORP         AGR_CRP        0.000000    USA      2016"
      ]
     },
     "execution_count": 84,
     "metadata": {},
     "output_type": "execute_result"
    }
   ],
   "source": [
    "# Construct pivotted version of balanced sam\n",
    "sam_bal_pivot_df              = sam_balanced_df.reset_index().melt(id_vars = 'index', value_vars = sam_balanced_df.columns)\n",
    "sam_bal_pivot_df.columns      = ['ExportingSector', 'ImportingSector', 'TransferAmount']\n",
    "sam_bal_pivot_df['Region']    =  'USA'\n",
    "sam_bal_pivot_df['SubRegion'] = sam_state.replace('_', ' ')\n",
    "sam_bal_pivot_df['SubRegion'] = sam_year\n",
    "\n",
    "sam_bal_pivot_df.head()"
   ]
  },
  {
   "cell_type": "code",
   "execution_count": 85,
   "metadata": {},
   "outputs": [],
   "source": [
    "sam_bal_pivot_df.to_csv('../data/sam/balanced/{0}_{1}.csv'.format(sam_state, sam_year), index = False)"
   ]
  },
  {
   "cell_type": "markdown",
   "metadata": {},
   "source": [
    "## Test"
   ]
  },
  {
   "cell_type": "code",
   "execution_count": 88,
   "metadata": {},
   "outputs": [
    {
     "name": "stdout",
     "output_type": "stream",
     "text": [
      "Balancing Alabama - 2015\n",
      "Optimization terminated successfully.    (Exit mode 0)\n",
      "            Current function value: 2.193589594436371e-13\n",
      "            Iterations: 14\n",
      "            Function evaluations: 3786\n",
      "            Gradient evaluations: 14\n"
     ]
    }
   ],
   "source": [
    "import pandas as pd\n",
    "import os\n",
    "import numpy as np\n",
    "from scipy import optimize\n",
    "\n",
    "### Functions\n",
    "\n",
    "def RAS_step(row_totals, col_totals, seed_values, zero_cutoff = 1e-3):\n",
    "\n",
    "        # Initial conditions\n",
    "        assert type(row_totals)  == np.ndarray\n",
    "        assert type(col_totals)  == np.ndarray\n",
    "        assert sum(row_totals)   == sum(col_totals)\n",
    "\n",
    "        # Initialize the matrix\n",
    "        matrix = seed_values.copy()\n",
    "        assert type(matrix)    == np.ndarray\n",
    "        assert matrix.shape[0] == len(row_totals)\n",
    "        assert matrix.shape[1] == len(col_totals)\n",
    "        \n",
    "        # Row update\n",
    "        row_scalars = matrix.sum(axis=1) / row_totals\n",
    "        matrix = (matrix.T / row_scalars).T\n",
    "\n",
    "        # Column update\n",
    "        col_scalars = matrix.sum(axis=0) / col_totals\n",
    "        matrix = (matrix / col_scalars)\n",
    "\n",
    "        # Return\n",
    "        return matrix\n",
    "\n",
    "def vec_to_sam(B):\n",
    "    \n",
    "    n = len(sam_mat)\n",
    "    sam_B = np.zeros((n,n))\n",
    "    sam_B[sam_mat != 0] = B\n",
    "    \n",
    "    return np.matrix(sam_B)\n",
    "\n",
    "def kl_divergence(B):\n",
    "    \n",
    "    mat_a = sam_mat.copy()\n",
    "    mat_b = vec_to_sam(B)\n",
    "    \n",
    "    # Divide matrices where we don't have zeros\n",
    "    mat_div = np.divide(mat_b, mat_a, where = ((mat_a*100).astype(int) != 0))\n",
    "    \n",
    "    # Replace 0's with 1's which will become 0's when logged\n",
    "    mat_div[np.where((mat_a*100).astype(int) == 0)] = 1\n",
    "    mat_div[mat_div == 0] = 1\n",
    "    \n",
    "    return np.power(np.sum(np.multiply(mat_b, np.log(mat_div))), 2)\n",
    "\n",
    "def row_col_constraint(B):    \n",
    "    \n",
    "    sam = vec_to_sam(B)\n",
    "    \n",
    "    # Row and column totals\n",
    "    totals_0 = np.sum(sam, axis = 0).T\n",
    "    totals_1 = np.sum(sam, axis = 1)\n",
    "    \n",
    "    # Divide sums where we don't have zeros\n",
    "    sum_div = np.divide(totals_0, totals_1, where = totals_0 != 0)\n",
    "    \n",
    "    # Replace 0's with 1's\n",
    "    sum_div[np.where((sum_div*100).astype(int) == 0)] = 1\n",
    "    sum_div[sum_div == 0] = 1\n",
    "    \n",
    "    # Find total squared deviation from equality    \n",
    "    return np.sum(np.square(np.multiply(sum_div-1, 100)))\n",
    "\n",
    "def row_col_constraint_sums(B): \n",
    "    \n",
    "    sam = vec_to_sam(B)\n",
    "    \n",
    "    # Row and column totals\n",
    "    totals_0 = np.sum(sam, axis = 0).T\n",
    "    totals_1 = np.sum(sam, axis = 1)\n",
    "    \n",
    "    # Find total squared deviation from equality    \n",
    "    return np.sum(np.square(totals_0-totals_1))\n",
    "\n",
    "\n",
    "### Main\n",
    "\n",
    "## Get unbalanced SAM files\n",
    "sam_files = [x[2] for x in os.walk('../data/sam/state_sams/')][0]\n",
    "\n",
    "\n",
    "for sam_file in sam_files[:1]:\n",
    "\n",
    "    ## Import SAM file\n",
    "    sam_state = '_'.join(sam_file.split('_')[:-1])\n",
    "    sam_year  = sam_file.split('.')[0].split('_')[-1]\n",
    "    sam_df_original = pd.read_csv('../data/sam/state_sams/' + sam_file, \n",
    "                                  index_col = 0)\n",
    "    print('Balancing {0} - {1}'.format(sam_state.replace('_', ' '),\n",
    "                                       sam_year))\n",
    "\n",
    "\n",
    "    ## Clean up SAM\n",
    "\n",
    "    # Create a variant of sam df for balancing\n",
    "    sam_df = sam_df_original.copy()\n",
    "\n",
    "    # Adjust biomass sector size (speeds up balancing)\n",
    "    if sam_df.loc[:,'BIOMASS'].sum() > 0:\n",
    "        sam_df.loc[:,'BIOMASS'] = sam_df.loc[:,'BIOMASS']*(sam_df.loc['BIOMASS',:].sum()/sam_df.loc[:,'BIOMASS'].sum())\n",
    "\n",
    "    # Drop zero rows and columns\n",
    "    zero_sectors = list(sam_df.sum(axis=0)[sam_df.sum(axis=0) == 0].keys())\n",
    "    sam_df = sam_df.drop(zero_sectors, axis = 0).drop(zero_sectors, axis = 1)\n",
    "\n",
    "    # Sort columns and index\n",
    "    sam_df = sam_df.reindex(sorted(sam_df.columns), axis=1).reindex(\n",
    "                    sorted(sam_df.index), axis=0)\n",
    "\n",
    "    # Ensure no remaining col/row sums are zero\n",
    "    assert ~np.any(sam_df.sum(axis=0)==0) \n",
    "    assert ~np.any(sam_df.sum(axis=1)==0) \n",
    "        \n",
    "    # Generate matrix from sam\n",
    "    sam_mat = np.matrix(sam_df)\n",
    "\n",
    "\n",
    "    ## Initial Guess: RAS\n",
    "    sam_mat_temp = np.array(sam_df).copy()\n",
    "    target_sum   = np.array((np.array(sam_mat_temp.sum(axis = 0).T).flatten() + \n",
    "                             np.array(sam_mat_temp.sum(axis = 1)).flatten())/2)\n",
    "\n",
    "    # RAS iterations\n",
    "    for i in range(10):\n",
    "        sam_mat_temp = np.array(RAS_step(target_sum.copy(), target_sum.copy(), \n",
    "                                seed_values = sam_mat_temp.copy()))\n",
    "    \n",
    "    # Ensure original zero entries are still zero\n",
    "    true_zero_idx = np.where(np.matrix(sam_df) < 0.01)\n",
    "    assert len(np.where(sam_mat_temp[true_zero_idx] != 0)[0]) == 0\n",
    "\n",
    "    # Ensure no entries became zero after balancing\n",
    "    not_zero_idx = np.where(np.matrix(sam_df) > 0.01)\n",
    "    assert len(np.where(sam_mat_temp[not_zero_idx] == 0)[0]) == 0\n",
    "\n",
    "\n",
    "    ## Balancing: Cross Entropy\n",
    "    # With an initial guess being sam_mat_temp\n",
    "    B = sam_mat_temp[sam_mat_temp != 0]\n",
    "\n",
    "    # Reconvert B to a matrix\n",
    "    sam_B = vec_to_sam(B)\n",
    "\n",
    "    # Check that its the same as the matrix it came from\n",
    "    assert np.mean(sam_B - sam_mat_temp) == 0\n",
    "\n",
    "    # Bound all values to positives\n",
    "    bound_array = np.array([(0.0001,np.max(np.max(sam_df))*2)]*(len(B)))\n",
    "\n",
    "    # Constraints\n",
    "    con_1 = optimize.NonlinearConstraint(row_col_constraint,      \n",
    "                                         0, row_col_constraint(B)*1)\n",
    "    con_2 = optimize.NonlinearConstraint(row_col_constraint_sums, \n",
    "                                         0, row_col_constraint_sums(B)*1)\n",
    "\n",
    "    # Optimize\n",
    "    result = optimize.minimize(kl_divergence, B, \n",
    "                           constraints = (con_1, con_2), bounds = bound_array,\n",
    "                           options = {'disp': True})\n",
    "\n",
    "    # Check for balancing success \n",
    "    if not (result.success and (kl_divergence(result.x) <= kl_divergence(B)) \n",
    "        and (row_col_constraint(result.x) <= row_col_constraint(B)) \n",
    "        and (row_col_constraint_sums(result.x) <= row_col_constraint_sums(B))):\n",
    "        \n",
    "        print('Objective and Constraint Values Before Optimization')\n",
    "        print('KL Divergence:      {0:20.5f}'.format(kl_divergence(B)))\n",
    "        print('Row Col Cons:       {0:20.5f}'.format(row_col_constraint(B)))\n",
    "        print('Row Col Sums Cons:  {0:20.5f}'.format(row_col_constraint_sums(B)))\n",
    "        \n",
    "        print('Objective and Constraint Values After Optimization')\n",
    "        print('KL Divergence:      {0:20.5f}'.format(kl_divergence(result.x)))\n",
    "        print('Row Col Cons:       {0:20.5f}'.format(\n",
    "            row_col_constraint(result.x)))\n",
    "        print('Row Col Sums Cons:  {0:20.5f}'.format(\n",
    "            row_col_constraint_sums(result.x)))\n",
    "        \n",
    "        print('Change in Objective and Constraint Values')\n",
    "        print('Change in KL Divergence:      {0:+10.4%}'.format(\n",
    "            (kl_divergence(result.x)/kl_divergence(B)) - 1 + 1e-6))\n",
    "        print('Change in Row Col Cons:       {0:+10.4%}'.format(\n",
    "            (row_col_constraint(result.x)/row_col_constraint(B)) - 1 + 1e-6))\n",
    "        print('Change in Row Col Sums Cons:  {0:+10.4%}'.format(\n",
    "            (row_col_constraint_sums(result.x)/row_col_constraint_sums(B)) \n",
    "            - 1 + 1e-6))\n",
    "        \n",
    "        raise Exception('Error balancing SAM for {0} - {1}'.format(\n",
    "            sam_state.replace('_', ' '), sam_year))\n",
    "\n",
    "\n",
    "    ## Export Data\n",
    "\n",
    "    # Convert to dataframe\n",
    "    sam_balanced_df = pd.DataFrame(vec_to_sam(result.x), columns = sam_df.columns, index = sam_df.index)\n",
    "\n",
    "    # Add zero sectors back in\n",
    "    for sec in zero_sectors:\n",
    "        sam_balanced_df.loc[sec,:] = 0\n",
    "        sam_balanced_df.loc[:,sec] = 0\n",
    "\n",
    "    # Construct pivotted version of balanced sam\n",
    "    sam_bal_pivot_df              = sam_balanced_df.reset_index().melt(\n",
    "        id_vars = 'index', value_vars = sam_balanced_df.columns)\n",
    "    sam_bal_pivot_df.columns      = ['ExportingSector', 'ImportingSector', \n",
    "        'TransferAmount']\n",
    "    sam_bal_pivot_df['Region']    =  'USA'\n",
    "    sam_bal_pivot_df['SubRegion'] = sam_state.replace('_', ' ')\n",
    "    sam_bal_pivot_df['SubRegion'] = sam_year\n",
    "\n",
    "    # Export to csv\n",
    "#     sam_bal_pivot_df.to_csv('../../data/sam/balanced/{0}_{1}.csv'.format(\n",
    "#         sam_state, sam_year), index = False)"
   ]
  },
  {
   "cell_type": "code",
   "execution_count": null,
   "metadata": {},
   "outputs": [],
   "source": []
  }
 ],
 "metadata": {
  "kernelspec": {
   "display_name": "Python 3",
   "language": "python",
   "name": "python3"
  },
  "language_info": {
   "codemirror_mode": {
    "name": "ipython",
    "version": 3
   },
   "file_extension": ".py",
   "mimetype": "text/x-python",
   "name": "python",
   "nbconvert_exporter": "python",
   "pygments_lexer": "ipython3",
   "version": "3.5.2"
  },
  "toc": {
   "base_numbering": 1,
   "nav_menu": {},
   "number_sections": true,
   "sideBar": true,
   "skip_h1_title": false,
   "title_cell": "Table of Contents",
   "title_sidebar": "Contents",
   "toc_cell": false,
   "toc_position": {
    "height": "calc(100% - 180px)",
    "left": "10px",
    "top": "150px",
    "width": "263px"
   },
   "toc_section_display": true,
   "toc_window_display": true
  }
 },
 "nbformat": 4,
 "nbformat_minor": 2
}
