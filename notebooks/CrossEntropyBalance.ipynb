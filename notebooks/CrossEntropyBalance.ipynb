{
 "cells": [
  {
   "cell_type": "code",
   "execution_count": 1,
   "metadata": {},
   "outputs": [],
   "source": [
    "import pandas as pd\n",
    "import numpy as np\n",
    "from scipy import optimize"
   ]
  },
  {
   "cell_type": "code",
   "execution_count": 2,
   "metadata": {},
   "outputs": [],
   "source": [
    "sam_df = pd.read_csv('../data/sam/state_sams/Alabama_2015.csv', index_col = 0)"
   ]
  },
  {
   "cell_type": "code",
   "execution_count": null,
   "metadata": {},
   "outputs": [],
   "source": []
  },
  {
   "cell_type": "code",
   "execution_count": 3,
   "metadata": {},
   "outputs": [],
   "source": [
    "# Generate matrix from sam\n",
    "sam_mat = np.matrix(sam_df)"
   ]
  },
  {
   "cell_type": "code",
   "execution_count": 4,
   "metadata": {},
   "outputs": [],
   "source": [
    "# # Random matrix for testing\n",
    "# temp = np.matrix(np.random.random((4,4)))*1.2\n",
    "# sam_mat_true = np.round(temp + temp.T, 0).astype(int)\n",
    "# sam_mat = sam_mat_true\n",
    "# sam_mat[:,1] = 0\n",
    "# sam_mat[1,:] = 0\n",
    "# sam_mat "
   ]
  },
  {
   "cell_type": "code",
   "execution_count": 5,
   "metadata": {},
   "outputs": [],
   "source": [
    "# Column sums\n",
    "y = np.sum(sam_mat, axis = 0).T"
   ]
  },
  {
   "cell_type": "code",
   "execution_count": 6,
   "metadata": {},
   "outputs": [],
   "source": [
    "# Coefficient matrix\n",
    "A = np.divide(sam_mat, y.T, where = (y.T != 0))\n",
    "A[:, np.where(y.T == 0)[1]] = 0\n",
    "A_original = A.copy()\n",
    "\n",
    "n = np.shape(A)[0]"
   ]
  },
  {
   "cell_type": "code",
   "execution_count": 7,
   "metadata": {},
   "outputs": [],
   "source": [
    "def kl_divergence(mat_b):\n",
    "    mat_a = A_original\n",
    "    mat_b = np.matrix(np.reshape(mat_b, (n,n)))\n",
    "    \n",
    "    # Divide matrices where we don't have zeros\n",
    "    mat_div = np.divide(mat_b, mat_a, where = ((mat_a*100).astype(int) != 0))\n",
    "    \n",
    "    # Replace 0's with 1's which will become 0's when logged\n",
    "    mat_div[mat_div == 0] = 1\n",
    "    \n",
    "    return np.sum(np.multiply(mat_b, np.log(mat_div)))\n",
    "\n",
    "def row_col_constraint(A):    \n",
    "    A = np.matrix(np.reshape(A, (n,n)))\n",
    "    return np.sum(np.square(np.dot(A, y) - y))\n",
    "\n",
    "def coeff_constraint(A):\n",
    "    A = np.matrix(np.reshape(A, (n,n)))\n",
    "    \n",
    "    # Get squared differences from A column sums and 1 \n",
    "    sq_error = np.array(np.square(np.sum(A, axis = 0) - 1)).flatten()\n",
    "    \n",
    "    # Ignore error terms where A is 0 (indicates 0 row/col in SAM)\n",
    "    sq_error[np.where(np.sum(A, axis = 0) == 0)[1]] = 0\n",
    "    \n",
    "    return np.sum(sq_error)"
   ]
  },
  {
   "cell_type": "code",
   "execution_count": 8,
   "metadata": {},
   "outputs": [
    {
     "name": "stdout",
     "output_type": "stream",
     "text": [
      "301888467519.16077\n",
      "2.711709361697228e-31\n"
     ]
    }
   ],
   "source": [
    "print(row_col_constraint(A))\n",
    "print(coeff_constraint(A))"
   ]
  },
  {
   "cell_type": "code",
   "execution_count": 9,
   "metadata": {},
   "outputs": [],
   "source": [
    "# Bound all values between [0,1], bound zeros to zero\n",
    "bound_array = np.array([(0,1)]*(n**2))\n",
    "bound_array[np.where(np.array(np.reshape(A_original, (n**2)) == 0).flatten())] = (0,0)\n",
    "\n",
    "# Constraints\n",
    "con_1 = optimize.NonlinearConstraint(coeff_constraint,   0, 1e2)\n",
    "con_2 = optimize.NonlinearConstraint(row_col_constraint, 0, 1e8)"
   ]
  },
  {
   "cell_type": "code",
   "execution_count": 10,
   "metadata": {},
   "outputs": [],
   "source": [
    "# Initial guess"
   ]
  },
  {
   "cell_type": "code",
   "execution_count": 359,
   "metadata": {},
   "outputs": [],
   "source": [
    "sam_mat_temp = sam_mat.copy()"
   ]
  },
  {
   "cell_type": "code",
   "execution_count": 366,
   "metadata": {},
   "outputs": [],
   "source": [
    "track_list = []\n",
    "\n",
    "for t in range(100):\n",
    "\n",
    "    div_differences = np.divide(sam_mat_temp.sum(axis = 1).T, sam_mat_temp.sum(axis = 0), where = (sam_mat_temp.sum(axis = 0) != 0))\n",
    "\n",
    "    for i in range(n):\n",
    "        sam_mat_temp[:,i] = sam_mat_temp[:,i]*div_differences[0,i]\n",
    "\n",
    "    div_differences = np.divide(sam_mat_temp.sum(axis = 0).T, sam_mat_temp.sum(axis = 1), where = (sam_mat_temp.sum(axis = 1) != 0))\n",
    "\n",
    "    for i in range(n):\n",
    "        sam_mat_temp[i,:] = sam_mat_temp[i,:]*div_differences[i,0]\n",
    "\n",
    "\n",
    "    #print(np.divide(sam_mat_temp.sum(axis = 0).T, sam_mat_temp.sum(axis = 1), where = (sam_mat_temp.sum(axis = 1) != 0)))\n",
    "\n",
    "    track_list.append([t, np.sum(np.square(np.add(sam_mat_temp.sum(axis = 0).T, -sam_mat_temp.sum(axis = 1))))])"
   ]
  },
  {
   "cell_type": "code",
   "execution_count": 365,
   "metadata": {},
   "outputs": [
    {
     "data": {
      "text/plain": [
       "<matplotlib.axes._subplots.AxesSubplot at 0x7fd1f39d2fd0>"
      ]
     },
     "execution_count": 365,
     "metadata": {},
     "output_type": "execute_result"
    },
    {
     "data": {
      "image/png": "[encoded data removed]",
      "text/plain": [
       "<Figure size 432x288 with 1 Axes>"
      ]
     },
     "metadata": {},
     "output_type": "display_data"
    }
   ],
   "source": [
    "# import seaborn as sns; sns.set();\n",
    "# sns.lineplot(x = 0, y = 1, data = pd.DataFrame(track_list))"
   ]
  },
  {
   "cell_type": "code",
   "execution_count": null,
   "metadata": {},
   "outputs": [],
   "source": [
    "result = optimize.minimize(kl_divergence, np.reshape(np.array(A), (n**2)), \n",
    "                           constraints = (con_1, con_2), bounds = bound_array,\n",
    "                           options = {'disp': True, 'maxiter': 10})\n",
    "result"
   ]
  },
  {
   "cell_type": "code",
   "execution_count": 976,
   "metadata": {},
   "outputs": [
    {
     "name": "stdout",
     "output_type": "stream",
     "text": [
      "97.69723604683855\n",
      "160191793642.6488\n"
     ]
    }
   ],
   "source": [
    "print(coeff_constraint(result.x))\n",
    "print(row_col_constraint(result.x))"
   ]
  },
  {
   "cell_type": "code",
   "execution_count": 977,
   "metadata": {},
   "outputs": [],
   "source": [
    "A_opt = np.reshape(result.x, (n,n))\n",
    "A_opt[A_opt == 1] = 0\n",
    "\n",
    "sam_mat_bal = np.multiply(A_opt, y.T) "
   ]
  },
  {
   "cell_type": "code",
   "execution_count": 978,
   "metadata": {},
   "outputs": [
    {
     "data": {
      "text/plain": [
       "matrix([[1.52526403e-03, 4.62972502e+03, 9.65473318e+04, ...,\n",
       "         2.03675610e-02, 0.00000000e+00, 0.00000000e+00],\n",
       "        [1.47336234e-03, 9.96581346e-03, 8.61682441e+01, ...,\n",
       "         3.16603659e-02, 0.00000000e+00, 0.00000000e+00],\n",
       "        [0.00000000e+00, 4.62652171e+03, 1.07375841e-01, ...,\n",
       "         0.00000000e+00, 0.00000000e+00, 0.00000000e+00],\n",
       "        ...,\n",
       "        [0.00000000e+00, 0.00000000e+00, 0.00000000e+00, ...,\n",
       "         0.00000000e+00, 0.00000000e+00, 0.00000000e+00],\n",
       "        [0.00000000e+00, 0.00000000e+00, 0.00000000e+00, ...,\n",
       "         0.00000000e+00, 0.00000000e+00, 0.00000000e+00],\n",
       "        [0.00000000e+00, 0.00000000e+00, 0.00000000e+00, ...,\n",
       "         0.00000000e+00, 0.00000000e+00, 0.00000000e+00]])"
      ]
     },
     "execution_count": 978,
     "metadata": {},
     "output_type": "execute_result"
    }
   ],
   "source": [
    "sam_mat_bal"
   ]
  },
  {
   "cell_type": "code",
   "execution_count": 979,
   "metadata": {
    "scrolled": true
   },
   "outputs": [
    {
     "data": {
      "text/plain": [
       "matrix([[-1.12591658e+05],\n",
       "        [-1.45560316e+04],\n",
       "        [-2.18977268e+04],\n",
       "        [-5.79550281e+04],\n",
       "        [ 6.12675384e+04],\n",
       "        [-1.79887938e+04],\n",
       "        [-7.32439563e+04],\n",
       "        [-6.61332606e+03],\n",
       "        [-9.18629928e+02],\n",
       "        [-2.57584980e+03],\n",
       "        [-4.05889351e+04],\n",
       "        [-3.83813745e+04],\n",
       "        [-6.51227709e+00],\n",
       "        [-1.10103558e+04],\n",
       "        [ 6.88144755e+04],\n",
       "        [-6.09650781e+03],\n",
       "        [-1.00118222e+04],\n",
       "        [ 2.02893501e+05],\n",
       "        [-1.13763381e+04],\n",
       "        [-1.03846141e+03],\n",
       "        [-1.10536002e+05],\n",
       "        [-1.16293702e+04],\n",
       "        [-2.00905358e+05],\n",
       "        [-3.65870413e+03],\n",
       "        [ 2.46444652e+04],\n",
       "        [-2.36628888e+03],\n",
       "        [ 5.80418375e+04],\n",
       "        [ 2.51077615e+05],\n",
       "        [ 2.03266964e-01],\n",
       "        [ 9.17365458e+04],\n",
       "        [-2.79185516e+03],\n",
       "        [ 0.00000000e+00],\n",
       "        [ 2.62704348e+02]])"
      ]
     },
     "execution_count": 979,
     "metadata": {},
     "output_type": "execute_result"
    }
   ],
   "source": [
    "sam_mat_bal.sum(axis = 0).T - sam_mat_bal.sum(axis = 1)"
   ]
  },
  {
   "cell_type": "code",
   "execution_count": null,
   "metadata": {},
   "outputs": [],
   "source": []
  },
  {
   "cell_type": "code",
   "execution_count": null,
   "metadata": {},
   "outputs": [],
   "source": []
  }
 ],
 "metadata": {
  "kernelspec": {
   "display_name": "Python 3",
   "language": "python",
   "name": "python3"
  },
  "language_info": {
   "codemirror_mode": {
    "name": "ipython",
    "version": 3
   },
   "file_extension": ".py",
   "mimetype": "text/x-python",
   "name": "python",
   "nbconvert_exporter": "python",
   "pygments_lexer": "ipython3",
   "version": "3.5.2"
  },
  "toc": {
   "base_numbering": 1,
   "nav_menu": {},
   "number_sections": true,
   "sideBar": true,
   "skip_h1_title": false,
   "title_cell": "Table of Contents",
   "title_sidebar": "Contents",
   "toc_cell": false,
   "toc_position": {},
   "toc_section_display": true,
   "toc_window_display": true
  }
 },
 "nbformat": 4,
 "nbformat_minor": 2
}
