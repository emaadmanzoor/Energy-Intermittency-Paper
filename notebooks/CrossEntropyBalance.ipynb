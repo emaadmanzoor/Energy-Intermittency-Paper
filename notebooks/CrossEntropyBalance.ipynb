{
 "cells": [
  {
   "cell_type": "code",
   "execution_count": 396,
   "metadata": {},
   "outputs": [],
   "source": [
    "import pandas as pd\n",
    "import numpy as np\n",
    "from scipy import optimize\n",
    "import seaborn as sns; sns.set(); \n",
    "%matplotlib inline"
   ]
  },
  {
   "cell_type": "markdown",
   "metadata": {},
   "source": [
    "## Import Data"
   ]
  },
  {
   "cell_type": "code",
   "execution_count": 397,
   "metadata": {},
   "outputs": [],
   "source": [
    "sam_df = pd.read_csv('../data/sam/state_sams/Alabama_2015.csv', index_col = 0)\n",
    "\n",
    "# Sort columns and index\n",
    "sam_df = sam_df.reindex(sorted(sam_df.columns), axis=1).reindex(sorted(sam_df.index), axis=0)"
   ]
  },
  {
   "cell_type": "markdown",
   "metadata": {},
   "source": [
    "## Function Input"
   ]
  },
  {
   "cell_type": "code",
   "execution_count": 398,
   "metadata": {},
   "outputs": [],
   "source": [
    "# Generate matrix from sam\n",
    "sam_mat = np.matrix(sam_df)"
   ]
  },
  {
   "cell_type": "code",
   "execution_count": 399,
   "metadata": {
    "scrolled": true
   },
   "outputs": [
    {
     "data": {
      "text/plain": [
       "AGR_CRP         -8.88\n",
       "AGR_LIV         82.35\n",
       "BIOMASS          0.00\n",
       "CAP              2.23\n",
       "CORP             0.00\n",
       "ELC_BECCS        0.00\n",
       "ELC_BIOMASS     89.71\n",
       "ELC_DIST        25.28\n",
       "ELC_FF          -0.14\n",
       "ELC_GEO          0.00\n",
       "ELC_HYDRO      -14.44\n",
       "ELC_NUC        -66.26\n",
       "ELC_OTHER       -1.29\n",
       "ELC_RNW          0.00\n",
       "ELC_SOLAR        0.00\n",
       "ELC_WIND         0.00\n",
       "FORE           -84.31\n",
       "GOV_FED         28.20\n",
       "GOV_FED_EMP      0.00\n",
       "GOV_FED_ENT     41.84\n",
       "GOV_STT        663.00\n",
       "GOV_STT_EMP      0.00\n",
       "GOV_STT_ENT     81.81\n",
       "HOH             -0.00\n",
       "LAB            -10.85\n",
       "MAN              0.86\n",
       "NonIndustry      0.00\n",
       "PAP              1.55\n",
       "PROF            -0.00\n",
       "PROP           -13.95\n",
       "SER             -0.00\n",
       "TAX           -816.66\n",
       "TRD             -0.00\n",
       "dtype: float64"
      ]
     },
     "execution_count": 399,
     "metadata": {},
     "output_type": "execute_result"
    }
   ],
   "source": [
    "sam_df.sum(axis = 0)[sam_df.sum(axis = 0) == 0]\n",
    "\n",
    "sam_df.sum(axis = 0)[sam_df.sum(axis = 1) == 0]\n",
    "\n",
    "np.round(sam_df.sum(axis = 0) - sam_df.sum(axis = 1), 2)"
   ]
  },
  {
   "cell_type": "code",
   "execution_count": 400,
   "metadata": {},
   "outputs": [],
   "source": [
    "# # Random matrix for testing\n",
    "# temp = np.matrix(np.random.random((4,4)))*1.2\n",
    "# sam_mat_true = np.round(temp + temp.T, 0).astype(int)\n",
    "# sam_mat = sam_mat_true + np.round(np.matrix(np.random.random((10,10)))*3.2, 0)\n",
    "# sam_mat[:,1] = 0\n",
    "# sam_mat[1,:] = 0\n",
    "# sam_mat "
   ]
  },
  {
   "cell_type": "code",
   "execution_count": 401,
   "metadata": {},
   "outputs": [],
   "source": [
    "# Column sums\n",
    "y = np.sum(sam_mat, axis = 0).T\n",
    "\n",
    "# Coefficient matrix\n",
    "A = np.divide(sam_mat, y.T, where = (y.T != 0))\n",
    "A[:, np.where(y.T == 0)[1]] = 0\n",
    "A_original = A.copy()\n",
    "\n",
    "n = np.shape(A)[0]"
   ]
  },
  {
   "cell_type": "markdown",
   "metadata": {},
   "source": [
    "## Objectives and Constrains"
   ]
  },
  {
   "cell_type": "code",
   "execution_count": 510,
   "metadata": {},
   "outputs": [],
   "source": [
    "def kl_divergence(mat_b):\n",
    "    mat_a = A_original\n",
    "    mat_b = np.matrix(np.reshape(mat_b, (n,n)))\n",
    "    \n",
    "    # Divide matrices where we don't have zeros\n",
    "    mat_div = np.divide(mat_b, mat_a, where = ((mat_a*100).astype(int) != 0))\n",
    "    \n",
    "    # Replace 0's with 1's which will become 0's when logged\n",
    "    mat_div[np.where((mat_a*100).astype(int) == 0)] = 1\n",
    "    mat_div[mat_div == 0] = 1\n",
    "    \n",
    "    return np.sum(np.multiply(mat_b, np.log(mat_div)))\n",
    "\n",
    "def row_col_constraint(A):    \n",
    "    A = np.matrix(np.reshape(A, (n,n)))\n",
    "    sam = np.multiply(A, y.T)\n",
    "    return np.sum(np.square(np.sum(sam, axis = 0).T - np.sum(sam, axis = 1)))\n",
    "\n",
    "def coeff_constraint(A):\n",
    "    A = np.matrix(np.reshape(A, (n,n)))\n",
    "    \n",
    "    # Get squared differences from A column sums and 1 \n",
    "    sq_error = np.array(np.square(np.sum(A, axis = 0) - 1)).flatten()\n",
    "    \n",
    "    # Ignore error terms where A is 0 (indicates 0 row/col in SAM)\n",
    "    sq_error[np.where(np.sum(A, axis = 0) == 0)[1]] = 0\n",
    "    \n",
    "    return np.sum(sq_error)"
   ]
  },
  {
   "cell_type": "markdown",
   "metadata": {},
   "source": [
    "## Initial Guess - RAS Method"
   ]
  },
  {
   "cell_type": "code",
   "execution_count": 511,
   "metadata": {},
   "outputs": [],
   "source": [
    "sam_mat_temp = sam_mat.copy()"
   ]
  },
  {
   "cell_type": "code",
   "execution_count": 512,
   "metadata": {},
   "outputs": [],
   "source": [
    "track_list  = []\n",
    "\n",
    "# Average absolute error of row column differences on which to break\n",
    "break_value = 1 \n",
    "\n",
    "for t in range(20):\n",
    "\n",
    "    div_differences = np.divide(target_sum, sam_mat_temp.sum(axis = 0), where = (sam_mat_temp.sum(axis = 0) != 0))\n",
    "    sam_mat_temp    = np.dot(sam_mat_temp, np.diag(np.array(div_differences).flatten()))\n",
    "\n",
    "    div_differences = np.divide(target_sum.T, sam_mat_temp.sum(axis = 1), where = (sam_mat_temp.sum(axis = 1) != 0))\n",
    "    sam_mat_temp    = np.dot(sam_mat_temp.T, np.diag(np.array(div_differences).flatten()).T).T              \n",
    "    \n",
    "    sam_mat_temp[2,6] = sam_mat_temp[:,2].sum()\n",
    "    \n",
    "    avg_abs_diff = (np.mean(np.abs(np.add(sam_mat_temp.sum(axis = 0).T, -sam_mat_temp.sum(axis = 1)))))\n",
    "    track_list.append([t, avg_abs_diff])\n",
    "    \n",
    "    if avg_abs_diff < 1:\n",
    "        break"
   ]
  },
  {
   "cell_type": "code",
   "execution_count": 513,
   "metadata": {},
   "outputs": [
    {
     "data": {
      "text/plain": [
       "118.12910972986266"
      ]
     },
     "execution_count": 513,
     "metadata": {},
     "output_type": "execute_result"
    }
   ],
   "source": [
    "np.sum(np.square(np.add(sam_mat_temp.sum(axis = 0).T, -sam_mat_temp.sum(axis = 1))))"
   ]
  },
  {
   "cell_type": "code",
   "execution_count": 514,
   "metadata": {},
   "outputs": [
    {
     "data": {
      "text/plain": [
       "<matplotlib.axes._subplots.AxesSubplot at 0x7f1b6327bd30>"
      ]
     },
     "execution_count": 514,
     "metadata": {},
     "output_type": "execute_result"
    },
    {
     "data": {
      "image/png": "[encoded data removed]",
      "text/plain": [
       "<Figure size 432x288 with 1 Axes>"
      ]
     },
     "metadata": {},
     "output_type": "display_data"
    }
   ],
   "source": [
    "sns.lineplot(x = 0, y = 1, data = pd.DataFrame(track_list))"
   ]
  },
  {
   "cell_type": "code",
   "execution_count": 515,
   "metadata": {},
   "outputs": [
    {
     "data": {
      "text/plain": [
       "[19, 0.9940570572881158]"
      ]
     },
     "execution_count": 515,
     "metadata": {},
     "output_type": "execute_result"
    }
   ],
   "source": [
    "track_list[-1]"
   ]
  },
  {
   "cell_type": "code",
   "execution_count": 516,
   "metadata": {},
   "outputs": [],
   "source": [
    "## Matrix for initial guess\n",
    "# Coefficient matrix\n",
    "A_temp = np.divide(sam_mat_temp, y.T, where = (y.T != 0))\n",
    "A_temp[:, np.where(y.T == 0)[1]] = 0"
   ]
  },
  {
   "cell_type": "code",
   "execution_count": 517,
   "metadata": {},
   "outputs": [
    {
     "name": "stdout",
     "output_type": "stream",
     "text": [
      "5015.4939514809785\n",
      "118.1291097297958\n"
     ]
    }
   ],
   "source": [
    "print(coeff_constraint(A_temp))\n",
    "print(row_col_constraint(A_temp))"
   ]
  },
  {
   "cell_type": "code",
   "execution_count": 486,
   "metadata": {},
   "outputs": [
    {
     "data": {
      "text/html": [
       "<div>\n",
       "<style scoped>\n",
       "    .dataframe tbody tr th:only-of-type {\n",
       "        vertical-align: middle;\n",
       "    }\n",
       "\n",
       "    .dataframe tbody tr th {\n",
       "        vertical-align: top;\n",
       "    }\n",
       "\n",
       "    .dataframe thead th {\n",
       "        text-align: right;\n",
       "    }\n",
       "</style>\n",
       "<table border=\"1\" class=\"dataframe\">\n",
       "  <thead>\n",
       "    <tr style=\"text-align: right;\">\n",
       "      <th></th>\n",
       "      <th>AGR_CRP</th>\n",
       "      <th>AGR_LIV</th>\n",
       "      <th>BIOMASS</th>\n",
       "      <th>CAP</th>\n",
       "      <th>CORP</th>\n",
       "      <th>ELC_BECCS</th>\n",
       "      <th>ELC_BIOMASS</th>\n",
       "      <th>ELC_DIST</th>\n",
       "      <th>ELC_FF</th>\n",
       "      <th>ELC_GEO</th>\n",
       "      <th>...</th>\n",
       "      <th>HOH</th>\n",
       "      <th>LAB</th>\n",
       "      <th>MAN</th>\n",
       "      <th>NonIndustry</th>\n",
       "      <th>PAP</th>\n",
       "      <th>PROF</th>\n",
       "      <th>PROP</th>\n",
       "      <th>SER</th>\n",
       "      <th>TAX</th>\n",
       "      <th>TRD</th>\n",
       "    </tr>\n",
       "  </thead>\n",
       "  <tbody>\n",
       "    <tr>\n",
       "      <th>AGR_CRP</th>\n",
       "      <td>18.280</td>\n",
       "      <td>28.046</td>\n",
       "      <td>7.942</td>\n",
       "      <td>4.794</td>\n",
       "      <td>0.000</td>\n",
       "      <td>0.0</td>\n",
       "      <td>0.000</td>\n",
       "      <td>0.0</td>\n",
       "      <td>0.00</td>\n",
       "      <td>0.0</td>\n",
       "      <td>...</td>\n",
       "      <td>69.165</td>\n",
       "      <td>0.0</td>\n",
       "      <td>382.341</td>\n",
       "      <td>0.0</td>\n",
       "      <td>0.000</td>\n",
       "      <td>0.0</td>\n",
       "      <td>0.000</td>\n",
       "      <td>13.058</td>\n",
       "      <td>0.0</td>\n",
       "      <td>804.935</td>\n",
       "    </tr>\n",
       "    <tr>\n",
       "      <th>AGR_LIV</th>\n",
       "      <td>14.123</td>\n",
       "      <td>440.701</td>\n",
       "      <td>16.982</td>\n",
       "      <td>4.477</td>\n",
       "      <td>0.000</td>\n",
       "      <td>0.0</td>\n",
       "      <td>0.000</td>\n",
       "      <td>0.0</td>\n",
       "      <td>0.00</td>\n",
       "      <td>0.0</td>\n",
       "      <td>...</td>\n",
       "      <td>92.691</td>\n",
       "      <td>0.0</td>\n",
       "      <td>2086.673</td>\n",
       "      <td>0.0</td>\n",
       "      <td>0.000</td>\n",
       "      <td>0.0</td>\n",
       "      <td>0.000</td>\n",
       "      <td>9.425</td>\n",
       "      <td>0.0</td>\n",
       "      <td>1872.766</td>\n",
       "    </tr>\n",
       "    <tr>\n",
       "      <th>BIOMASS</th>\n",
       "      <td>0.000</td>\n",
       "      <td>0.000</td>\n",
       "      <td>0.000</td>\n",
       "      <td>0.000</td>\n",
       "      <td>0.000</td>\n",
       "      <td>0.0</td>\n",
       "      <td>108.393</td>\n",
       "      <td>0.0</td>\n",
       "      <td>0.00</td>\n",
       "      <td>0.0</td>\n",
       "      <td>...</td>\n",
       "      <td>0.000</td>\n",
       "      <td>0.0</td>\n",
       "      <td>0.000</td>\n",
       "      <td>0.0</td>\n",
       "      <td>0.000</td>\n",
       "      <td>0.0</td>\n",
       "      <td>0.000</td>\n",
       "      <td>0.000</td>\n",
       "      <td>0.0</td>\n",
       "      <td>0.000</td>\n",
       "    </tr>\n",
       "    <tr>\n",
       "      <th>CAP</th>\n",
       "      <td>0.000</td>\n",
       "      <td>2.927</td>\n",
       "      <td>0.000</td>\n",
       "      <td>1122.181</td>\n",
       "      <td>6144.526</td>\n",
       "      <td>0.0</td>\n",
       "      <td>2.217</td>\n",
       "      <td>0.0</td>\n",
       "      <td>1.29</td>\n",
       "      <td>0.0</td>\n",
       "      <td>...</td>\n",
       "      <td>11695.610</td>\n",
       "      <td>0.0</td>\n",
       "      <td>163.343</td>\n",
       "      <td>0.0</td>\n",
       "      <td>21.109</td>\n",
       "      <td>0.0</td>\n",
       "      <td>31808.854</td>\n",
       "      <td>69.420</td>\n",
       "      <td>0.0</td>\n",
       "      <td>45465.664</td>\n",
       "    </tr>\n",
       "    <tr>\n",
       "      <th>CORP</th>\n",
       "      <td>0.000</td>\n",
       "      <td>0.000</td>\n",
       "      <td>0.000</td>\n",
       "      <td>0.000</td>\n",
       "      <td>0.000</td>\n",
       "      <td>0.0</td>\n",
       "      <td>0.000</td>\n",
       "      <td>0.0</td>\n",
       "      <td>0.00</td>\n",
       "      <td>0.0</td>\n",
       "      <td>...</td>\n",
       "      <td>0.000</td>\n",
       "      <td>0.0</td>\n",
       "      <td>0.000</td>\n",
       "      <td>0.0</td>\n",
       "      <td>0.000</td>\n",
       "      <td>0.0</td>\n",
       "      <td>23098.129</td>\n",
       "      <td>0.000</td>\n",
       "      <td>0.0</td>\n",
       "      <td>0.000</td>\n",
       "    </tr>\n",
       "  </tbody>\n",
       "</table>\n",
       "<p>5 rows × 33 columns</p>\n",
       "</div>"
      ],
      "text/plain": [
       "         AGR_CRP  AGR_LIV  BIOMASS       CAP      CORP  ELC_BECCS  \\\n",
       "AGR_CRP   18.280   28.046    7.942     4.794     0.000        0.0   \n",
       "AGR_LIV   14.123  440.701   16.982     4.477     0.000        0.0   \n",
       "BIOMASS    0.000    0.000    0.000     0.000     0.000        0.0   \n",
       "CAP        0.000    2.927    0.000  1122.181  6144.526        0.0   \n",
       "CORP       0.000    0.000    0.000     0.000     0.000        0.0   \n",
       "\n",
       "         ELC_BIOMASS  ELC_DIST  ELC_FF  ELC_GEO    ...            HOH  LAB  \\\n",
       "AGR_CRP        0.000       0.0    0.00      0.0    ...         69.165  0.0   \n",
       "AGR_LIV        0.000       0.0    0.00      0.0    ...         92.691  0.0   \n",
       "BIOMASS      108.393       0.0    0.00      0.0    ...          0.000  0.0   \n",
       "CAP            2.217       0.0    1.29      0.0    ...      11695.610  0.0   \n",
       "CORP           0.000       0.0    0.00      0.0    ...          0.000  0.0   \n",
       "\n",
       "              MAN  NonIndustry     PAP  PROF       PROP     SER  TAX  \\\n",
       "AGR_CRP   382.341          0.0   0.000   0.0      0.000  13.058  0.0   \n",
       "AGR_LIV  2086.673          0.0   0.000   0.0      0.000   9.425  0.0   \n",
       "BIOMASS     0.000          0.0   0.000   0.0      0.000   0.000  0.0   \n",
       "CAP       163.343          0.0  21.109   0.0  31808.854  69.420  0.0   \n",
       "CORP        0.000          0.0   0.000   0.0  23098.129   0.000  0.0   \n",
       "\n",
       "               TRD  \n",
       "AGR_CRP    804.935  \n",
       "AGR_LIV   1872.766  \n",
       "BIOMASS      0.000  \n",
       "CAP      45465.664  \n",
       "CORP         0.000  \n",
       "\n",
       "[5 rows x 33 columns]"
      ]
     },
     "execution_count": 486,
     "metadata": {},
     "output_type": "execute_result"
    }
   ],
   "source": [
    "sam_df.head()"
   ]
  },
  {
   "cell_type": "code",
   "execution_count": 518,
   "metadata": {},
   "outputs": [
    {
     "data": {
      "text/plain": [
       "matrix([[0.99998, 0.99999, 1.     , 1.00002, 1.00003, 0.     , 0.99944,\n",
       "         0.99998, 0.99998, 0.     , 0.99998, 0.99998, 0.99997, 1.00001,\n",
       "         0.     , 0.     , 0.99998, 1.00003, 0.99996, 1.     , 1.00002,\n",
       "         0.99997, 0.99999, 1.     , 1.00004, 0.99998, 0.     , 0.99998,\n",
       "         1.00004, 1.00003, 0.99998, 1.00002, 1.00002]])"
      ]
     },
     "execution_count": 518,
     "metadata": {},
     "output_type": "execute_result"
    }
   ],
   "source": [
    "np.divide(np.sum(sam_mat_temp, axis = 1).T, np.sum(sam_mat_temp, axis = 0), where = np.sum(sam_mat_temp, axis = 0) != 0)"
   ]
  },
  {
   "cell_type": "code",
   "execution_count": 503,
   "metadata": {},
   "outputs": [
    {
     "data": {
      "text/plain": [
       "118.12910972986266"
      ]
     },
     "execution_count": 503,
     "metadata": {},
     "output_type": "execute_result"
    }
   ],
   "source": [
    "np.sum(np.square(np.sum(sam_mat_temp, axis = 1).T - np.sum(sam_mat_temp, axis = 0)))"
   ]
  },
  {
   "cell_type": "markdown",
   "metadata": {},
   "source": [
    "## Optimize"
   ]
  },
  {
   "cell_type": "markdown",
   "metadata": {},
   "source": [
    "### Direct row/col min of SAM"
   ]
  },
  {
   "cell_type": "code",
   "execution_count": 175,
   "metadata": {},
   "outputs": [
    {
     "data": {
      "text/plain": [
       "matrix([[ 7.46209149e+00,  2.45462020e+00,  2.46070537e-02,\n",
       "         -2.51342645e-03,  2.08584877e+00, -1.00000000e+00,\n",
       "          3.93646645e+00,  8.49341564e+00,  1.23915841e+00,\n",
       "         -1.00000000e+00,  6.38988421e+00,  4.22469041e-01,\n",
       "          1.21701853e+02,  1.02002238e+01, -1.00000000e+00,\n",
       "         -1.00000000e+00,  3.64228496e-02,  4.08989707e-02,\n",
       "          4.05298032e+00,  1.54045825e+01, -1.04024376e-01,\n",
       "          1.20761194e+00,  6.29457503e+00, -7.06957346e-01,\n",
       "         -7.46263179e-01, -4.13541453e-01, -1.00000000e+00,\n",
       "          1.45486190e+01,  3.13621413e-02, -6.15198373e-01,\n",
       "         -5.97651216e-01,  2.70548901e+00, -7.65384831e-01]])"
      ]
     },
     "execution_count": 175,
     "metadata": {},
     "output_type": "execute_result"
    }
   ],
   "source": [
    "np.divide(A.sum(axis = 0), A.sum(axis = 1).T, where = A.sum(axis = 1).T != 0) - 1"
   ]
  },
  {
   "cell_type": "code",
   "execution_count": 224,
   "metadata": {},
   "outputs": [],
   "source": [
    "def row_col_diff(A):\n",
    "    A = np.matrix(np.reshape(A, (n,n)))\n",
    "    return np.sum(np.square(np.add(\n",
    "        np.divide(A.sum(axis = 0), A.sum(axis = 1).T, where = A.sum(axis = 1).T != 0), -1, \n",
    "        where = A.sum(axis = 1).T != 0)))"
   ]
  },
  {
   "cell_type": "code",
   "execution_count": 225,
   "metadata": {},
   "outputs": [],
   "source": [
    "sam_mat_test = sam_mat.copy()"
   ]
  },
  {
   "cell_type": "code",
   "execution_count": 226,
   "metadata": {},
   "outputs": [],
   "source": [
    "bound_array = np.array([(0.0001,np.max(sam_mat))]*(n**2))\n",
    "bound_array[np.where(np.array(np.reshape(sam_mat, (n**2)) == 0).flatten())] = (0,0)\n",
    "\n",
    "y_control = lambda x: np.sum(np.square(np.reshape(np.array(x), (n,n)).sum(axis = 0) - y.T))\n",
    "con_1     = optimize.NonlinearConstraint(y_control,   0, 1e4)\n",
    "\n",
    "result = optimize.minimize(row_col_diff, np.reshape(np.array(sam_mat_test), (n**2)), \n",
    "                           bounds = bound_array,\n",
    "                           options = {'disp': True, 'maxiter': 10})\n",
    "sam_mat_test = np.reshape(result.x, (n,n))"
   ]
  },
  {
   "cell_type": "code",
   "execution_count": 227,
   "metadata": {},
   "outputs": [],
   "source": [
    "## Matrix for initial guess\n",
    "# Coefficient matrix\n",
    "A_temp = np.divide(sam_mat_test, y.T, where = (y.T != 0))\n",
    "A_temp[:, np.where(y.T == 0)[1]] = 0"
   ]
  },
  {
   "cell_type": "code",
   "execution_count": 267,
   "metadata": {},
   "outputs": [
    {
     "data": {
      "text/plain": [
       "0.0"
      ]
     },
     "execution_count": 267,
     "metadata": {},
     "output_type": "execute_result"
    }
   ],
   "source": [
    "kl_divergence(A_original)"
   ]
  },
  {
   "cell_type": "code",
   "execution_count": 229,
   "metadata": {},
   "outputs": [
    {
     "data": {
      "text/plain": [
       "23.665715286007497"
      ]
     },
     "execution_count": 229,
     "metadata": {},
     "output_type": "execute_result"
    }
   ],
   "source": [
    "row_col_diff(result.x)"
   ]
  },
  {
   "cell_type": "markdown",
   "metadata": {},
   "source": [
    "### Cross Entropy"
   ]
  },
  {
   "cell_type": "code",
   "execution_count": 532,
   "metadata": {},
   "outputs": [],
   "source": [
    "# Bound all values between [0,1], bound zeros to zero\n",
    "bound_array = np.array([(0.0001,1)]*(n**2))\n",
    "bound_array[np.where(np.array(np.reshape(A_original, (n**2)) == 0).flatten())] = (0,0)\n",
    "\n",
    "# Constraints\n",
    "con_1 = optimize.NonlinearConstraint(coeff_constraint,   0, 10000)\n",
    "con_2 = optimize.NonlinearConstraint(row_col_constraint, 0, 200)"
   ]
  },
  {
   "cell_type": "code",
   "execution_count": 533,
   "metadata": {},
   "outputs": [
    {
     "name": "stdout",
     "output_type": "stream",
     "text": [
      "443.8397239026573\n",
      "5015.4939514809785\n",
      "118.1291097297958\n"
     ]
    }
   ],
   "source": [
    "print(kl_divergence(A_temp))\n",
    "print(coeff_constraint(A_temp))\n",
    "print(row_col_constraint(A_temp))"
   ]
  },
  {
   "cell_type": "code",
   "execution_count": 534,
   "metadata": {},
   "outputs": [
    {
     "name": "stdout",
     "output_type": "stream",
     "text": [
      "Iteration limit exceeded    (Exit mode 9)\n",
      "            Current function value: -10.200629878252963\n",
      "            Iterations: 101\n",
      "            Function evaluations: 110353\n",
      "            Gradient evaluations: 101\n"
     ]
    },
    {
     "data": {
      "text/plain": [
       "     fun: -10.200629878252963\n",
       "     jac: array([0.00424, 0.     , 0.0007 , ..., 0.0052 , 0.     , 0.     ])\n",
       " message: 'Iteration limit exceeded'\n",
       "    nfev: 110353\n",
       "     nit: 101\n",
       "    njev: 101\n",
       "  status: 9\n",
       " success: False\n",
       "       x: array([0.00502, 0.05569, 0.02697, ..., 0.05744, 0.     , 0.     ])"
      ]
     },
     "execution_count": 534,
     "metadata": {},
     "output_type": "execute_result"
    }
   ],
   "source": [
    "result = optimize.minimize(kl_divergence, np.reshape(np.array(A_temp), (n**2)), \n",
    "                           constraints = (con_1, con_2), bounds = bound_array,\n",
    "                           options = {'disp': True})\n",
    "result"
   ]
  },
  {
   "cell_type": "code",
   "execution_count": 535,
   "metadata": {},
   "outputs": [
    {
     "name": "stdout",
     "output_type": "stream",
     "text": [
      "-10.200629878252963\n",
      "9.534172717069987\n",
      "37935682.445935935\n"
     ]
    }
   ],
   "source": [
    "print(kl_divergence(result.x))\n",
    "print(coeff_constraint(result.x))\n",
    "print(row_col_constraint(result.x))"
   ]
  },
  {
   "cell_type": "code",
   "execution_count": 52,
   "metadata": {},
   "outputs": [],
   "source": [
    "A_opt = np.reshape(result.x, (n,n))\n",
    "A_opt[A_opt == 1] = 0\n",
    "\n",
    "sam_mat_bal = np.multiply(A_opt, y.T) "
   ]
  },
  {
   "cell_type": "code",
   "execution_count": 53,
   "metadata": {
    "scrolled": true
   },
   "outputs": [
    {
     "data": {
      "text/plain": [
       "matrix([[-1.17066619e+05],\n",
       "        [-2.28713205e+06],\n",
       "        [ 1.46061729e+08],\n",
       "        [ 2.31269938e+07],\n",
       "        [ 1.50107484e+06],\n",
       "        [-2.08514676e+06],\n",
       "        [ 3.02943377e+06],\n",
       "        [-9.12199582e+02],\n",
       "        [-8.41546337e+04],\n",
       "        [-3.49005726e+05],\n",
       "        [ 2.26778591e+03],\n",
       "        [-8.90802899e+03],\n",
       "        [-3.36556522e+03],\n",
       "        [-4.94761714e+05],\n",
       "        [ 1.03030662e+08],\n",
       "        [-1.01235468e+07],\n",
       "        [-3.69241494e+06],\n",
       "        [-2.39466469e+07],\n",
       "        [-7.34603955e+06],\n",
       "        [ 2.04662253e+06],\n",
       "        [-1.22787409e+08],\n",
       "        [ 4.94385819e+07],\n",
       "        [ 1.92649612e+08],\n",
       "        [-2.91352499e+04],\n",
       "        [ 5.12569959e+06],\n",
       "        [ 5.13411193e+05],\n",
       "        [ 1.02144646e+08],\n",
       "        [-2.02082952e+08],\n",
       "        [ 1.10150434e+07],\n",
       "        [-2.49391521e+08],\n",
       "        [-1.40931991e+07],\n",
       "        [-3.12379048e+02],\n",
       "        [-7.62146223e+05]])"
      ]
     },
     "execution_count": 53,
     "metadata": {},
     "output_type": "execute_result"
    }
   ],
   "source": [
    "sam_mat_bal.sum(axis = 0).T - sam_mat_bal.sum(axis = 1)"
   ]
  }
 ],
 "metadata": {
  "kernelspec": {
   "display_name": "Python 3",
   "language": "python",
   "name": "python3"
  },
  "language_info": {
   "codemirror_mode": {
    "name": "ipython",
    "version": 3
   },
   "file_extension": ".py",
   "mimetype": "text/x-python",
   "name": "python",
   "nbconvert_exporter": "python",
   "pygments_lexer": "ipython3",
   "version": "3.5.2"
  },
  "toc": {
   "base_numbering": 1,
   "nav_menu": {},
   "number_sections": true,
   "sideBar": true,
   "skip_h1_title": false,
   "title_cell": "Table of Contents",
   "title_sidebar": "Contents",
   "toc_cell": false,
   "toc_position": {
    "height": "calc(100% - 180px)",
    "left": "10px",
    "top": "150px",
    "width": "384px"
   },
   "toc_section_display": true,
   "toc_window_display": true
  }
 },
 "nbformat": 4,
 "nbformat_minor": 2
}
