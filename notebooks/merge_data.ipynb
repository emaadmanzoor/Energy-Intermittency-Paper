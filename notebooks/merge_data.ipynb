{
 "cells": [
  {
   "cell_type": "code",
   "execution_count": 106,
   "metadata": {},
   "outputs": [],
   "source": [
    "import pandas as pd\n",
    "import numpy as np"
   ]
  },
  {
   "cell_type": "code",
   "execution_count": 107,
   "metadata": {},
   "outputs": [],
   "source": [
    "data_dir = '../data/'\n",
    "elec_dir = data_dir + 'electricity/'"
   ]
  },
  {
   "cell_type": "markdown",
   "metadata": {},
   "source": [
    "# Import Data"
   ]
  },
  {
   "cell_type": "markdown",
   "metadata": {},
   "source": [
    "## Data"
   ]
  },
  {
   "cell_type": "code",
   "execution_count": 108,
   "metadata": {},
   "outputs": [],
   "source": [
    "# Instruments\n",
    "data_instruments = pd.read_csv(data_dir + 'processed/' + 'instruments_data.csv')\n",
    "\n",
    "# Fuel generation and consumption\n",
    "data_fuel_gen_con = pd.read_csv(data_dir + 'processed/' + 'fuel_data.csv')\n",
    "\n",
    "# Electricity Prices\n",
    "elc_pr_file_loc = elec_dir + 'avg_elec_price.csv'\n",
    "data_elc_pr = pd.read_csv(elc_pr_file_loc, na_values = ['NA'])"
   ]
  },
  {
   "cell_type": "markdown",
   "metadata": {},
   "source": [
    "## Keys"
   ]
  },
  {
   "cell_type": "code",
   "execution_count": 109,
   "metadata": {},
   "outputs": [],
   "source": [
    "# MSN Codes Key\n",
    "msn_codes_file_loc = data_dir + 'keys/MSN_codes.csv'\n",
    "msn_codes_key = pd.read_csv(msn_codes_file_loc)\n",
    "\n",
    "# State FIPS Codes\n",
    "state_fips_file_loc = data_dir + 'keys/state_FIPS.csv'\n",
    "state_fips_key = pd.read_csv(state_fips_file_loc)\n",
    "state_fips_indicators = ['State Abbreviation', 'State Name']\n",
    "\n",
    "# Month Key\n",
    "month_key = dict(zip(['January', 'February', 'March', 'April', 'May', 'June', 'July', 'August', 'September', 'October', 'November', 'December'], range(1,13)))"
   ]
  },
  {
   "cell_type": "markdown",
   "metadata": {},
   "source": [
    "# Clean Data"
   ]
  },
  {
   "cell_type": "code",
   "execution_count": 110,
   "metadata": {},
   "outputs": [],
   "source": [
    "# Melt month columns\n",
    "data_elc_pr = data_elc_pr.melt(id_vars = ['State Name', 'Sector', 'units'], value_vars = data_elc_pr.columns[4:16], var_name='month', value_name='elc_price')\n",
    "data_elc_pr['month'] = data_elc_pr['month'].apply(lambda x: month_key[x])\n",
    "\n",
    "# Convert from cents per kwh to dollars per thousand kwh\n",
    "data_elc_pr['elc_price'] = pd.to_numeric(data_elc_pr['elc_price'])*1000/100\n",
    "\n",
    "# Pivot sector column\n",
    "data_elc_pr['Sector'] = data_elc_pr['Sector'].str.strip()\n",
    "data_elc_pr = data_elc_pr.groupby(['State Name', 'Sector', 'month']).sum().unstack('Sector').reset_index()\n",
    "\n",
    "# Fix column names\n",
    "data_elc_pr.columns = ['State Name', 'month', 'elc_price_all', 'elc_price_com', 'elc_price_ind', 'elc_price_oth', 'elc_price_res', 'elc_price_trn']\n",
    "\n",
    "# Fill 0's with NaNs\n",
    "data_elc_pr = data_elc_pr.replace(to_replace = 0, value = np.nan)"
   ]
  },
  {
   "cell_type": "code",
   "execution_count": 111,
   "metadata": {},
   "outputs": [
    {
     "data": {
      "text/html": [
       "<div>\n",
       "<style scoped>\n",
       "    .dataframe tbody tr th:only-of-type {\n",
       "        vertical-align: middle;\n",
       "    }\n",
       "\n",
       "    .dataframe tbody tr th {\n",
       "        vertical-align: top;\n",
       "    }\n",
       "\n",
       "    .dataframe thead th {\n",
       "        text-align: right;\n",
       "    }\n",
       "</style>\n",
       "<table border=\"1\" class=\"dataframe\">\n",
       "  <thead>\n",
       "    <tr style=\"text-align: right;\">\n",
       "      <th></th>\n",
       "      <th>State Name</th>\n",
       "      <th>month</th>\n",
       "      <th>elc_price_all</th>\n",
       "      <th>elc_price_com</th>\n",
       "      <th>elc_price_ind</th>\n",
       "      <th>elc_price_oth</th>\n",
       "      <th>elc_price_res</th>\n",
       "      <th>elc_price_trn</th>\n",
       "    </tr>\n",
       "  </thead>\n",
       "  <tbody>\n",
       "    <tr>\n",
       "      <th>0</th>\n",
       "      <td>Alabama</td>\n",
       "      <td>1</td>\n",
       "      <td>89.4</td>\n",
       "      <td>107.9</td>\n",
       "      <td>53.6</td>\n",
       "      <td>NaN</td>\n",
       "      <td>110.0</td>\n",
       "      <td>NaN</td>\n",
       "    </tr>\n",
       "    <tr>\n",
       "      <th>1</th>\n",
       "      <td>Alabama</td>\n",
       "      <td>2</td>\n",
       "      <td>90.1</td>\n",
       "      <td>108.8</td>\n",
       "      <td>52.8</td>\n",
       "      <td>NaN</td>\n",
       "      <td>114.5</td>\n",
       "      <td>NaN</td>\n",
       "    </tr>\n",
       "    <tr>\n",
       "      <th>2</th>\n",
       "      <td>Alabama</td>\n",
       "      <td>3</td>\n",
       "      <td>91.0</td>\n",
       "      <td>108.4</td>\n",
       "      <td>55.5</td>\n",
       "      <td>NaN</td>\n",
       "      <td>120.7</td>\n",
       "      <td>NaN</td>\n",
       "    </tr>\n",
       "    <tr>\n",
       "      <th>3</th>\n",
       "      <td>Alabama</td>\n",
       "      <td>4</td>\n",
       "      <td>92.6</td>\n",
       "      <td>110.5</td>\n",
       "      <td>58.7</td>\n",
       "      <td>NaN</td>\n",
       "      <td>123.7</td>\n",
       "      <td>NaN</td>\n",
       "    </tr>\n",
       "    <tr>\n",
       "      <th>4</th>\n",
       "      <td>Alabama</td>\n",
       "      <td>5</td>\n",
       "      <td>93.2</td>\n",
       "      <td>110.2</td>\n",
       "      <td>60.0</td>\n",
       "      <td>NaN</td>\n",
       "      <td>120.5</td>\n",
       "      <td>NaN</td>\n",
       "    </tr>\n",
       "  </tbody>\n",
       "</table>\n",
       "</div>"
      ],
      "text/plain": [
       "  State Name  month  elc_price_all  elc_price_com  elc_price_ind  \\\n",
       "0   Alabama       1           89.4          107.9           53.6   \n",
       "1   Alabama       2           90.1          108.8           52.8   \n",
       "2   Alabama       3           91.0          108.4           55.5   \n",
       "3   Alabama       4           92.6          110.5           58.7   \n",
       "4   Alabama       5           93.2          110.2           60.0   \n",
       "\n",
       "   elc_price_oth  elc_price_res  elc_price_trn  \n",
       "0            NaN          110.0            NaN  \n",
       "1            NaN          114.5            NaN  \n",
       "2            NaN          120.7            NaN  \n",
       "3            NaN          123.7            NaN  \n",
       "4            NaN          120.5            NaN  "
      ]
     },
     "execution_count": 111,
     "metadata": {},
     "output_type": "execute_result"
    }
   ],
   "source": [
    "data_elc_pr.head()"
   ]
  },
  {
   "cell_type": "markdown",
   "metadata": {},
   "source": [
    "# Merge Data"
   ]
  },
  {
   "cell_type": "code",
   "execution_count": 112,
   "metadata": {},
   "outputs": [],
   "source": [
    "data_elc_pr['State Name'] = data_elc_pr['State Name'].str.upper().str.strip()\n",
    "data_elc_pr = data_elc_pr.merge(state_fips_key).drop(state_fips_indicators, axis = 1)"
   ]
  },
  {
   "cell_type": "code",
   "execution_count": 113,
   "metadata": {},
   "outputs": [],
   "source": [
    "data_merged = data_instruments.merge(data_elc_pr, how = 'outer', on = ['month', 'State FIPS']).merge(data_fuel_gen_con, how = 'outer', on = ['month', 'State FIPS'])\n",
    "data_merged = data_merged.drop(['NCDC Code_x', 'NCDC Code_y'], axis = 1)"
   ]
  },
  {
   "cell_type": "markdown",
   "metadata": {},
   "source": [
    "# Export Data"
   ]
  },
  {
   "cell_type": "code",
   "execution_count": 114,
   "metadata": {},
   "outputs": [],
   "source": [
    "data_merged.to_csv(data_dir + 'processed/' + 'merged_data.csv', index = False)"
   ]
  },
  {
   "cell_type": "code",
   "execution_count": null,
   "metadata": {},
   "outputs": [],
   "source": []
  }
 ],
 "metadata": {
  "kernelspec": {
   "display_name": "Python 3",
   "language": "python",
   "name": "python3"
  },
  "language_info": {
   "codemirror_mode": {
    "name": "ipython",
    "version": 3
   },
   "file_extension": ".py",
   "mimetype": "text/x-python",
   "name": "python",
   "nbconvert_exporter": "python",
   "pygments_lexer": "ipython3",
   "version": "3.5.2"
  }
 },
 "nbformat": 4,
 "nbformat_minor": 2
}
