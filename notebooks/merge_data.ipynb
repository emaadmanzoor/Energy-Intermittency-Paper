{
 "cells": [
  {
   "cell_type": "code",
   "execution_count": 1,
   "metadata": {},
   "outputs": [],
   "source": [
    "import pandas as pd\n",
    "import numpy as np"
   ]
  },
  {
   "cell_type": "code",
   "execution_count": 2,
   "metadata": {},
   "outputs": [],
   "source": [
    "data_dir = '../data/'\n",
    "elec_dir = data_dir + 'electricity/'"
   ]
  },
  {
   "cell_type": "markdown",
   "metadata": {},
   "source": [
    "# Import Data"
   ]
  },
  {
   "cell_type": "markdown",
   "metadata": {},
   "source": [
    "## Data"
   ]
  },
  {
   "cell_type": "code",
   "execution_count": 3,
   "metadata": {},
   "outputs": [],
   "source": [
    "# Instruments\n",
    "data_instruments = pd.read_csv(data_dir + 'processed/' + 'instruments_data.csv')\n",
    "\n",
    "# Fuel generation and consumption\n",
    "data_fuel_gen_con = pd.read_csv(data_dir + 'processed/' + 'fuel_data.csv')\n",
    "\n",
    "# IMPLAN\n",
    "data_implan = pd.read_csv(data_dir + 'processed/' + 'implan_data.csv')\n",
    "\n",
    "# Electricity Prices\n",
    "elc_pr_file_loc = elec_dir + 'avg_elec_price.csv'\n",
    "data_elc_pr = pd.read_csv(elc_pr_file_loc, na_values = ['NA'])"
   ]
  },
  {
   "cell_type": "markdown",
   "metadata": {},
   "source": [
    "## Keys"
   ]
  },
  {
   "cell_type": "code",
   "execution_count": 4,
   "metadata": {},
   "outputs": [],
   "source": [
    "# MSN Codes Key\n",
    "msn_codes_file_loc = data_dir + 'keys/MSN_codes.csv'\n",
    "msn_codes_key = pd.read_csv(msn_codes_file_loc)\n",
    "\n",
    "# State FIPS Codes\n",
    "state_fips_file_loc = data_dir + 'keys/state_FIPS.csv'\n",
    "state_fips_key = pd.read_csv(state_fips_file_loc)\n",
    "state_fips_indicators = ['State Abbreviation', 'State Name']\n",
    "\n",
    "# Month Key\n",
    "month_key = dict(zip(['January', 'February', 'March', 'April', 'May', 'June', 'July', 'August', 'September', 'October', 'November', 'December'], range(1,13)))"
   ]
  },
  {
   "cell_type": "markdown",
   "metadata": {},
   "source": [
    "# Clean Data"
   ]
  },
  {
   "cell_type": "code",
   "execution_count": 5,
   "metadata": {},
   "outputs": [],
   "source": [
    "# Melt month columns\n",
    "data_elc_pr = data_elc_pr.melt(id_vars = ['State Name', 'Sector', 'units'], value_vars = data_elc_pr.columns[4:16], var_name='month', value_name='elc_price')\n",
    "data_elc_pr['month'] = data_elc_pr['month'].apply(lambda x: month_key[x])\n",
    "\n",
    "# Convert from cents per kwh to dollars per thousand kwh\n",
    "data_elc_pr['elc_price'] = pd.to_numeric(data_elc_pr['elc_price'])*1000/100\n",
    "\n",
    "# Pivot sector column\n",
    "data_elc_pr['Sector'] = data_elc_pr['Sector'].str.strip()\n",
    "data_elc_pr = data_elc_pr.groupby(['State Name', 'Sector', 'month']).sum().unstack('Sector').reset_index()\n",
    "\n",
    "# Fix column names\n",
    "data_elc_pr.columns = ['State Name', 'month', 'elc_price_all', 'elc_price_com', 'elc_price_ind', 'elc_price_oth', 'elc_price_res', 'elc_price_trn']\n",
    "\n",
    "# Fill 0's with NaNs\n",
    "data_elc_pr = data_elc_pr.replace(to_replace = 0, value = np.nan)"
   ]
  },
  {
   "cell_type": "code",
   "execution_count": 6,
   "metadata": {},
   "outputs": [
    {
     "data": {
      "text/html": [
       "<div>\n",
       "<style scoped>\n",
       "    .dataframe tbody tr th:only-of-type {\n",
       "        vertical-align: middle;\n",
       "    }\n",
       "\n",
       "    .dataframe tbody tr th {\n",
       "        vertical-align: top;\n",
       "    }\n",
       "\n",
       "    .dataframe thead th {\n",
       "        text-align: right;\n",
       "    }\n",
       "</style>\n",
       "<table border=\"1\" class=\"dataframe\">\n",
       "  <thead>\n",
       "    <tr style=\"text-align: right;\">\n",
       "      <th></th>\n",
       "      <th>State Name</th>\n",
       "      <th>month</th>\n",
       "      <th>elc_price_all</th>\n",
       "      <th>elc_price_com</th>\n",
       "      <th>elc_price_ind</th>\n",
       "      <th>elc_price_oth</th>\n",
       "      <th>elc_price_res</th>\n",
       "      <th>elc_price_trn</th>\n",
       "    </tr>\n",
       "  </thead>\n",
       "  <tbody>\n",
       "    <tr>\n",
       "      <th>0</th>\n",
       "      <td>Alabama</td>\n",
       "      <td>1</td>\n",
       "      <td>89.4</td>\n",
       "      <td>107.9</td>\n",
       "      <td>53.6</td>\n",
       "      <td>NaN</td>\n",
       "      <td>110.0</td>\n",
       "      <td>NaN</td>\n",
       "    </tr>\n",
       "    <tr>\n",
       "      <th>1</th>\n",
       "      <td>Alabama</td>\n",
       "      <td>2</td>\n",
       "      <td>90.1</td>\n",
       "      <td>108.8</td>\n",
       "      <td>52.8</td>\n",
       "      <td>NaN</td>\n",
       "      <td>114.5</td>\n",
       "      <td>NaN</td>\n",
       "    </tr>\n",
       "    <tr>\n",
       "      <th>2</th>\n",
       "      <td>Alabama</td>\n",
       "      <td>3</td>\n",
       "      <td>91.0</td>\n",
       "      <td>108.4</td>\n",
       "      <td>55.5</td>\n",
       "      <td>NaN</td>\n",
       "      <td>120.7</td>\n",
       "      <td>NaN</td>\n",
       "    </tr>\n",
       "    <tr>\n",
       "      <th>3</th>\n",
       "      <td>Alabama</td>\n",
       "      <td>4</td>\n",
       "      <td>92.6</td>\n",
       "      <td>110.5</td>\n",
       "      <td>58.7</td>\n",
       "      <td>NaN</td>\n",
       "      <td>123.7</td>\n",
       "      <td>NaN</td>\n",
       "    </tr>\n",
       "    <tr>\n",
       "      <th>4</th>\n",
       "      <td>Alabama</td>\n",
       "      <td>5</td>\n",
       "      <td>93.2</td>\n",
       "      <td>110.2</td>\n",
       "      <td>60.0</td>\n",
       "      <td>NaN</td>\n",
       "      <td>120.5</td>\n",
       "      <td>NaN</td>\n",
       "    </tr>\n",
       "  </tbody>\n",
       "</table>\n",
       "</div>"
      ],
      "text/plain": [
       "  State Name  month  elc_price_all  elc_price_com  elc_price_ind  \\\n",
       "0   Alabama       1           89.4          107.9           53.6   \n",
       "1   Alabama       2           90.1          108.8           52.8   \n",
       "2   Alabama       3           91.0          108.4           55.5   \n",
       "3   Alabama       4           92.6          110.5           58.7   \n",
       "4   Alabama       5           93.2          110.2           60.0   \n",
       "\n",
       "   elc_price_oth  elc_price_res  elc_price_trn  \n",
       "0            NaN          110.0            NaN  \n",
       "1            NaN          114.5            NaN  \n",
       "2            NaN          120.7            NaN  \n",
       "3            NaN          123.7            NaN  \n",
       "4            NaN          120.5            NaN  "
      ]
     },
     "execution_count": 6,
     "metadata": {},
     "output_type": "execute_result"
    }
   ],
   "source": [
    "data_elc_pr.head()"
   ]
  },
  {
   "cell_type": "markdown",
   "metadata": {},
   "source": [
    "# Merge Data"
   ]
  },
  {
   "cell_type": "code",
   "execution_count": 7,
   "metadata": {},
   "outputs": [],
   "source": [
    "data_elc_pr['State Name'] = data_elc_pr['State Name'].str.upper().str.strip()\n",
    "data_elc_pr = data_elc_pr.merge(state_fips_key).drop(state_fips_indicators, axis = 1)"
   ]
  },
  {
   "cell_type": "code",
   "execution_count": 8,
   "metadata": {},
   "outputs": [],
   "source": [
    "data_merged = data_instruments.merge(data_elc_pr, how = 'outer', on = ['month', 'State FIPS'])\n",
    "data_merged = data_merged.merge(data_fuel_gen_con, how = 'outer', on = ['month', 'State FIPS'])\n",
    "data_merged = data_merged.merge(data_implan, how = 'outer', on = ['month', 'State FIPS'])\n",
    "data_merged = data_merged.drop(['NCDC Code_x', 'NCDC Code_y'], axis = 1)"
   ]
  },
  {
   "cell_type": "markdown",
   "metadata": {},
   "source": [
    "# Export Data"
   ]
  },
  {
   "cell_type": "code",
   "execution_count": 9,
   "metadata": {},
   "outputs": [],
   "source": [
    "data_merged.to_csv(data_dir + 'processed/' + 'merged_data.csv', index = False)"
   ]
  },
  {
   "cell_type": "code",
   "execution_count": 10,
   "metadata": {},
   "outputs": [
    {
     "data": {
      "text/plain": [
       "'{gamma_1}*fips_1 + {gamma_2}*fips_2 + {gamma_3}*fips_3 + {gamma_4}*fips_4 + {gamma_5}*fips_5 + {gamma_6}*fips_6 + {gamma_7}*fips_7 + {gamma_8}*fips_8 + {gamma_9}*fips_9 + {gamma_10}*fips_10 + {gamma_11}*fips_11 + {gamma_12}*fips_12 + {gamma_13}*fips_13 + {gamma_14}*fips_14 + {gamma_15}*fips_15 + {gamma_16}*fips_16 + {gamma_17}*fips_17 + {gamma_18}*fips_18 + {gamma_19}*fips_19 + {gamma_20}*fips_20 + {gamma_21}*fips_21 + {gamma_22}*fips_22 + {gamma_23}*fips_23 + {gamma_24}*fips_24 + {gamma_25}*fips_25 + {gamma_26}*fips_26 + {gamma_27}*fips_27 + {gamma_28}*fips_28 + {gamma_29}*fips_29 + {gamma_30}*fips_30 + {gamma_31}*fips_31 + {gamma_32}*fips_32 + {gamma_33}*fips_33 + {gamma_34}*fips_34 + {gamma_35}*fips_35 + {gamma_36}*fips_36 + {gamma_37}*fips_37 + {gamma_38}*fips_38 + {gamma_39}*fips_39 + {gamma_40}*fips_40 + {gamma_41}*fips_41 + {gamma_42}*fips_42 + {gamma_43}*fips_43 + {gamma_44}*fips_44 + {gamma_45}*fips_45 + {gamma_46}*fips_46 + {gamma_47}*fips_47 + {gamma_48}*fips_48 + {gamma_49}*fips_49 + {gamma_50}*fips_50 + {gamma_51}*fips_51 + {gamma_52}*fips_52 + {gamma_53}*fips_53 + {gamma_54}*fips_54 + {gamma_55}*fips_55 + {gamma_56}*fips_56 + {gamma_57}*fips_57 + {gamma_58}*fips_58 + {gamma_59}*fips_59 + {gamma_60}*fips_60 + {gamma_61}*fips_61 + {gamma_62}*fips_62 + {gamma_63}*fips_63 + {gamma_64}*fips_64 + {gamma_65}*fips_65 + {gamma_66}*fips_66 + {gamma_67}*fips_67 + {gamma_68}*fips_68 + {gamma_69}*fips_69 + {gamma_70}*fips_70 + {gamma_71}*fips_71 + {gamma_72}*fips_72 + {gamma_73}*fips_73 + {gamma_74}*fips_74 + {gamma_75}*fips_75 + {gamma_76}*fips_76 + {gamma_77}*fips_77 + {gamma_78}*fips_78 + {gamma_79}*fips_79 + {gamma_80}*fips_80 + {gamma_81}*fips_81 + {gamma_82}*fips_82 + {gamma_83}*fips_83 + {gamma_84}*fips_84 + {gamma_85}*fips_85 + {gamma_86}*fips_86 + {gamma_87}*fips_87 + {gamma_88}*fips_88 + {gamma_89}*fips_89 + {gamma_90}*fips_90 + {gamma_91}*fips_91 + {gamma_92}*fips_92 + {gamma_93}*fips_93 + {gamma_94}*fips_94 + {gamma_95}*fips_95 + {gamma_96}*fips_96 + {gamma_97}*fips_97 + {gamma_98}*fips_98 + {gamma_99}*fips_99'"
      ]
     },
     "execution_count": 10,
     "metadata": {},
     "output_type": "execute_result"
    }
   ],
   "source": [
    "(' + ').join(['{gamma_%s}*fips_%s' % (str(i), str(i)) for i in range(1,100)])\n"
   ]
  },
  {
   "cell_type": "code",
   "execution_count": null,
   "metadata": {},
   "outputs": [],
   "source": []
  }
 ],
 "metadata": {
  "kernelspec": {
   "display_name": "Python 3",
   "language": "python",
   "name": "python3"
  },
  "language_info": {
   "codemirror_mode": {
    "name": "ipython",
    "version": 3
   },
   "file_extension": ".py",
   "mimetype": "text/x-python",
   "name": "python",
   "nbconvert_exporter": "python",
   "pygments_lexer": "ipython3",
   "version": "3.5.2"
  }
 },
 "nbformat": 4,
 "nbformat_minor": 2
}
