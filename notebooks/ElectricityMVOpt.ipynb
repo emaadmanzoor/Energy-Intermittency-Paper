{
 "cells": [
  {
   "cell_type": "code",
   "execution_count": 82,
   "metadata": {},
   "outputs": [],
   "source": [
    "import pandas as pd\n",
    "import numpy as np\n",
    "import matplotlib.pyplot as plt\n",
    "import seaborn as sns\n",
    "\n",
    "sns.set()\n",
    "%matplotlib inline"
   ]
  },
  {
   "cell_type": "code",
   "execution_count": 83,
   "metadata": {},
   "outputs": [],
   "source": [
    "def gen_psdm(n):\n",
    "    # multiplies a matrix by its transpose to get a positve semidefinite matrix\n",
    "    \n",
    "    if n <= 0 or not float(n).is_integer():\n",
    "        raise ValueError('Invalid n')\n",
    "    \n",
    "    else:\n",
    "        mat = np.random.random((n, n))\n",
    "        psdm = np.matmul(mat, np.transpose(mat))\n",
    "        return psdm / np.max(psdm)"
   ]
  },
  {
   "cell_type": "code",
   "execution_count": 84,
   "metadata": {},
   "outputs": [],
   "source": [
    "def set_opposite_diag(mat):\n",
    "    # changes elements of the opposite diagonal\n",
    "    \n",
    "    mat = np.fliplr(mat)\n",
    "    \n",
    "    for i in range(0,np.shape(mat)[0]):\n",
    "        mat[i,i] = -mat[i,i]\n",
    "        \n",
    "    return np.fliplr(mat)"
   ]
  },
  {
   "cell_type": "markdown",
   "metadata": {},
   "source": [
    "# Create Technologies"
   ]
  },
  {
   "cell_type": "code",
   "execution_count": 85,
   "metadata": {
    "scrolled": true
   },
   "outputs": [
    {
     "name": "stdout",
     "output_type": "stream",
     "text": [
      "[[3 6]\n",
      " [5 4]]\n"
     ]
    }
   ],
   "source": [
    "Xi = np.matrix([[3, 6], [5, 4]])\n",
    "print(Xi)"
   ]
  },
  {
   "cell_type": "code",
   "execution_count": 86,
   "metadata": {},
   "outputs": [],
   "source": [
    "# number of technologies\n",
    "n = 2\n",
    "\n",
    "# define cov matrices\n",
    "Sigma_t = gen_psdm(n)\n",
    "Sigma_s = gen_psdm(n)\n",
    "\n",
    "# set cov to negative\n",
    "Sigma_t = set_opposite_diag(Sigma_t)\n",
    "Sigma_s = set_opposite_diag(Sigma_s)"
   ]
  },
  {
   "cell_type": "code",
   "execution_count": 87,
   "metadata": {},
   "outputs": [
    {
     "name": "stdout",
     "output_type": "stream",
     "text": [
      "Sigma t correlation: -0.980\n",
      "Sigma s correlation: -0.978\n"
     ]
    }
   ],
   "source": [
    "corr_coeff = lambda mat: mat[0,1]/ np.sqrt(mat[0,0]*mat[1,1])\n",
    "print('Sigma t correlation: {0:0.3f}'.format(corr_coeff(Sigma_t)))\n",
    "print('Sigma s correlation: {0:0.3f}'.format(corr_coeff(Sigma_s)))"
   ]
  },
  {
   "cell_type": "code",
   "execution_count": 88,
   "metadata": {},
   "outputs": [
    {
     "data": {
      "text/plain": [
       "array([[ 1.        , -0.4752441 ],\n",
       "       [-0.4752441 ,  0.23504327]])"
      ]
     },
     "execution_count": 88,
     "metadata": {},
     "output_type": "execute_result"
    }
   ],
   "source": [
    "Sigma_t"
   ]
  },
  {
   "cell_type": "markdown",
   "metadata": {},
   "source": [
    "# Mean Variance Analysis"
   ]
  },
  {
   "cell_type": "code",
   "execution_count": 89,
   "metadata": {},
   "outputs": [],
   "source": [
    "def array_to_list(arr):\n",
    "    return np.array(arr).ravel().tolist()"
   ]
  },
  {
   "cell_type": "markdown",
   "metadata": {},
   "source": [
    "## Generate random combinations of technologies"
   ]
  },
  {
   "cell_type": "code",
   "execution_count": 90,
   "metadata": {},
   "outputs": [],
   "source": [
    "results = []\n",
    "samples = 200\n",
    "w_1_range = np.linspace(0, 1, samples)\n",
    "\n",
    "for i in range(0,samples):\n",
    "    \n",
    "    # random weights\n",
    "    w = np.array([w_1_range[i], 1 - w_1_range[i]])\n",
    "\n",
    "    # stats\n",
    "    mu = np.matmul(Xi, w)\n",
    "    sigma_t = np.matmul(np.matmul(w.T, Sigma_t), w)\n",
    "    sigma_s = np.matmul(np.matmul(w.T, Sigma_s), w)\n",
    "    \n",
    "    # update results\n",
    "    results.append(array_to_list(w) + array_to_list(mu) + array_to_list(sigma_t) + array_to_list(sigma_s))"
   ]
  },
  {
   "cell_type": "code",
   "execution_count": 91,
   "metadata": {},
   "outputs": [],
   "source": [
    "results_df = pd.DataFrame(results, columns = ['w_1', 'w_2', 'mu_t', 'mu_s', 'sigma_t_2', 'sigma_s_2'])"
   ]
  },
  {
   "cell_type": "code",
   "execution_count": 92,
   "metadata": {},
   "outputs": [],
   "source": [
    "# both period variance and output will be just the sum of their variances and means since these are normal rv's\n",
    "results_df['mu_both'] = np.add(results_df['mu_t'], results_df['mu_s'])\n",
    "results_df['sigma_both_2'] = np.add(results_df['sigma_t_2'], results_df['sigma_s_2'])"
   ]
  },
  {
   "cell_type": "markdown",
   "metadata": {},
   "source": [
    "## Plot Results"
   ]
  },
  {
   "cell_type": "code",
   "execution_count": 93,
   "metadata": {},
   "outputs": [
    {
     "data": {
      "image/png": "[encoded data removed]",
      "text/plain": [
       "<Figure size 1080x360 with 1 Axes>"
      ]
     },
     "metadata": {},
     "output_type": "display_data"
    }
   ],
   "source": [
    "fig, ax1 = plt.subplots(figsize=(15,5))\n",
    "sns.scatterplot(data = results_df, x = 'sigma_t_2', y = 'mu_t', linewidth=0, ax = ax1, label = 'Period t')\n",
    "sns.scatterplot(data = results_df, x = 'sigma_s_2', y = 'mu_s', linewidth=0, ax = ax1, label = 'Period s')\n",
    "ax1.set_xlabel(\"Variance\")\n",
    "ax1.set_ylabel(\"Mean\");"
   ]
  },
  {
   "cell_type": "markdown",
   "metadata": {},
   "source": [
    "# Cobb-Douglas Utility Example"
   ]
  },
  {
   "cell_type": "code",
   "execution_count": 206,
   "metadata": {},
   "outputs": [],
   "source": [
    "# CD Utility params\n",
    "alpha_t = 0.3\n",
    "alpha_s = 1 - alpha_t"
   ]
  },
  {
   "cell_type": "markdown",
   "metadata": {},
   "source": [
    "## Find Utility at each point"
   ]
  },
  {
   "cell_type": "code",
   "execution_count": 207,
   "metadata": {},
   "outputs": [],
   "source": [
    "U    = lambda y_t,y_s: (y_t**alpha_t)*(y_s**alpha_s) \n",
    "U_tt = lambda y_t,y_s: (alpha_t)*(alpha_t - 1)*(y_t**(alpha_t-2))*(y_s**alpha_s)\n",
    "U_ss = lambda y_t,y_s: (alpha_s)*(alpha_s - 1)*(y_s**(alpha_s-2))*(y_t**alpha_t)"
   ]
  },
  {
   "cell_type": "code",
   "execution_count": 208,
   "metadata": {},
   "outputs": [],
   "source": [
    "# Mean component of utility\n",
    "results_df['Utility_mc'] = results_df.apply(lambda x: U(x.mu_t, x.mu_s), axis = 1)"
   ]
  },
  {
   "cell_type": "code",
   "execution_count": 209,
   "metadata": {},
   "outputs": [],
   "source": [
    "# Variance component of utility\n",
    "results_df['Utility_vc'] = 0.5*results_df.apply(lambda x: U_tt(x.mu_t, x.mu_s)*(x.sigma_t_2)\n",
    "                                               + U_ss(x.mu_t, x.mu_s)*(x.sigma_s_2), axis = 1)"
   ]
  },
  {
   "cell_type": "code",
   "execution_count": 210,
   "metadata": {},
   "outputs": [],
   "source": [
    "# Total Utility\n",
    "results_df['Utility'] = np.add(results_df['Utility_mc'], results_df['Utility_vc'])"
   ]
  },
  {
   "cell_type": "markdown",
   "metadata": {},
   "source": [
    "## Stats at Max Utility"
   ]
  },
  {
   "cell_type": "code",
   "execution_count": 211,
   "metadata": {
    "scrolled": true
   },
   "outputs": [
    {
     "data": {
      "text/html": [
       "<div>\n",
       "<style scoped>\n",
       "    .dataframe tbody tr th:only-of-type {\n",
       "        vertical-align: middle;\n",
       "    }\n",
       "\n",
       "    .dataframe tbody tr th {\n",
       "        vertical-align: top;\n",
       "    }\n",
       "\n",
       "    .dataframe thead th {\n",
       "        text-align: right;\n",
       "    }\n",
       "</style>\n",
       "<table border=\"1\" class=\"dataframe\">\n",
       "  <thead>\n",
       "    <tr style=\"text-align: right;\">\n",
       "      <th></th>\n",
       "      <th>54</th>\n",
       "    </tr>\n",
       "  </thead>\n",
       "  <tbody>\n",
       "    <tr>\n",
       "      <th>w_1</th>\n",
       "      <td>0.271357</td>\n",
       "    </tr>\n",
       "    <tr>\n",
       "      <th>w_2</th>\n",
       "      <td>0.728643</td>\n",
       "    </tr>\n",
       "    <tr>\n",
       "      <th>mu_t</th>\n",
       "      <td>5.185930</td>\n",
       "    </tr>\n",
       "    <tr>\n",
       "      <th>mu_s</th>\n",
       "      <td>4.271357</td>\n",
       "    </tr>\n",
       "    <tr>\n",
       "      <th>sigma_t_2</th>\n",
       "      <td>0.010491</td>\n",
       "    </tr>\n",
       "    <tr>\n",
       "      <th>sigma_s_2</th>\n",
       "      <td>0.157431</td>\n",
       "    </tr>\n",
       "    <tr>\n",
       "      <th>mu_both</th>\n",
       "      <td>9.457286</td>\n",
       "    </tr>\n",
       "    <tr>\n",
       "      <th>sigma_both_2</th>\n",
       "      <td>0.167923</td>\n",
       "    </tr>\n",
       "    <tr>\n",
       "      <th>Utility_mc</th>\n",
       "      <td>4.527350</td>\n",
       "    </tr>\n",
       "    <tr>\n",
       "      <th>Utility_vc</th>\n",
       "      <td>-0.004287</td>\n",
       "    </tr>\n",
       "    <tr>\n",
       "      <th>Utility</th>\n",
       "      <td>4.523063</td>\n",
       "    </tr>\n",
       "    <tr>\n",
       "      <th>mu_comp</th>\n",
       "      <td>4.545729</td>\n",
       "    </tr>\n",
       "    <tr>\n",
       "      <th>sigma_2_comp</th>\n",
       "      <td>0.113349</td>\n",
       "    </tr>\n",
       "    <tr>\n",
       "      <th>u_1</th>\n",
       "      <td>1.344693</td>\n",
       "    </tr>\n",
       "    <tr>\n",
       "      <th>u_2</th>\n",
       "      <td>0.000033</td>\n",
       "    </tr>\n",
       "    <tr>\n",
       "      <th>Utility_EZ</th>\n",
       "      <td>3.843471</td>\n",
       "    </tr>\n",
       "  </tbody>\n",
       "</table>\n",
       "</div>"
      ],
      "text/plain": [
       "                    54\n",
       "w_1           0.271357\n",
       "w_2           0.728643\n",
       "mu_t          5.185930\n",
       "mu_s          4.271357\n",
       "sigma_t_2     0.010491\n",
       "sigma_s_2     0.157431\n",
       "mu_both       9.457286\n",
       "sigma_both_2  0.167923\n",
       "Utility_mc    4.527350\n",
       "Utility_vc   -0.004287\n",
       "Utility       4.523063\n",
       "mu_comp       4.545729\n",
       "sigma_2_comp  0.113349\n",
       "u_1           1.344693\n",
       "u_2           0.000033\n",
       "Utility_EZ    3.843471"
      ]
     },
     "execution_count": 211,
     "metadata": {},
     "output_type": "execute_result"
    }
   ],
   "source": [
    "max_util_idx = results_df['Utility'].idxmax()\n",
    "pd.DataFrame(results_df.iloc[max_util_idx, :])"
   ]
  },
  {
   "cell_type": "markdown",
   "metadata": {},
   "source": [
    "## Plot Results"
   ]
  },
  {
   "cell_type": "code",
   "execution_count": 204,
   "metadata": {},
   "outputs": [
    {
     "data": {
      "image/png": "[encoded data removed]",
      "text/plain": [
       "<Figure size 1080x360 with 1 Axes>"
      ]
     },
     "metadata": {},
     "output_type": "display_data"
    }
   ],
   "source": [
    "fig, ax1 = plt.subplots(figsize=(15,5))\n",
    "sns.scatterplot(data = results_df, x = 'w_1', y = 'Utility')\n",
    "plt.plot(results_df['w_1'].iloc[max_util_idx], results_df['Utility'].iloc[max_util_idx], 'ro', markersize = 10)\n",
    "ax1.set_xlabel(\"Percent of Budget spent on X_1\")\n",
    "ax1.set_ylabel(\"Utility\");"
   ]
  },
  {
   "cell_type": "markdown",
   "metadata": {},
   "source": [
    "## MV Plots at Max Utility"
   ]
  },
  {
   "cell_type": "markdown",
   "metadata": {},
   "source": [
    "The red point indicates the location the optimal frontier that maximizes both period utility. This point doesn't actually min varaince on either frontier. "
   ]
  },
  {
   "cell_type": "code",
   "execution_count": 205,
   "metadata": {},
   "outputs": [
    {
     "data": {
      "image/png": "[encoded data removed]",
      "text/plain": [
       "<Figure size 1080x360 with 1 Axes>"
      ]
     },
     "metadata": {},
     "output_type": "display_data"
    }
   ],
   "source": [
    "fig, ax1 = plt.subplots(figsize=(15,5))\n",
    "sns.scatterplot(data = results_df, x = 'sigma_t_2', y = 'mu_t', linewidth=0, ax = ax1, label = 'Period t')\n",
    "sns.scatterplot(data = results_df, x = 'sigma_s_2', y = 'mu_s', linewidth=0, ax = ax1, label = 'Period s')\n",
    "plt.plot(results_df['sigma_t_2'].iloc[max_util_idx], results_df['mu_t'].iloc[max_util_idx], 'ro', markersize = 10)\n",
    "plt.plot(results_df['sigma_s_2'].iloc[max_util_idx], results_df['mu_s'].iloc[max_util_idx], 'ro', markersize = 10)\n",
    "ax1.set_xlabel(\"Variance\")\n",
    "ax1.set_ylabel(\"Mean\");"
   ]
  },
  {
   "cell_type": "markdown",
   "metadata": {},
   "source": [
    "Both period output is the total electricity output and its variance"
   ]
  },
  {
   "cell_type": "code",
   "execution_count": 166,
   "metadata": {},
   "outputs": [
    {
     "data": {
      "image/png": "[encoded data removed]",
      "text/plain": [
       "<Figure size 1080x360 with 1 Axes>"
      ]
     },
     "metadata": {},
     "output_type": "display_data"
    }
   ],
   "source": [
    "fig, ax1 = plt.subplots(figsize=(15,5))\n",
    "sns.scatterplot(data = results_df, x = 'sigma_both_2', y = 'mu_both', color = 'g', linewidth=0, ax = ax1, label = 'Both')\n",
    "plt.plot(results_df['sigma_both_2'].iloc[max_util_idx], results_df['mu_both'].iloc[max_util_idx], 'ro', markersize = 10)\n",
    "ax1.set_xlabel(\"Variance\")\n",
    "ax1.set_ylabel(\"Mean\");"
   ]
  },
  {
   "cell_type": "code",
   "execution_count": 172,
   "metadata": {},
   "outputs": [
    {
     "data": {
      "text/html": [
       "<div>\n",
       "<style scoped>\n",
       "    .dataframe tbody tr th:only-of-type {\n",
       "        vertical-align: middle;\n",
       "    }\n",
       "\n",
       "    .dataframe tbody tr th {\n",
       "        vertical-align: top;\n",
       "    }\n",
       "\n",
       "    .dataframe thead th {\n",
       "        text-align: right;\n",
       "    }\n",
       "</style>\n",
       "<table border=\"1\" class=\"dataframe\">\n",
       "  <thead>\n",
       "    <tr style=\"text-align: right;\">\n",
       "      <th></th>\n",
       "      <th>w_1</th>\n",
       "      <th>w_2</th>\n",
       "      <th>mu_t</th>\n",
       "      <th>mu_s</th>\n",
       "      <th>sigma_t_2</th>\n",
       "      <th>sigma_s_2</th>\n",
       "      <th>mu_both</th>\n",
       "      <th>sigma_both_2</th>\n",
       "      <th>Utility_mc</th>\n",
       "      <th>Utility_vc</th>\n",
       "      <th>Utility</th>\n",
       "      <th>mu_comp</th>\n",
       "      <th>sigma_2_comp</th>\n",
       "    </tr>\n",
       "  </thead>\n",
       "  <tbody>\n",
       "    <tr>\n",
       "      <th>0</th>\n",
       "      <td>0.000000</td>\n",
       "      <td>1.000000</td>\n",
       "      <td>6.000000</td>\n",
       "      <td>4.000000</td>\n",
       "      <td>0.235043</td>\n",
       "      <td>0.815983</td>\n",
       "      <td>10.000000</td>\n",
       "      <td>1.051026</td>\n",
       "      <td>4.517388</td>\n",
       "      <td>-0.027287</td>\n",
       "      <td>4.490101</td>\n",
       "      <td>4.600000</td>\n",
       "      <td>0.641701</td>\n",
       "    </tr>\n",
       "    <tr>\n",
       "      <th>1</th>\n",
       "      <td>0.005025</td>\n",
       "      <td>0.994975</td>\n",
       "      <td>5.984925</td>\n",
       "      <td>4.005025</td>\n",
       "      <td>0.227960</td>\n",
       "      <td>0.798992</td>\n",
       "      <td>9.989950</td>\n",
       "      <td>1.026952</td>\n",
       "      <td>4.517949</td>\n",
       "      <td>-0.026649</td>\n",
       "      <td>4.491300</td>\n",
       "      <td>4.598995</td>\n",
       "      <td>0.627682</td>\n",
       "    </tr>\n",
       "    <tr>\n",
       "      <th>2</th>\n",
       "      <td>0.010050</td>\n",
       "      <td>0.989950</td>\n",
       "      <td>5.969849</td>\n",
       "      <td>4.010050</td>\n",
       "      <td>0.220987</td>\n",
       "      <td>0.782182</td>\n",
       "      <td>9.979899</td>\n",
       "      <td>1.003169</td>\n",
       "      <td>4.518496</td>\n",
       "      <td>-0.026020</td>\n",
       "      <td>4.492476</td>\n",
       "      <td>4.597990</td>\n",
       "      <td>0.613823</td>\n",
       "    </tr>\n",
       "    <tr>\n",
       "      <th>3</th>\n",
       "      <td>0.015075</td>\n",
       "      <td>0.984925</td>\n",
       "      <td>5.954774</td>\n",
       "      <td>4.015075</td>\n",
       "      <td>0.214124</td>\n",
       "      <td>0.765553</td>\n",
       "      <td>9.969849</td>\n",
       "      <td>0.979677</td>\n",
       "      <td>4.519029</td>\n",
       "      <td>-0.025398</td>\n",
       "      <td>4.493631</td>\n",
       "      <td>4.596985</td>\n",
       "      <td>0.600124</td>\n",
       "    </tr>\n",
       "    <tr>\n",
       "      <th>4</th>\n",
       "      <td>0.020101</td>\n",
       "      <td>0.979899</td>\n",
       "      <td>5.939698</td>\n",
       "      <td>4.020101</td>\n",
       "      <td>0.207372</td>\n",
       "      <td>0.749105</td>\n",
       "      <td>9.959799</td>\n",
       "      <td>0.956477</td>\n",
       "      <td>4.519550</td>\n",
       "      <td>-0.024786</td>\n",
       "      <td>4.494764</td>\n",
       "      <td>4.595980</td>\n",
       "      <td>0.586585</td>\n",
       "    </tr>\n",
       "  </tbody>\n",
       "</table>\n",
       "</div>"
      ],
      "text/plain": [
       "        w_1       w_2      mu_t      mu_s  sigma_t_2  sigma_s_2    mu_both  \\\n",
       "0  0.000000  1.000000  6.000000  4.000000   0.235043   0.815983  10.000000   \n",
       "1  0.005025  0.994975  5.984925  4.005025   0.227960   0.798992   9.989950   \n",
       "2  0.010050  0.989950  5.969849  4.010050   0.220987   0.782182   9.979899   \n",
       "3  0.015075  0.984925  5.954774  4.015075   0.214124   0.765553   9.969849   \n",
       "4  0.020101  0.979899  5.939698  4.020101   0.207372   0.749105   9.959799   \n",
       "\n",
       "   sigma_both_2  Utility_mc  Utility_vc   Utility   mu_comp  sigma_2_comp  \n",
       "0      1.051026    4.517388   -0.027287  4.490101  4.600000      0.641701  \n",
       "1      1.026952    4.517949   -0.026649  4.491300  4.598995      0.627682  \n",
       "2      1.003169    4.518496   -0.026020  4.492476  4.597990      0.613823  \n",
       "3      0.979677    4.519029   -0.025398  4.493631  4.596985      0.600124  \n",
       "4      0.956477    4.519550   -0.024786  4.494764  4.595980      0.586585  "
      ]
     },
     "execution_count": 172,
     "metadata": {},
     "output_type": "execute_result"
    }
   ],
   "source": [
    "results_df.head()"
   ]
  },
  {
   "cell_type": "code",
   "execution_count": null,
   "metadata": {},
   "outputs": [],
   "source": []
  },
  {
   "cell_type": "markdown",
   "metadata": {},
   "source": [
    "# Epstein-Zin Preferences"
   ]
  },
  {
   "cell_type": "code",
   "execution_count": 199,
   "metadata": {},
   "outputs": [],
   "source": [
    "# CD Utility params\n",
    "beta = 0.95\n",
    "rho = -1\n",
    "gamma = 2"
   ]
  },
  {
   "cell_type": "markdown",
   "metadata": {},
   "source": [
    "## Find Utility at each point"
   ]
  },
  {
   "cell_type": "code",
   "execution_count": 200,
   "metadata": {},
   "outputs": [],
   "source": [
    "results_df['u_1'] = (1-beta)*(results_df['mu_t']**(1-rho))\n",
    "results_df['u_2'] = beta*((\n",
    "    ((1-beta)**(1-gamma)) *\n",
    "    ((1-rho)*(1-gamma)*results_df['mu_s']))**((1-rho)/(1-gamma)))\n",
    "\n",
    "# Total Utility\n",
    "results_df['Utility'] = (results_df['u_1'] + results_df['u_2'])**(1/(1-rho))"
   ]
  },
  {
   "cell_type": "code",
   "execution_count": 201,
   "metadata": {},
   "outputs": [
    {
     "data": {
      "text/html": [
       "<div>\n",
       "<style scoped>\n",
       "    .dataframe tbody tr th:only-of-type {\n",
       "        vertical-align: middle;\n",
       "    }\n",
       "\n",
       "    .dataframe tbody tr th {\n",
       "        vertical-align: top;\n",
       "    }\n",
       "\n",
       "    .dataframe thead th {\n",
       "        text-align: right;\n",
       "    }\n",
       "</style>\n",
       "<table border=\"1\" class=\"dataframe\">\n",
       "  <thead>\n",
       "    <tr style=\"text-align: right;\">\n",
       "      <th></th>\n",
       "      <th>w_1</th>\n",
       "      <th>w_2</th>\n",
       "      <th>mu_t</th>\n",
       "      <th>mu_s</th>\n",
       "      <th>sigma_t_2</th>\n",
       "      <th>sigma_s_2</th>\n",
       "      <th>mu_both</th>\n",
       "      <th>sigma_both_2</th>\n",
       "      <th>Utility_mc</th>\n",
       "      <th>Utility_vc</th>\n",
       "      <th>Utility</th>\n",
       "      <th>mu_comp</th>\n",
       "      <th>sigma_2_comp</th>\n",
       "      <th>u_1</th>\n",
       "      <th>u_2</th>\n",
       "      <th>Utility_EZ</th>\n",
       "    </tr>\n",
       "  </thead>\n",
       "  <tbody>\n",
       "    <tr>\n",
       "      <th>0</th>\n",
       "      <td>0.000000</td>\n",
       "      <td>1.000000</td>\n",
       "      <td>6.000000</td>\n",
       "      <td>4.000000</td>\n",
       "      <td>0.235043</td>\n",
       "      <td>0.815983</td>\n",
       "      <td>10.000000</td>\n",
       "      <td>1.051026</td>\n",
       "      <td>4.517388</td>\n",
       "      <td>-0.027287</td>\n",
       "      <td>1.341655</td>\n",
       "      <td>4.600000</td>\n",
       "      <td>0.641701</td>\n",
       "      <td>1.800000</td>\n",
       "      <td>0.000037</td>\n",
       "      <td>4.446807</td>\n",
       "    </tr>\n",
       "    <tr>\n",
       "      <th>1</th>\n",
       "      <td>0.005025</td>\n",
       "      <td>0.994975</td>\n",
       "      <td>5.984925</td>\n",
       "      <td>4.005025</td>\n",
       "      <td>0.227960</td>\n",
       "      <td>0.798992</td>\n",
       "      <td>9.989950</td>\n",
       "      <td>1.026952</td>\n",
       "      <td>4.517949</td>\n",
       "      <td>-0.026649</td>\n",
       "      <td>1.338284</td>\n",
       "      <td>4.598995</td>\n",
       "      <td>0.627682</td>\n",
       "      <td>1.790966</td>\n",
       "      <td>0.000037</td>\n",
       "      <td>4.435634</td>\n",
       "    </tr>\n",
       "    <tr>\n",
       "      <th>2</th>\n",
       "      <td>0.010050</td>\n",
       "      <td>0.989950</td>\n",
       "      <td>5.969849</td>\n",
       "      <td>4.010050</td>\n",
       "      <td>0.220987</td>\n",
       "      <td>0.782182</td>\n",
       "      <td>9.979899</td>\n",
       "      <td>1.003169</td>\n",
       "      <td>4.518496</td>\n",
       "      <td>-0.026020</td>\n",
       "      <td>1.334913</td>\n",
       "      <td>4.597990</td>\n",
       "      <td>0.613823</td>\n",
       "      <td>1.781955</td>\n",
       "      <td>0.000037</td>\n",
       "      <td>4.424461</td>\n",
       "    </tr>\n",
       "    <tr>\n",
       "      <th>3</th>\n",
       "      <td>0.015075</td>\n",
       "      <td>0.984925</td>\n",
       "      <td>5.954774</td>\n",
       "      <td>4.015075</td>\n",
       "      <td>0.214124</td>\n",
       "      <td>0.765553</td>\n",
       "      <td>9.969849</td>\n",
       "      <td>0.979677</td>\n",
       "      <td>4.519029</td>\n",
       "      <td>-0.025398</td>\n",
       "      <td>1.331542</td>\n",
       "      <td>4.596985</td>\n",
       "      <td>0.600124</td>\n",
       "      <td>1.772967</td>\n",
       "      <td>0.000037</td>\n",
       "      <td>4.413288</td>\n",
       "    </tr>\n",
       "    <tr>\n",
       "      <th>4</th>\n",
       "      <td>0.020101</td>\n",
       "      <td>0.979899</td>\n",
       "      <td>5.939698</td>\n",
       "      <td>4.020101</td>\n",
       "      <td>0.207372</td>\n",
       "      <td>0.749105</td>\n",
       "      <td>9.959799</td>\n",
       "      <td>0.956477</td>\n",
       "      <td>4.519550</td>\n",
       "      <td>-0.024786</td>\n",
       "      <td>1.328171</td>\n",
       "      <td>4.595980</td>\n",
       "      <td>0.586585</td>\n",
       "      <td>1.764001</td>\n",
       "      <td>0.000037</td>\n",
       "      <td>4.402115</td>\n",
       "    </tr>\n",
       "  </tbody>\n",
       "</table>\n",
       "</div>"
      ],
      "text/plain": [
       "        w_1       w_2      mu_t      mu_s  sigma_t_2  sigma_s_2    mu_both  \\\n",
       "0  0.000000  1.000000  6.000000  4.000000   0.235043   0.815983  10.000000   \n",
       "1  0.005025  0.994975  5.984925  4.005025   0.227960   0.798992   9.989950   \n",
       "2  0.010050  0.989950  5.969849  4.010050   0.220987   0.782182   9.979899   \n",
       "3  0.015075  0.984925  5.954774  4.015075   0.214124   0.765553   9.969849   \n",
       "4  0.020101  0.979899  5.939698  4.020101   0.207372   0.749105   9.959799   \n",
       "\n",
       "   sigma_both_2  Utility_mc  Utility_vc   Utility   mu_comp  sigma_2_comp  \\\n",
       "0      1.051026    4.517388   -0.027287  1.341655  4.600000      0.641701   \n",
       "1      1.026952    4.517949   -0.026649  1.338284  4.598995      0.627682   \n",
       "2      1.003169    4.518496   -0.026020  1.334913  4.597990      0.613823   \n",
       "3      0.979677    4.519029   -0.025398  1.331542  4.596985      0.600124   \n",
       "4      0.956477    4.519550   -0.024786  1.328171  4.595980      0.586585   \n",
       "\n",
       "        u_1       u_2  Utility_EZ  \n",
       "0  1.800000  0.000037    4.446807  \n",
       "1  1.790966  0.000037    4.435634  \n",
       "2  1.781955  0.000037    4.424461  \n",
       "3  1.772967  0.000037    4.413288  \n",
       "4  1.764001  0.000037    4.402115  "
      ]
     },
     "execution_count": 201,
     "metadata": {},
     "output_type": "execute_result"
    }
   ],
   "source": [
    "results_df.head()"
   ]
  },
  {
   "cell_type": "markdown",
   "metadata": {},
   "source": [
    "## Stats at Max Utility"
   ]
  },
  {
   "cell_type": "code",
   "execution_count": null,
   "metadata": {},
   "outputs": [],
   "source": []
  }
 ],
 "metadata": {
  "kernelspec": {
   "display_name": "Python 3",
   "language": "python",
   "name": "python3"
  },
  "language_info": {
   "codemirror_mode": {
    "name": "ipython",
    "version": 3
   },
   "file_extension": ".py",
   "mimetype": "text/x-python",
   "name": "python",
   "nbconvert_exporter": "python",
   "pygments_lexer": "ipython3",
   "version": "3.5.2"
  },
  "toc": {
   "base_numbering": 1,
   "nav_menu": {},
   "number_sections": true,
   "sideBar": true,
   "skip_h1_title": false,
   "title_cell": "Table of Contents",
   "title_sidebar": "Contents",
   "toc_cell": false,
   "toc_position": {},
   "toc_section_display": true,
   "toc_window_display": true
  }
 },
 "nbformat": 4,
 "nbformat_minor": 2
}
