{
 "cells": [
  {
   "cell_type": "code",
   "execution_count": 121,
   "metadata": {},
   "outputs": [],
   "source": [
    "import pandas as pd\n",
    "import numpy as np\n",
    "import matplotlib.pyplot as plt\n",
    "import seaborn as sns\n",
    "\n",
    "sns.set()\n",
    "%matplotlib inline"
   ]
  },
  {
   "cell_type": "code",
   "execution_count": 122,
   "metadata": {},
   "outputs": [],
   "source": [
    "def gen_psdm(n):\n",
    "    # multiplies a matrix by its transpose to get a positve semidefinite matrix\n",
    "    \n",
    "    if n <= 0 or not float(n).is_integer():\n",
    "        raise ValueError('Invalid n')\n",
    "    \n",
    "    else:\n",
    "        mat = np.random.random((n, n))\n",
    "        psdm = np.matmul(mat, np.transpose(mat))\n",
    "        return psdm / np.max(psdm)"
   ]
  },
  {
   "cell_type": "code",
   "execution_count": 123,
   "metadata": {},
   "outputs": [],
   "source": [
    "def set_opposite_diag(mat):\n",
    "    # changes elements of the opposite diagonal\n",
    "    \n",
    "    mat = np.fliplr(mat)\n",
    "    \n",
    "    for i in range(0,np.shape(mat)[0]):\n",
    "        mat[i,i] = -mat[i,i]\n",
    "        \n",
    "    return np.fliplr(mat)"
   ]
  },
  {
   "cell_type": "markdown",
   "metadata": {},
   "source": [
    "# Create Technologies"
   ]
  },
  {
   "cell_type": "code",
   "execution_count": 124,
   "metadata": {
    "scrolled": true
   },
   "outputs": [
    {
     "name": "stdout",
     "output_type": "stream",
     "text": [
      "[[3 6]\n",
      " [5 4]]\n"
     ]
    }
   ],
   "source": [
    "Xi = np.matrix([[3, 6], [5, 4]])\n",
    "print(Xi)"
   ]
  },
  {
   "cell_type": "code",
   "execution_count": 125,
   "metadata": {},
   "outputs": [],
   "source": [
    "# number of technologies\n",
    "n = 2\n",
    "\n",
    "# define cov matrices\n",
    "Sigma_t = gen_psdm(n)\n",
    "Sigma_s = gen_psdm(n)\n",
    "\n",
    "# set cov to negative\n",
    "Sigma_t = set_opposite_diag(Sigma_t)\n",
    "Sigma_s = set_opposite_diag(Sigma_s)"
   ]
  },
  {
   "cell_type": "code",
   "execution_count": 126,
   "metadata": {},
   "outputs": [
    {
     "name": "stdout",
     "output_type": "stream",
     "text": [
      "Sigma t correlation: -0.885\n",
      "Sigma s correlation: -1.000\n"
     ]
    }
   ],
   "source": [
    "corr_coeff = lambda mat: mat[0,1]/ np.sqrt(mat[0,0]*mat[1,1])\n",
    "print('Sigma t correlation: {0:0.3f}'.format(corr_coeff(Sigma_t)))\n",
    "print('Sigma s correlation: {0:0.3f}'.format(corr_coeff(Sigma_s)))"
   ]
  },
  {
   "cell_type": "code",
   "execution_count": 127,
   "metadata": {},
   "outputs": [
    {
     "data": {
      "text/plain": [
       "array([[ 1.        , -0.72595658],\n",
       "       [-0.72595658,  0.67325155]])"
      ]
     },
     "execution_count": 127,
     "metadata": {},
     "output_type": "execute_result"
    }
   ],
   "source": [
    "Sigma_t"
   ]
  },
  {
   "cell_type": "markdown",
   "metadata": {},
   "source": [
    "# Mean Variance Analysis"
   ]
  },
  {
   "cell_type": "code",
   "execution_count": 128,
   "metadata": {},
   "outputs": [],
   "source": [
    "def array_to_list(arr):\n",
    "    return np.array(arr).ravel().tolist()"
   ]
  },
  {
   "cell_type": "markdown",
   "metadata": {},
   "source": [
    "## Generate random combinations of technologies"
   ]
  },
  {
   "cell_type": "code",
   "execution_count": 142,
   "metadata": {},
   "outputs": [],
   "source": [
    "results = []\n",
    "samples = 200\n",
    "w_1_range = np.linspace(0, 1, samples)\n",
    "\n",
    "for i in range(0,samples):\n",
    "    \n",
    "    # random weights\n",
    "    w = np.array([w_1_range[i], 1 - w_1_range[i]])\n",
    "\n",
    "    # stats\n",
    "    mu = np.matmul(Xi, w)\n",
    "    sigma_t = np.matmul(np.matmul(w.T, Sigma_t), w)\n",
    "    sigma_s = np.matmul(np.matmul(w.T, Sigma_s), w)\n",
    "    \n",
    "    # update results\n",
    "    results.append(array_to_list(w) + array_to_list(mu) + array_to_list(sigma_t) + array_to_list(sigma_s))"
   ]
  },
  {
   "cell_type": "code",
   "execution_count": 143,
   "metadata": {},
   "outputs": [],
   "source": [
    "results_df = pd.DataFrame(results, columns = ['w_1', 'w_2', 'mu_t', 'mu_s', 'sigma_t_2', 'sigma_s_2'])"
   ]
  },
  {
   "cell_type": "code",
   "execution_count": 155,
   "metadata": {},
   "outputs": [],
   "source": [
    "# both period variance and output will be just the sum of their variances and means since these are normal rv's\n",
    "results_df['mu_both'] = np.add(results_df['mu_t'], results_df['mu_s'])\n",
    "results_df['sigma_both_2'] = np.add(results_df['sigma_t_2'], results_df['sigma_s_2'])"
   ]
  },
  {
   "cell_type": "markdown",
   "metadata": {},
   "source": [
    "## Plot Results"
   ]
  },
  {
   "cell_type": "code",
   "execution_count": 159,
   "metadata": {},
   "outputs": [
    {
     "data": {
      "image/png": "[encoded data removed]",
      "text/plain": [
       "<Figure size 1080x360 with 1 Axes>"
      ]
     },
     "metadata": {},
     "output_type": "display_data"
    }
   ],
   "source": [
    "fig, ax1 = plt.subplots(figsize=(15,5))\n",
    "sns.scatterplot(data = results_df, x = 'sigma_t_2', y = 'mu_t', linewidth=0, ax = ax1, label = 'Period t')\n",
    "sns.scatterplot(data = results_df, x = 'sigma_s_2', y = 'mu_s', linewidth=0, ax = ax1, label = 'Period s')\n",
    "ax1.set_xlabel(\"Variance\")\n",
    "ax1.set_ylabel(\"Mean\");"
   ]
  },
  {
   "cell_type": "markdown",
   "metadata": {},
   "source": [
    "# Cobb-Douglas Utility Example"
   ]
  },
  {
   "cell_type": "code",
   "execution_count": 160,
   "metadata": {},
   "outputs": [],
   "source": [
    "# CD Utility params\n",
    "alpha_t = 0.3\n",
    "alpha_s = 0.7"
   ]
  },
  {
   "cell_type": "markdown",
   "metadata": {},
   "source": [
    "## Find Utility at each point"
   ]
  },
  {
   "cell_type": "code",
   "execution_count": 161,
   "metadata": {},
   "outputs": [],
   "source": [
    "U    = lambda y_t,y_s: (y_t**alpha_t)*(y_s**alpha_s) \n",
    "U_tt = lambda y_t,y_s: (alpha_t)*(alpha_t - 1)*(y_t**(alpha_t-2))*(y_s**alpha_s)\n",
    "U_ss = lambda y_t,y_s: (alpha_s)*(alpha_s - 1)*(y_s**(alpha_s-2))*(y_t**alpha_t)"
   ]
  },
  {
   "cell_type": "code",
   "execution_count": 162,
   "metadata": {},
   "outputs": [],
   "source": [
    "# Mean component of utility\n",
    "results_df['Utility_mc'] = results_df.apply(lambda x: U(x.mu_t, x.mu_s), axis = 1)"
   ]
  },
  {
   "cell_type": "code",
   "execution_count": 163,
   "metadata": {},
   "outputs": [],
   "source": [
    "# Variance component of utility\n",
    "results_df['Utility_vc'] = 0.5*results_df.apply(lambda x: U_tt(x.mu_t, x.mu_s)*(x.sigma_t_2 + x.mu_t**2)\n",
    "                                               + U_ss(x.mu_t, x.mu_s)*(x.sigma_s_2 + x.mu_s**2), axis = 1)"
   ]
  },
  {
   "cell_type": "code",
   "execution_count": 164,
   "metadata": {},
   "outputs": [],
   "source": [
    "# Total Utility\n",
    "results_df['Utility'] = np.add(results_df['Utility_mc'], results_df['Utility_vc'])"
   ]
  },
  {
   "cell_type": "markdown",
   "metadata": {},
   "source": [
    "## Stats at Max Utility"
   ]
  },
  {
   "cell_type": "code",
   "execution_count": 166,
   "metadata": {
    "scrolled": true
   },
   "outputs": [
    {
     "data": {
      "text/html": [
       "<div>\n",
       "<style scoped>\n",
       "    .dataframe tbody tr th:only-of-type {\n",
       "        vertical-align: middle;\n",
       "    }\n",
       "\n",
       "    .dataframe tbody tr th {\n",
       "        vertical-align: top;\n",
       "    }\n",
       "\n",
       "    .dataframe thead th {\n",
       "        text-align: right;\n",
       "    }\n",
       "</style>\n",
       "<table border=\"1\" class=\"dataframe\">\n",
       "  <thead>\n",
       "    <tr style=\"text-align: right;\">\n",
       "      <th></th>\n",
       "      <th>61</th>\n",
       "    </tr>\n",
       "  </thead>\n",
       "  <tbody>\n",
       "    <tr>\n",
       "      <th>w_1</th>\n",
       "      <td>0.306533</td>\n",
       "    </tr>\n",
       "    <tr>\n",
       "      <th>w_2</th>\n",
       "      <td>0.693467</td>\n",
       "    </tr>\n",
       "    <tr>\n",
       "      <th>mu_t</th>\n",
       "      <td>5.080402</td>\n",
       "    </tr>\n",
       "    <tr>\n",
       "      <th>mu_s</th>\n",
       "      <td>4.306533</td>\n",
       "    </tr>\n",
       "    <tr>\n",
       "      <th>sigma_t_2</th>\n",
       "      <td>0.109093</td>\n",
       "    </tr>\n",
       "    <tr>\n",
       "      <th>sigma_s_2</th>\n",
       "      <td>0.123184</td>\n",
       "    </tr>\n",
       "    <tr>\n",
       "      <th>Utility_mc</th>\n",
       "      <td>4.525420</td>\n",
       "    </tr>\n",
       "    <tr>\n",
       "      <th>Utility_vc</th>\n",
       "      <td>-0.955503</td>\n",
       "    </tr>\n",
       "    <tr>\n",
       "      <th>Utility</th>\n",
       "      <td>3.569917</td>\n",
       "    </tr>\n",
       "    <tr>\n",
       "      <th>mu_both</th>\n",
       "      <td>9.386935</td>\n",
       "    </tr>\n",
       "    <tr>\n",
       "      <th>sigma_both_2</th>\n",
       "      <td>0.232277</td>\n",
       "    </tr>\n",
       "  </tbody>\n",
       "</table>\n",
       "</div>"
      ],
      "text/plain": [
       "                    61\n",
       "w_1           0.306533\n",
       "w_2           0.693467\n",
       "mu_t          5.080402\n",
       "mu_s          4.306533\n",
       "sigma_t_2     0.109093\n",
       "sigma_s_2     0.123184\n",
       "Utility_mc    4.525420\n",
       "Utility_vc   -0.955503\n",
       "Utility       3.569917\n",
       "mu_both       9.386935\n",
       "sigma_both_2  0.232277"
      ]
     },
     "execution_count": 166,
     "metadata": {},
     "output_type": "execute_result"
    }
   ],
   "source": [
    "max_util_idx = results_df['Utility'].idxmax()\n",
    "pd.DataFrame(results_df.iloc[max_util_idx, :])"
   ]
  },
  {
   "cell_type": "markdown",
   "metadata": {},
   "source": [
    "## Plot Results"
   ]
  },
  {
   "cell_type": "code",
   "execution_count": 175,
   "metadata": {},
   "outputs": [
    {
     "data": {
      "image/png": "[encoded data removed]",
      "text/plain": [
       "<Figure size 1080x360 with 1 Axes>"
      ]
     },
     "metadata": {},
     "output_type": "display_data"
    }
   ],
   "source": [
    "fig, ax1 = plt.subplots(figsize=(15,5))\n",
    "sns.scatterplot(data = results_df, x = 'w_1', y = 'Utility')\n",
    "plt.plot(results_df['w_1'].iloc[max_util_idx], results_df['Utility'].iloc[max_util_idx], 'ro', markersize = 10)\n",
    "ax1.set_xlabel(\"Percent of Budget spent on X_1\")\n",
    "ax1.set_ylabel(\"Utility\");"
   ]
  },
  {
   "cell_type": "markdown",
   "metadata": {},
   "source": [
    "## MV Plots at Max Utility"
   ]
  },
  {
   "cell_type": "markdown",
   "metadata": {},
   "source": [
    "The red point indicates the location the optimal frontier that maximizes both period utility. This point doesn't actually min varaince on either frontier. "
   ]
  },
  {
   "cell_type": "code",
   "execution_count": 168,
   "metadata": {},
   "outputs": [
    {
     "data": {
      "image/png": "[encoded data removed]",
      "text/plain": [
       "<Figure size 1080x360 with 1 Axes>"
      ]
     },
     "metadata": {},
     "output_type": "display_data"
    }
   ],
   "source": [
    "fig, ax1 = plt.subplots(figsize=(15,5))\n",
    "sns.scatterplot(data = results_df, x = 'sigma_t_2', y = 'mu_t', linewidth=0, ax = ax1, label = 'Period t')\n",
    "sns.scatterplot(data = results_df, x = 'sigma_s_2', y = 'mu_s', linewidth=0, ax = ax1, label = 'Period s')\n",
    "plt.plot(results_df['sigma_t_2'].iloc[max_util_idx], results_df['mu_t'].iloc[max_util_idx], 'ro', markersize = 10)\n",
    "plt.plot(results_df['sigma_s_2'].iloc[max_util_idx], results_df['mu_s'].iloc[max_util_idx], 'ro', markersize = 10)\n",
    "ax1.set_xlabel(\"Variance\")\n",
    "ax1.set_ylabel(\"Mean\");"
   ]
  },
  {
   "cell_type": "markdown",
   "metadata": {},
   "source": [
    "Both period output is the total electricity output and its variance"
   ]
  },
  {
   "cell_type": "code",
   "execution_count": 172,
   "metadata": {},
   "outputs": [
    {
     "data": {
      "image/png": "[encoded data removed]",
      "text/plain": [
       "<Figure size 1080x360 with 1 Axes>"
      ]
     },
     "metadata": {},
     "output_type": "display_data"
    }
   ],
   "source": [
    "fig, ax1 = plt.subplots(figsize=(15,5))\n",
    "sns.scatterplot(data = results_df, x = 'sigma_both_2', y = 'mu_both', color = 'g', linewidth=0, ax = ax1, label = 'Both')\n",
    "plt.plot(results_df['sigma_both_2'].iloc[max_util_idx], results_df['mu_both'].iloc[max_util_idx], 'ro', markersize = 10)\n",
    "ax1.set_xlabel(\"Variance\")\n",
    "ax1.set_ylabel(\"Mean\");"
   ]
  }
 ],
 "metadata": {
  "kernelspec": {
   "display_name": "Python 3",
   "language": "python",
   "name": "python3"
  },
  "language_info": {
   "codemirror_mode": {
    "name": "ipython",
    "version": 3
   },
   "file_extension": ".py",
   "mimetype": "text/x-python",
   "name": "python",
   "nbconvert_exporter": "python",
   "pygments_lexer": "ipython3",
   "version": "3.5.2"
  },
  "toc": {
   "base_numbering": 1,
   "nav_menu": {},
   "number_sections": true,
   "sideBar": true,
   "skip_h1_title": false,
   "title_cell": "Table of Contents",
   "title_sidebar": "Contents",
   "toc_cell": false,
   "toc_position": {},
   "toc_section_display": true,
   "toc_window_display": true
  }
 },
 "nbformat": 4,
 "nbformat_minor": 2
}
