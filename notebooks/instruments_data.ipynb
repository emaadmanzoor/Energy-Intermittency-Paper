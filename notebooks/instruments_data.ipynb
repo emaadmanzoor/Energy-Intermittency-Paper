{
 "cells": [
  {
   "cell_type": "code",
   "execution_count": 1,
   "metadata": {},
   "outputs": [],
   "source": [
    "import numpy as np\n",
    "import xarray as xr\n",
    "import pandas as pd\n",
    "import urllib.request\n",
    "from numba import vectorize, float64\n",
    "import shapefile\n",
    "from shapely.geometry import shape, Point\n",
    "import zipfile"
   ]
  },
  {
   "cell_type": "code",
   "execution_count": 2,
   "metadata": {},
   "outputs": [],
   "source": [
    "data_dir  = '../data/'\n",
    "wind_dir  = data_dir + 'wind/'\n",
    "gis_dir   = data_dir + 'state/gis/'\n",
    "solar_dir = data_dir + 'solar/'\n",
    "tmpr_dir  = data_dir + 'temperature/'"
   ]
  },
  {
   "cell_type": "markdown",
   "metadata": {},
   "source": [
    "## Keys"
   ]
  },
  {
   "cell_type": "code",
   "execution_count": 3,
   "metadata": {},
   "outputs": [],
   "source": [
    "# MSN Codes Key\n",
    "msn_codes_file_loc = data_dir + 'keys/MSN_codes.csv'\n",
    "msn_codes_key = pd.read_csv(msn_codes_file_loc)\n",
    "\n",
    "# State FIPS Codes\n",
    "state_fips_file_loc = data_dir + 'keys/state_FIPS.csv'\n",
    "state_fips_key = pd.read_csv(state_fips_file_loc)\n",
    "state_fips_indicators = ['State Abbreviation', 'State Name']\n",
    "\n",
    "# State NCDC Codes\n",
    "state_ncdc_file_loc = data_dir + 'keys/state_NCDC_codes.csv'\n",
    "state_ncdc_key = pd.read_csv(state_ncdc_file_loc)\n",
    "state_ncdc_key['State Name'] = state_ncdc_key['State Name'].str.upper()\n",
    "\n",
    "# Merged State Codes Key\n",
    "state_codes_key = state_ncdc_key.merge(state_fips_key)\n",
    "\n",
    "# Month Key\n",
    "month_key = dict(zip(['January', 'February', 'March', 'April', 'May', 'June', 'July', 'August', 'September', 'October', 'November', 'December'], range(1,13)))"
   ]
  },
  {
   "cell_type": "markdown",
   "metadata": {},
   "source": [
    "# Wind Speeds"
   ]
  },
  {
   "cell_type": "markdown",
   "metadata": {},
   "source": [
    "## Download Data"
   ]
  },
  {
   "cell_type": "markdown",
   "metadata": {},
   "source": [
    "### Wind Data"
   ]
  },
  {
   "cell_type": "code",
   "execution_count": 3,
   "metadata": {},
   "outputs": [],
   "source": [
    "# Get wind speed data from NOAA through FTP server\n",
    "ftp_loc = 'ftp://ftp.cdc.noaa.gov/Datasets/ncep.reanalysis.dailyavgs/surface/'\n",
    "uwind_filename = 'uwnd.sig995.2016.nc'\n",
    "vwind_filename = 'vwnd.sig995.2016.nc'"
   ]
  },
  {
   "cell_type": "code",
   "execution_count": 4,
   "metadata": {},
   "outputs": [
    {
     "name": "stdout",
     "output_type": "stream",
     "text": [
      "Downloading wind data...\n",
      "Complete\n"
     ]
    }
   ],
   "source": [
    "# Code to download\n",
    "print('Downloading wind data...')\n",
    "urllib.request.urlretrieve(ftp_loc + uwind_filename, wind_dir + uwind_filename)\n",
    "urllib.request.urlretrieve(ftp_loc + vwind_filename, wind_dir + vwind_filename)\n",
    "print('Complete')"
   ]
  },
  {
   "cell_type": "markdown",
   "metadata": {},
   "source": [
    "### Shapefile Data"
   ]
  },
  {
   "cell_type": "code",
   "execution_count": 4,
   "metadata": {},
   "outputs": [],
   "source": [
    "# Get US shapefile from US Census\n",
    "url_loc = 'http://www2.census.gov/geo/tiger/GENZ2017/shp/'\n",
    "shapefile_filename = 'cb_2017_us_county_5m.zip'\n",
    "shapefile_foldername = 'us_county_5m/'"
   ]
  },
  {
   "cell_type": "code",
   "execution_count": 5,
   "metadata": {},
   "outputs": [
    {
     "name": "stdout",
     "output_type": "stream",
     "text": [
      "Downloading shapefile data...\n",
      "Complete\n"
     ]
    }
   ],
   "source": [
    "print('Downloading shapefile data...')\n",
    "urllib.request.urlretrieve(url_loc + shapefile_filename, gis_dir + shapefile_foldername + shapefile_filename)\n",
    "print('Complete')"
   ]
  },
  {
   "cell_type": "code",
   "execution_count": 6,
   "metadata": {},
   "outputs": [],
   "source": [
    "# unzip file\n",
    "zip_ref = zipfile.ZipFile(gis_dir + shapefile_foldername + shapefile_filename, 'r')\n",
    "zip_ref.extractall(gis_dir + shapefile_foldername)\n",
    "zip_ref.close()"
   ]
  },
  {
   "cell_type": "markdown",
   "metadata": {},
   "source": [
    "## Convert .NC to Pandas DF"
   ]
  },
  {
   "cell_type": "code",
   "execution_count": 9,
   "metadata": {},
   "outputs": [],
   "source": [
    "# Convert nc files to dataframes\n",
    "uwind_df = xr.open_dataset(wind_dir + 'uwnd.sig995.2016.nc').to_dataframe().reset_index()\n",
    "vwind_df = xr.open_dataset(wind_dir + 'vwnd.sig995.2016.nc').to_dataframe().reset_index()"
   ]
  },
  {
   "cell_type": "code",
   "execution_count": 10,
   "metadata": {},
   "outputs": [],
   "source": [
    "# Function to do sqrt(a^2 + b^2)\n",
    "@vectorize\n",
    "def f_diag(a,b): \n",
    "    return np.sqrt(np.power(a, 2) + np.power(b, 2))"
   ]
  },
  {
   "cell_type": "code",
   "execution_count": 11,
   "metadata": {},
   "outputs": [],
   "source": [
    "# Find wind speed using u_speed and v_speed\n",
    "data_wind_speed = uwind_df.merge(vwind_df)\n",
    "data_wind_speed['wind_speed'] = f_diag(data_wind_speed['uwnd'].values, data_wind_speed['vwnd'].values)"
   ]
  },
  {
   "cell_type": "code",
   "execution_count": 12,
   "metadata": {},
   "outputs": [],
   "source": [
    "# Convert longitudinal coordinates from [0:365] into [0:180 -180:0]\n",
    "def convert_lon(x):\n",
    "    if x > 180:\n",
    "        return x - 360\n",
    "    else: \n",
    "        return x\n",
    "    \n",
    "data_wind_speed['lon'] = data_wind_speed['lon'].apply(lambda x: convert_lon(x))"
   ]
  },
  {
   "cell_type": "code",
   "execution_count": 13,
   "metadata": {},
   "outputs": [
    {
     "data": {
      "text/html": [
       "<div>\n",
       "<style scoped>\n",
       "    .dataframe tbody tr th:only-of-type {\n",
       "        vertical-align: middle;\n",
       "    }\n",
       "\n",
       "    .dataframe tbody tr th {\n",
       "        vertical-align: top;\n",
       "    }\n",
       "\n",
       "    .dataframe thead th {\n",
       "        text-align: right;\n",
       "    }\n",
       "</style>\n",
       "<table border=\"1\" class=\"dataframe\">\n",
       "  <thead>\n",
       "    <tr style=\"text-align: right;\">\n",
       "      <th></th>\n",
       "      <th>lat</th>\n",
       "      <th>lon</th>\n",
       "      <th>nbnds</th>\n",
       "      <th>time</th>\n",
       "      <th>uwnd</th>\n",
       "      <th>time_bnds</th>\n",
       "      <th>vwnd</th>\n",
       "      <th>wind_speed</th>\n",
       "    </tr>\n",
       "  </thead>\n",
       "  <tbody>\n",
       "    <tr>\n",
       "      <th>0</th>\n",
       "      <td>90.0</td>\n",
       "      <td>0.0</td>\n",
       "      <td>0</td>\n",
       "      <td>2016-01-01</td>\n",
       "      <td>-0.449999</td>\n",
       "      <td>1893408.0</td>\n",
       "      <td>-8.449999</td>\n",
       "      <td>8.461973</td>\n",
       "    </tr>\n",
       "    <tr>\n",
       "      <th>1</th>\n",
       "      <td>90.0</td>\n",
       "      <td>0.0</td>\n",
       "      <td>0</td>\n",
       "      <td>2016-01-02</td>\n",
       "      <td>-0.699999</td>\n",
       "      <td>1893432.0</td>\n",
       "      <td>-2.049999</td>\n",
       "      <td>2.166216</td>\n",
       "    </tr>\n",
       "    <tr>\n",
       "      <th>2</th>\n",
       "      <td>90.0</td>\n",
       "      <td>0.0</td>\n",
       "      <td>0</td>\n",
       "      <td>2016-01-03</td>\n",
       "      <td>2.425002</td>\n",
       "      <td>1893456.0</td>\n",
       "      <td>3.725001</td>\n",
       "      <td>4.444802</td>\n",
       "    </tr>\n",
       "    <tr>\n",
       "      <th>3</th>\n",
       "      <td>90.0</td>\n",
       "      <td>0.0</td>\n",
       "      <td>0</td>\n",
       "      <td>2016-01-04</td>\n",
       "      <td>7.625001</td>\n",
       "      <td>1893480.0</td>\n",
       "      <td>1.350002</td>\n",
       "      <td>7.743587</td>\n",
       "    </tr>\n",
       "    <tr>\n",
       "      <th>4</th>\n",
       "      <td>90.0</td>\n",
       "      <td>0.0</td>\n",
       "      <td>0</td>\n",
       "      <td>2016-01-05</td>\n",
       "      <td>5.200001</td>\n",
       "      <td>1893504.0</td>\n",
       "      <td>-0.199999</td>\n",
       "      <td>5.203845</td>\n",
       "    </tr>\n",
       "  </tbody>\n",
       "</table>\n",
       "</div>"
      ],
      "text/plain": [
       "    lat  lon  nbnds       time      uwnd  time_bnds      vwnd  wind_speed\n",
       "0  90.0  0.0      0 2016-01-01 -0.449999  1893408.0 -8.449999    8.461973\n",
       "1  90.0  0.0      0 2016-01-02 -0.699999  1893432.0 -2.049999    2.166216\n",
       "2  90.0  0.0      0 2016-01-03  2.425002  1893456.0  3.725001    4.444802\n",
       "3  90.0  0.0      0 2016-01-04  7.625001  1893480.0  1.350002    7.743587\n",
       "4  90.0  0.0      0 2016-01-05  5.200001  1893504.0 -0.199999    5.203845"
      ]
     },
     "execution_count": 13,
     "metadata": {},
     "output_type": "execute_result"
    }
   ],
   "source": [
    "data_wind_speed.head()"
   ]
  },
  {
   "cell_type": "markdown",
   "metadata": {},
   "source": [
    "## Reverse Geocode"
   ]
  },
  {
   "cell_type": "code",
   "execution_count": 14,
   "metadata": {},
   "outputs": [],
   "source": [
    "# Read shapefile of counties from US Census\n",
    "r = shapefile.Reader(gis_dir + \"us_county_5m/cb_2017_us_county_5m.shp\")\n",
    "shapes = r.shapes()\n",
    "records = r.records()"
   ]
  },
  {
   "cell_type": "code",
   "execution_count": 15,
   "metadata": {},
   "outputs": [],
   "source": [
    "def reverse_geocode_county(lat, lon, shapes, records, bbox = [-180, -60, 15, 73]):\n",
    "    ''' Returns a list of records associated with a given lat and lon, \n",
    "    including FIPS codes for the state and county\n",
    "    '''\n",
    "    # check if point is inside the US\n",
    "    if lat < bbox[2] or lat > bbox[3] or lon < bbox[0] or lon > bbox[1]:\n",
    "        return [None]*len(records[0])\n",
    "    \n",
    "    point_missing = True\n",
    "\n",
    "    for i in range(0, len(shapes)):\n",
    "\n",
    "        county_sh = shapes[i]\n",
    "\n",
    "        # County of point located\n",
    "        if shape(county_sh).contains(Point(lon, lat)):\n",
    "\n",
    "            point_missing = False\n",
    "            break\n",
    "        \n",
    "    # Point not in the US\n",
    "    if point_missing:\n",
    "        # raise Exception('Point not found')\n",
    "        return [None]*len(records[0])\n",
    "    else:\n",
    "        return records[i]\n",
    "        "
   ]
  },
  {
   "cell_type": "code",
   "execution_count": 16,
   "metadata": {},
   "outputs": [
    {
     "data": {
      "text/html": [
       "<div>\n",
       "<style scoped>\n",
       "    .dataframe tbody tr th:only-of-type {\n",
       "        vertical-align: middle;\n",
       "    }\n",
       "\n",
       "    .dataframe tbody tr th {\n",
       "        vertical-align: top;\n",
       "    }\n",
       "\n",
       "    .dataframe thead th {\n",
       "        text-align: right;\n",
       "    }\n",
       "</style>\n",
       "<table border=\"1\" class=\"dataframe\">\n",
       "  <thead>\n",
       "    <tr style=\"text-align: right;\">\n",
       "      <th></th>\n",
       "      <th>lat</th>\n",
       "      <th>lon</th>\n",
       "      <th>nbnds</th>\n",
       "      <th>time</th>\n",
       "      <th>uwnd</th>\n",
       "      <th>time_bnds</th>\n",
       "      <th>vwnd</th>\n",
       "      <th>wind_speed</th>\n",
       "    </tr>\n",
       "  </thead>\n",
       "  <tbody>\n",
       "    <tr>\n",
       "      <th>152</th>\n",
       "      <td>90.0</td>\n",
       "      <td>0.0</td>\n",
       "      <td>0</td>\n",
       "      <td>2016-06-01</td>\n",
       "      <td>1.125</td>\n",
       "      <td>1897056.0</td>\n",
       "      <td>-2.274999</td>\n",
       "      <td>2.537961</td>\n",
       "    </tr>\n",
       "    <tr>\n",
       "      <th>884</th>\n",
       "      <td>90.0</td>\n",
       "      <td>2.5</td>\n",
       "      <td>0</td>\n",
       "      <td>2016-06-01</td>\n",
       "      <td>1.025</td>\n",
       "      <td>1897056.0</td>\n",
       "      <td>-2.299999</td>\n",
       "      <td>2.518059</td>\n",
       "    </tr>\n",
       "    <tr>\n",
       "      <th>1616</th>\n",
       "      <td>90.0</td>\n",
       "      <td>5.0</td>\n",
       "      <td>0</td>\n",
       "      <td>2016-06-01</td>\n",
       "      <td>0.925</td>\n",
       "      <td>1897056.0</td>\n",
       "      <td>-2.324999</td>\n",
       "      <td>2.502248</td>\n",
       "    </tr>\n",
       "    <tr>\n",
       "      <th>2348</th>\n",
       "      <td>90.0</td>\n",
       "      <td>7.5</td>\n",
       "      <td>0</td>\n",
       "      <td>2016-06-01</td>\n",
       "      <td>0.800</td>\n",
       "      <td>1897056.0</td>\n",
       "      <td>-2.374999</td>\n",
       "      <td>2.506117</td>\n",
       "    </tr>\n",
       "    <tr>\n",
       "      <th>3080</th>\n",
       "      <td>90.0</td>\n",
       "      <td>10.0</td>\n",
       "      <td>0</td>\n",
       "      <td>2016-06-01</td>\n",
       "      <td>0.700</td>\n",
       "      <td>1897056.0</td>\n",
       "      <td>-2.399999</td>\n",
       "      <td>2.499999</td>\n",
       "    </tr>\n",
       "  </tbody>\n",
       "</table>\n",
       "</div>"
      ],
      "text/plain": [
       "       lat   lon  nbnds       time   uwnd  time_bnds      vwnd  wind_speed\n",
       "152   90.0   0.0      0 2016-06-01  1.125  1897056.0 -2.274999    2.537961\n",
       "884   90.0   2.5      0 2016-06-01  1.025  1897056.0 -2.299999    2.518059\n",
       "1616  90.0   5.0      0 2016-06-01  0.925  1897056.0 -2.324999    2.502248\n",
       "2348  90.0   7.5      0 2016-06-01  0.800  1897056.0 -2.374999    2.506117\n",
       "3080  90.0  10.0      0 2016-06-01  0.700  1897056.0 -2.399999    2.499999"
      ]
     },
     "execution_count": 16,
     "metadata": {},
     "output_type": "execute_result"
    }
   ],
   "source": [
    "# Filter to get unique observations of each lat and lon in the data (only those in the US)\n",
    "data_wind_speed_temp = data_wind_speed[data_wind_speed['time'] == '2016-06-01'].copy()\n",
    "data_wind_speed_temp = data_wind_speed_temp.query('nbnds == 0').query('lat > 15').query('lon > -180').copy()\n",
    "\n",
    "data_wind_speed_temp.head()"
   ]
  },
  {
   "cell_type": "code",
   "execution_count": 17,
   "metadata": {},
   "outputs": [],
   "source": [
    "# Get state of each observation\n",
    "data_wind_speed_temp['state_fips_code'] = data_wind_speed_temp.apply(lambda x: reverse_geocode_county(x.lat, x.lon, shapes, records)[0], axis = 1)"
   ]
  },
  {
   "cell_type": "code",
   "execution_count": 18,
   "metadata": {},
   "outputs": [],
   "source": [
    "# Get county of each observation\n",
    "data_wind_speed_temp = data_wind_speed_temp.dropna().copy()\n",
    "data_wind_speed_temp['county_fips_code'] = data_wind_speed_temp.apply(lambda x: reverse_geocode_county(x.lat, x.lon, shapes, records)[1], axis = 1)"
   ]
  },
  {
   "cell_type": "code",
   "execution_count": 19,
   "metadata": {},
   "outputs": [],
   "source": [
    "# Merge temp dataframe to get fips codes for all dates\n",
    "data_wind_speed = data_wind_speed_temp[['lat', 'lon', 'state_fips_code', 'county_fips_code']].merge(data_wind_speed, on = ['lat', 'lon'])"
   ]
  },
  {
   "cell_type": "markdown",
   "metadata": {},
   "source": [
    "## Clean Data"
   ]
  },
  {
   "cell_type": "code",
   "execution_count": 20,
   "metadata": {},
   "outputs": [],
   "source": [
    "# Drop unnecessary columns\n",
    "data_wind_speed = data_wind_speed.drop(['lat', 'lon', 'county_fips_code', 'nbnds', 'time_bnds'], axis = 1)\n",
    "\n",
    "# Fix State FIPS code\n",
    "data_wind_speed['state_fips_code'] = pd.to_numeric(data_wind_speed['state_fips_code'])\n",
    "\n",
    "# Get monthly average wind speed\n",
    "data_wind_speed['month'] = data_wind_speed['time'].apply(lambda x: x.month)\n",
    "data_wind_speed = data_wind_speed.groupby(['state_fips_code', 'month']).mean().reset_index()\n",
    "\n",
    "# Rename columns\n",
    "data_wind_speed = data_wind_speed.rename(columns = {'state_fips_code': 'State FIPS', 'wind_speed': 'Avg_Wind_Speed'}).drop(['uwnd', 'vwnd'], axis = 1)"
   ]
  },
  {
   "cell_type": "code",
   "execution_count": 21,
   "metadata": {},
   "outputs": [
    {
     "data": {
      "text/html": [
       "<div>\n",
       "<style scoped>\n",
       "    .dataframe tbody tr th:only-of-type {\n",
       "        vertical-align: middle;\n",
       "    }\n",
       "\n",
       "    .dataframe tbody tr th {\n",
       "        vertical-align: top;\n",
       "    }\n",
       "\n",
       "    .dataframe thead th {\n",
       "        text-align: right;\n",
       "    }\n",
       "</style>\n",
       "<table border=\"1\" class=\"dataframe\">\n",
       "  <thead>\n",
       "    <tr style=\"text-align: right;\">\n",
       "      <th></th>\n",
       "      <th>State FIPS</th>\n",
       "      <th>month</th>\n",
       "      <th>Avg_Wind_Speed</th>\n",
       "    </tr>\n",
       "  </thead>\n",
       "  <tbody>\n",
       "    <tr>\n",
       "      <th>0</th>\n",
       "      <td>1</td>\n",
       "      <td>1</td>\n",
       "      <td>4.232283</td>\n",
       "    </tr>\n",
       "    <tr>\n",
       "      <th>1</th>\n",
       "      <td>1</td>\n",
       "      <td>2</td>\n",
       "      <td>4.527190</td>\n",
       "    </tr>\n",
       "    <tr>\n",
       "      <th>2</th>\n",
       "      <td>1</td>\n",
       "      <td>3</td>\n",
       "      <td>4.669978</td>\n",
       "    </tr>\n",
       "    <tr>\n",
       "      <th>3</th>\n",
       "      <td>1</td>\n",
       "      <td>4</td>\n",
       "      <td>3.731362</td>\n",
       "    </tr>\n",
       "    <tr>\n",
       "      <th>4</th>\n",
       "      <td>1</td>\n",
       "      <td>5</td>\n",
       "      <td>3.745946</td>\n",
       "    </tr>\n",
       "  </tbody>\n",
       "</table>\n",
       "</div>"
      ],
      "text/plain": [
       "   State FIPS  month  Avg_Wind_Speed\n",
       "0           1      1        4.232283\n",
       "1           1      2        4.527190\n",
       "2           1      3        4.669978\n",
       "3           1      4        3.731362\n",
       "4           1      5        3.745946"
      ]
     },
     "execution_count": 21,
     "metadata": {},
     "output_type": "execute_result"
    }
   ],
   "source": [
    "data_wind_speed.head()"
   ]
  },
  {
   "cell_type": "markdown",
   "metadata": {},
   "source": [
    "# Solar Radiation"
   ]
  },
  {
   "cell_type": "markdown",
   "metadata": {},
   "source": [
    "## Import Data"
   ]
  },
  {
   "cell_type": "code",
   "execution_count": 142,
   "metadata": {},
   "outputs": [],
   "source": [
    "# Solar Radiation Data\n",
    "solar_rad_file_loc = solar_dir + 'solar_radiation.csv'\n",
    "data_solar_rad = pd.read_csv(solar_rad_file_loc, na_values = ['-']).dropna()"
   ]
  },
  {
   "cell_type": "markdown",
   "metadata": {},
   "source": [
    "## Clean Data"
   ]
  },
  {
   "cell_type": "code",
   "execution_count": 143,
   "metadata": {},
   "outputs": [],
   "source": [
    "# Melt month columns\n",
    "data_solar_rad_avg_cols = [x for x in data_solar_rad.columns if x[-20:] == 'Average (kWh/m2/day)' and x[0:3] != 'Ann']\n",
    "data_solar_rad = data_solar_rad.melt(id_vars = 'State', value_vars = data_solar_rad_avg_cols, var_name='month', value_name='solar_avg_rad')\n",
    "\n",
    "# Convert months to numbers\n",
    "data_solar_rad['month'] = data_solar_rad['month'].apply(lambda x: month_key.get(x.split(' ')[0]))\n",
    "\n",
    "# Convert average solar radiation (kwh) to thousands of kwh\n",
    "data_solar_rad['solar_avg_rad'] = data_solar_rad['solar_avg_rad']/1000;"
   ]
  },
  {
   "cell_type": "code",
   "execution_count": 144,
   "metadata": {},
   "outputs": [
    {
     "data": {
      "text/html": [
       "<div>\n",
       "<style scoped>\n",
       "    .dataframe tbody tr th:only-of-type {\n",
       "        vertical-align: middle;\n",
       "    }\n",
       "\n",
       "    .dataframe tbody tr th {\n",
       "        vertical-align: top;\n",
       "    }\n",
       "\n",
       "    .dataframe thead th {\n",
       "        text-align: right;\n",
       "    }\n",
       "</style>\n",
       "<table border=\"1\" class=\"dataframe\">\n",
       "  <thead>\n",
       "    <tr style=\"text-align: right;\">\n",
       "      <th></th>\n",
       "      <th>State</th>\n",
       "      <th>month</th>\n",
       "      <th>solar_avg_rad</th>\n",
       "    </tr>\n",
       "  </thead>\n",
       "  <tbody>\n",
       "    <tr>\n",
       "      <th>0</th>\n",
       "      <td>Alabama</td>\n",
       "      <td>1</td>\n",
       "      <td>0.00387</td>\n",
       "    </tr>\n",
       "    <tr>\n",
       "      <th>1</th>\n",
       "      <td>Arizona</td>\n",
       "      <td>1</td>\n",
       "      <td>0.00653</td>\n",
       "    </tr>\n",
       "    <tr>\n",
       "      <th>2</th>\n",
       "      <td>Arkansas</td>\n",
       "      <td>1</td>\n",
       "      <td>0.00350</td>\n",
       "    </tr>\n",
       "    <tr>\n",
       "      <th>3</th>\n",
       "      <td>California</td>\n",
       "      <td>1</td>\n",
       "      <td>0.00434</td>\n",
       "    </tr>\n",
       "    <tr>\n",
       "      <th>4</th>\n",
       "      <td>Colorado</td>\n",
       "      <td>1</td>\n",
       "      <td>0.00474</td>\n",
       "    </tr>\n",
       "  </tbody>\n",
       "</table>\n",
       "</div>"
      ],
      "text/plain": [
       "        State  month  solar_avg_rad\n",
       "0     Alabama      1        0.00387\n",
       "1     Arizona      1        0.00653\n",
       "2    Arkansas      1        0.00350\n",
       "3  California      1        0.00434\n",
       "4    Colorado      1        0.00474"
      ]
     },
     "execution_count": 144,
     "metadata": {},
     "output_type": "execute_result"
    }
   ],
   "source": [
    "data_solar_rad.head()"
   ]
  },
  {
   "cell_type": "markdown",
   "metadata": {},
   "source": [
    "# Temperature"
   ]
  },
  {
   "cell_type": "code",
   "execution_count": 145,
   "metadata": {},
   "outputs": [],
   "source": [
    "# CDD\n",
    "cdd_file_loc = tmpr_dir + 'CDD_State.txt'\n",
    "data_cdd = pd.read_fwf(cdd_file_loc, header = None, index = None, converters={0: lambda x: str(x)})\n",
    "\n",
    "# HDD\n",
    "hdd_file_loc = tmpr_dir + 'HDD_State.txt'\n",
    "data_hdd = pd.read_fwf(hdd_file_loc, header = None, index = None, converters={0: lambda x: str(x)})"
   ]
  },
  {
   "cell_type": "code",
   "execution_count": 146,
   "metadata": {},
   "outputs": [],
   "source": [
    "# Translate first column \n",
    "data_cdd['NCDC Code'] = data_cdd[0].apply(lambda x: int(str(x)[:3]))\n",
    "data_cdd['Year'] = data_cdd[0].apply(lambda x: str(x)[-4:])\n",
    "data_hdd['NCDC Code'] = data_hdd[0].apply(lambda x: int(str(x)[:3]))\n",
    "data_hdd['Year'] = data_hdd[0].apply(lambda x: str(x)[-4:])\n",
    "\n",
    "# Only keep 2016 data\n",
    "data_cdd = data_cdd.query('Year == \"2016\"')\n",
    "data_hdd = data_hdd.query('Year == \"2016\"')\n",
    "\n",
    "# Drop unnecessary columns\n",
    "data_cdd = data_cdd.drop([0, 'Year'], axis = 1)\n",
    "data_hdd = data_hdd.drop([0, 'Year'], axis = 1)\n",
    "\n",
    "# Melt months columns\n",
    "data_cdd = data_cdd.melt(id_vars = ['NCDC Code'], value_vars = data_cdd.columns[0:12], var_name='month', value_name='CDD')\n",
    "data_hdd = data_hdd.melt(id_vars = ['NCDC Code'], value_vars = data_hdd.columns[0:12], var_name='month', value_name='HDD')"
   ]
  },
  {
   "cell_type": "code",
   "execution_count": 147,
   "metadata": {},
   "outputs": [
    {
     "data": {
      "text/html": [
       "<div>\n",
       "<style scoped>\n",
       "    .dataframe tbody tr th:only-of-type {\n",
       "        vertical-align: middle;\n",
       "    }\n",
       "\n",
       "    .dataframe tbody tr th {\n",
       "        vertical-align: top;\n",
       "    }\n",
       "\n",
       "    .dataframe thead th {\n",
       "        text-align: right;\n",
       "    }\n",
       "</style>\n",
       "<table border=\"1\" class=\"dataframe\">\n",
       "  <thead>\n",
       "    <tr style=\"text-align: right;\">\n",
       "      <th></th>\n",
       "      <th>NCDC Code</th>\n",
       "      <th>month</th>\n",
       "      <th>CDD</th>\n",
       "    </tr>\n",
       "  </thead>\n",
       "  <tbody>\n",
       "    <tr>\n",
       "      <th>0</th>\n",
       "      <td>1</td>\n",
       "      <td>1</td>\n",
       "      <td>4.0</td>\n",
       "    </tr>\n",
       "    <tr>\n",
       "      <th>1</th>\n",
       "      <td>2</td>\n",
       "      <td>1</td>\n",
       "      <td>0.0</td>\n",
       "    </tr>\n",
       "    <tr>\n",
       "      <th>2</th>\n",
       "      <td>3</td>\n",
       "      <td>1</td>\n",
       "      <td>0.0</td>\n",
       "    </tr>\n",
       "    <tr>\n",
       "      <th>3</th>\n",
       "      <td>4</td>\n",
       "      <td>1</td>\n",
       "      <td>0.0</td>\n",
       "    </tr>\n",
       "    <tr>\n",
       "      <th>4</th>\n",
       "      <td>5</td>\n",
       "      <td>1</td>\n",
       "      <td>0.0</td>\n",
       "    </tr>\n",
       "  </tbody>\n",
       "</table>\n",
       "</div>"
      ],
      "text/plain": [
       "   NCDC Code month  CDD\n",
       "0          1     1  4.0\n",
       "1          2     1  0.0\n",
       "2          3     1  0.0\n",
       "3          4     1  0.0\n",
       "4          5     1  0.0"
      ]
     },
     "execution_count": 147,
     "metadata": {},
     "output_type": "execute_result"
    }
   ],
   "source": [
    "data_cdd.head()"
   ]
  },
  {
   "cell_type": "markdown",
   "metadata": {},
   "source": [
    "# State Factors"
   ]
  },
  {
   "cell_type": "code",
   "execution_count": 148,
   "metadata": {},
   "outputs": [],
   "source": [
    "# Population data\n",
    "pop_data_file_loc = data_dir + 'state/state_population.csv'\n",
    "pop_data = pd.read_csv(pop_data_file_loc)\n",
    "\n",
    "# State Area data\n",
    "area_data_file_loc = data_dir + 'state/state_area.csv'\n",
    "area_data = pd.read_csv(area_data_file_loc)\n",
    "\n",
    "# State RGDP data\n",
    "rgdp_data_file_loc = data_dir + 'state/state_rgdp.csv'\n",
    "gdp_data = pd.read_csv(rgdp_data_file_loc)"
   ]
  },
  {
   "cell_type": "markdown",
   "metadata": {},
   "source": [
    "### Population"
   ]
  },
  {
   "cell_type": "code",
   "execution_count": 149,
   "metadata": {},
   "outputs": [],
   "source": [
    "# Assign same population for all months due to lack of monthly pop data\n",
    "pop_data_temp = pop_data.copy()\n",
    "pop_data = pd.DataFrame();\n",
    "\n",
    "for mon in range(1,13):\n",
    "    temp = pop_data_temp.copy()\n",
    "    temp['month'] = mon\n",
    "    pop_data = pd.concat([temp, pop_data])"
   ]
  },
  {
   "cell_type": "code",
   "execution_count": 150,
   "metadata": {},
   "outputs": [
    {
     "data": {
      "text/html": [
       "<div>\n",
       "<style scoped>\n",
       "    .dataframe tbody tr th:only-of-type {\n",
       "        vertical-align: middle;\n",
       "    }\n",
       "\n",
       "    .dataframe tbody tr th {\n",
       "        vertical-align: top;\n",
       "    }\n",
       "\n",
       "    .dataframe thead th {\n",
       "        text-align: right;\n",
       "    }\n",
       "</style>\n",
       "<table border=\"1\" class=\"dataframe\">\n",
       "  <thead>\n",
       "    <tr style=\"text-align: right;\">\n",
       "      <th></th>\n",
       "      <th>State</th>\n",
       "      <th>Population</th>\n",
       "      <th>month</th>\n",
       "    </tr>\n",
       "  </thead>\n",
       "  <tbody>\n",
       "    <tr>\n",
       "      <th>0</th>\n",
       "      <td>.Alabama</td>\n",
       "      <td>4860545</td>\n",
       "      <td>12</td>\n",
       "    </tr>\n",
       "    <tr>\n",
       "      <th>1</th>\n",
       "      <td>.Alaska</td>\n",
       "      <td>741522</td>\n",
       "      <td>12</td>\n",
       "    </tr>\n",
       "    <tr>\n",
       "      <th>2</th>\n",
       "      <td>.Arizona</td>\n",
       "      <td>6908642</td>\n",
       "      <td>12</td>\n",
       "    </tr>\n",
       "    <tr>\n",
       "      <th>3</th>\n",
       "      <td>.Arkansas</td>\n",
       "      <td>2988231</td>\n",
       "      <td>12</td>\n",
       "    </tr>\n",
       "    <tr>\n",
       "      <th>4</th>\n",
       "      <td>.California</td>\n",
       "      <td>39296476</td>\n",
       "      <td>12</td>\n",
       "    </tr>\n",
       "  </tbody>\n",
       "</table>\n",
       "</div>"
      ],
      "text/plain": [
       "         State  Population  month\n",
       "0     .Alabama     4860545     12\n",
       "1      .Alaska      741522     12\n",
       "2     .Arizona     6908642     12\n",
       "3    .Arkansas     2988231     12\n",
       "4  .California    39296476     12"
      ]
     },
     "execution_count": 150,
     "metadata": {},
     "output_type": "execute_result"
    }
   ],
   "source": [
    "pop_data.head()"
   ]
  },
  {
   "cell_type": "markdown",
   "metadata": {},
   "source": [
    "### Area"
   ]
  },
  {
   "cell_type": "code",
   "execution_count": 151,
   "metadata": {},
   "outputs": [],
   "source": [
    "# Assign same area for each state across months\n",
    "area_data_temp = area_data.copy()\n",
    "area_data = pd.DataFrame();\n",
    "\n",
    "for mon in range(1,13):\n",
    "    temp = area_data_temp.copy()\n",
    "    temp['month'] = mon\n",
    "    area_data = pd.concat([temp, area_data])\n",
    "    \n",
    "# Convert areas from km2 to m2\n",
    "for col in area_data.columns:\n",
    "    if 'Area' in col:\n",
    "        area_data[col] = area_data[col].apply(lambda x: float(x)*(1000**2))"
   ]
  },
  {
   "cell_type": "code",
   "execution_count": 152,
   "metadata": {},
   "outputs": [
    {
     "data": {
      "text/html": [
       "<div>\n",
       "<style scoped>\n",
       "    .dataframe tbody tr th:only-of-type {\n",
       "        vertical-align: middle;\n",
       "    }\n",
       "\n",
       "    .dataframe tbody tr th {\n",
       "        vertical-align: top;\n",
       "    }\n",
       "\n",
       "    .dataframe thead th {\n",
       "        text-align: right;\n",
       "    }\n",
       "</style>\n",
       "<table border=\"1\" class=\"dataframe\">\n",
       "  <thead>\n",
       "    <tr style=\"text-align: right;\">\n",
       "      <th></th>\n",
       "      <th>State Name</th>\n",
       "      <th>Total_Area</th>\n",
       "      <th>Land_Area</th>\n",
       "      <th>Water_Area</th>\n",
       "      <th>Water_Inland_Area</th>\n",
       "      <th>Water_Coastal_Area</th>\n",
       "      <th>Water_Great_Lakes_Area</th>\n",
       "      <th>Water_Territorial_Area</th>\n",
       "      <th>month</th>\n",
       "    </tr>\n",
       "  </thead>\n",
       "  <tbody>\n",
       "    <tr>\n",
       "      <th>0</th>\n",
       "      <td>Alabama</td>\n",
       "      <td>1.357670e+11</td>\n",
       "      <td>1.311710e+11</td>\n",
       "      <td>4.597000e+09</td>\n",
       "      <td>2.740000e+09</td>\n",
       "      <td>1.340000e+09</td>\n",
       "      <td>0.0</td>\n",
       "      <td>5.160000e+08</td>\n",
       "      <td>12</td>\n",
       "    </tr>\n",
       "    <tr>\n",
       "      <th>1</th>\n",
       "      <td>Alaska</td>\n",
       "      <td>1.723337e+12</td>\n",
       "      <td>1.477953e+12</td>\n",
       "      <td>2.453830e+11</td>\n",
       "      <td>4.999700e+10</td>\n",
       "      <td>6.764700e+10</td>\n",
       "      <td>0.0</td>\n",
       "      <td>1.277390e+11</td>\n",
       "      <td>12</td>\n",
       "    </tr>\n",
       "    <tr>\n",
       "      <th>2</th>\n",
       "      <td>Arizona</td>\n",
       "      <td>2.952340e+11</td>\n",
       "      <td>2.942070e+11</td>\n",
       "      <td>1.026000e+09</td>\n",
       "      <td>1.026000e+09</td>\n",
       "      <td>0.000000e+00</td>\n",
       "      <td>0.0</td>\n",
       "      <td>0.000000e+00</td>\n",
       "      <td>12</td>\n",
       "    </tr>\n",
       "    <tr>\n",
       "      <th>3</th>\n",
       "      <td>Arkansas</td>\n",
       "      <td>1.377320e+11</td>\n",
       "      <td>1.347710e+11</td>\n",
       "      <td>2.961000e+09</td>\n",
       "      <td>2.961000e+09</td>\n",
       "      <td>0.000000e+00</td>\n",
       "      <td>0.0</td>\n",
       "      <td>0.000000e+00</td>\n",
       "      <td>12</td>\n",
       "    </tr>\n",
       "    <tr>\n",
       "      <th>4</th>\n",
       "      <td>California</td>\n",
       "      <td>4.239670e+11</td>\n",
       "      <td>4.034660e+11</td>\n",
       "      <td>2.050100e+10</td>\n",
       "      <td>7.339000e+09</td>\n",
       "      <td>6.340000e+08</td>\n",
       "      <td>0.0</td>\n",
       "      <td>1.252800e+10</td>\n",
       "      <td>12</td>\n",
       "    </tr>\n",
       "  </tbody>\n",
       "</table>\n",
       "</div>"
      ],
      "text/plain": [
       "   State Name    Total_Area     Land_Area    Water_Area  Water_Inland_Area  \\\n",
       "0     Alabama  1.357670e+11  1.311710e+11  4.597000e+09       2.740000e+09   \n",
       "1      Alaska  1.723337e+12  1.477953e+12  2.453830e+11       4.999700e+10   \n",
       "2     Arizona  2.952340e+11  2.942070e+11  1.026000e+09       1.026000e+09   \n",
       "3    Arkansas  1.377320e+11  1.347710e+11  2.961000e+09       2.961000e+09   \n",
       "4  California  4.239670e+11  4.034660e+11  2.050100e+10       7.339000e+09   \n",
       "\n",
       "   Water_Coastal_Area  Water_Great_Lakes_Area  Water_Territorial_Area  month  \n",
       "0        1.340000e+09                     0.0            5.160000e+08     12  \n",
       "1        6.764700e+10                     0.0            1.277390e+11     12  \n",
       "2        0.000000e+00                     0.0            0.000000e+00     12  \n",
       "3        0.000000e+00                     0.0            0.000000e+00     12  \n",
       "4        6.340000e+08                     0.0            1.252800e+10     12  "
      ]
     },
     "execution_count": 152,
     "metadata": {},
     "output_type": "execute_result"
    }
   ],
   "source": [
    "area_data.head()"
   ]
  },
  {
   "cell_type": "markdown",
   "metadata": {},
   "source": [
    "### RGDP"
   ]
  },
  {
   "cell_type": "code",
   "execution_count": 153,
   "metadata": {},
   "outputs": [],
   "source": [
    "# Get RGDP from all industries\n",
    "gdp_data = gdp_data.query('IndCode == 1').drop(['Industry', 'IndCode'], axis = 1)\n",
    "\n",
    "# Drop quarterly data, keep averaged monthly data\n",
    "gdp_data = gdp_data.iloc[:,1:14].copy()\n",
    "\n",
    "# Rename area column\n",
    "gdp_data = gdp_data.rename(columns = {'Area': 'State Name'})\n",
    "\n",
    "# Melt month columns into rows\n",
    "gdp_data = gdp_data.melt(id_vars = ['State Name'], var_name = 'month', value_name = 'rgdp')\n",
    "gdp_data['month'] = pd.to_numeric(gdp_data['month'])"
   ]
  },
  {
   "cell_type": "markdown",
   "metadata": {},
   "source": [
    "# Merge Data"
   ]
  },
  {
   "cell_type": "code",
   "execution_count": 154,
   "metadata": {},
   "outputs": [],
   "source": [
    "# For solar radiation data\n",
    "data_solar_rad['State Name'] = data_solar_rad['State'].str.upper().str.strip()\n",
    "data_solar_rad = data_solar_rad.drop(['State'], axis = 1).merge(state_codes_key).drop(state_fips_indicators, axis = 1)\n",
    "\n",
    "# Pop data FIPS codes\n",
    "pop_data = pop_data.rename(columns = {'State': 'State Name'})\n",
    "pop_data['State Name'] = pop_data['State Name'].apply(lambda x: x[1:]).str.upper()\n",
    "pop_data = pop_data.merge(state_fips_key).drop(state_fips_indicators, axis = 1)\n",
    "\n",
    "# Area data FIPS codes\n",
    "area_data['State Name'] = area_data['State Name'].str.upper()\n",
    "area_data = area_data.merge(state_fips_key).drop(state_fips_indicators, axis = 1)\n",
    "\n",
    "# For temperature data\n",
    "data_cdd = data_cdd.merge(state_codes_key).drop(state_fips_indicators + ['NCDC Code'], axis = 1)\n",
    "data_hdd = data_hdd.merge(state_codes_key).drop(state_fips_indicators + ['NCDC Code'], axis = 1)\n",
    "\n",
    "# For state gdp data\n",
    "gdp_data['State Name'] = gdp_data['State Name'].str.upper()\n",
    "gdp_data = gdp_data.merge(state_fips_key).drop(state_fips_indicators, axis = 1)\n",
    "\n",
    "data_merged = data_solar_rad.merge(area_data,how = 'outer').merge(data_wind_speed, how = 'outer').merge(pop_data, how = 'outer')\n",
    "data_merged = data_merged.merge(data_cdd, how = 'outer').merge(data_hdd, how = 'outer').merge(gdp_data, how = 'outer')"
   ]
  },
  {
   "cell_type": "markdown",
   "metadata": {},
   "source": [
    "# Export Data"
   ]
  },
  {
   "cell_type": "code",
   "execution_count": 156,
   "metadata": {},
   "outputs": [],
   "source": [
    "data_merged.to_csv(data_dir + 'processed/' + 'instruments_data.csv', index = False, header = True)"
   ]
  },
  {
   "cell_type": "markdown",
   "metadata": {},
   "source": [
    "## References"
   ]
  },
  {
   "cell_type": "markdown",
   "metadata": {},
   "source": [
    "* Kalnay et al., The NCEP/NCAR 40-year reanalysis project, Bull. Amer. Meteor. Soc., 77, 437-470, 1996. [ftp://ftp.cdc.noaa.gov/Datasets/ncep.reanalysis.dailyavgs/surface/README](ftp://ftp.cdc.noaa.gov/Datasets/ncep.reanalysis.dailyavgs/surface/README)\n",
    "* US Census, Cartographic Boundary Shapefiles - Counties, 2017. https://www.census.gov/geo/maps-data/data/cbf/cbf_counties.html \n",
    "* NREL. Solar Summaries. Solar Data. https://www.nrel.gov/gis/assets/docs/solarsummaries/solarsummaries.xlsx\n",
    "* BEA, SQ1 Personal Income Summary: Personal Income, Population, Per Capita Personal Income. 2016. https://bea.gov/iTable/iTableHtml.cfm?reqid=70&step=30&isuri=1&7022=36&7023=0&7033=-1&7024=non-industry&7025=0&7026=xx&7027=2016&7001=336&7028=-1&7031=0&7040=-1&7083=levels&7029=36&7090=70\n",
    "* State Area Measurements and Internal Point Coordinates. https://www.census.gov/geo/reference/state-area.html"
   ]
  },
  {
   "cell_type": "code",
   "execution_count": null,
   "metadata": {},
   "outputs": [],
   "source": []
  }
 ],
 "metadata": {
  "kernelspec": {
   "display_name": "Python 3",
   "language": "python",
   "name": "python3"
  },
  "language_info": {
   "codemirror_mode": {
    "name": "ipython",
    "version": 3
   },
   "file_extension": ".py",
   "mimetype": "text/x-python",
   "name": "python",
   "nbconvert_exporter": "python",
   "pygments_lexer": "ipython3",
   "version": "3.5.2"
  }
 },
 "nbformat": 4,
 "nbformat_minor": 2
}
